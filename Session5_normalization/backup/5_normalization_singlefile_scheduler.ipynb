{
  "nbformat": 4,
  "nbformat_minor": 0,
  "metadata": {
    "colab": {
      "provenance": [],
      "mount_file_id": "1kzQzoFEk2v17yW_lq_anTqijxbjmCKUm",
      "authorship_tag": "ABX9TyNpH4H4PJgqdl3tAPjKYLI9",
      "include_colab_link": true
    },
    "kernelspec": {
      "name": "python3",
      "display_name": "Python 3"
    },
    "language_info": {
      "name": "python"
    },
    "gpuClass": "standard",
    "accelerator": "GPU"
  },
  "cells": [
    {
      "cell_type": "markdown",
      "metadata": {
        "id": "view-in-github",
        "colab_type": "text"
      },
      "source": [
        "<a href=\"https://colab.research.google.com/github/DimpleB0501/eva8/blob/main/Session5_normalization/backup/5_normalization_singlefile_scheduler.ipynb\" target=\"_parent\"><img src=\"https://colab.research.google.com/assets/colab-badge.svg\" alt=\"Open In Colab\"/></a>"
      ]
    },
    {
      "cell_type": "markdown",
      "source": [
        "#  Code\n"
      ],
      "metadata": {
        "id": "ubrdKSpZd1eO"
      }
    },
    {
      "cell_type": "code",
      "source": [
        "from __future__ import print_function\n",
        "import torch\n",
        "import torch.nn as nn\n",
        "import torch.nn.functional as F\n",
        "import torch.optim as optim\n",
        "from torchvision import datasets, transforms\n",
        "from torch.optim.lr_scheduler import StepLR\n",
        "import matplotlib.pyplot as plt\n",
        "import numpy as np\n",
        "import random"
      ],
      "metadata": {
        "id": "O92eJSOkd3jy"
      },
      "execution_count": 1,
      "outputs": []
    },
    {
      "cell_type": "markdown",
      "source": [
        "### Data transformations"
      ],
      "metadata": {
        "id": "MXf6f3bud7Ky"
      }
    },
    {
      "cell_type": "code",
      "source": [
        "# Train Phase transformations\n",
        "train_transforms = transforms.Compose([\n",
        "                                      #  transforms.Resize((28, 28)),\n",
        "                                      #  transforms.ColorJitter(brightness=0.10, contrast=0.1, saturation=0.10, hue=0.1),\n",
        "                                       transforms.RandomRotation(fill=(0,),degrees=(-7,7)), \n",
        "                                       transforms.ToTensor(),\n",
        "                                       transforms.Normalize((0.1307,), (0.3081,)) # The mean and std have to be sequences (e.g., tuples), therefore you should add a comma after the values. \n",
        "                                       # Note the difference between (0.1307) and (0.1307,)\n",
        "                                       ])\n",
        "\n",
        "# Test Phase transformations\n",
        "test_transforms = transforms.Compose([\n",
        "                                      #  transforms.Resize((28, 28)),\n",
        "                                      #  transforms.ColorJitter(brightness=0.10, contrast=0.1, saturation=0.10, hue=0.1),\n",
        "                                       transforms.ToTensor(),\n",
        "                                       transforms.Normalize((0.1307,), (0.3081,))\n",
        "                                       ])"
      ],
      "metadata": {
        "id": "sCG0p48kjHs2"
      },
      "execution_count": 2,
      "outputs": []
    },
    {
      "cell_type": "markdown",
      "source": [
        "##### Dataset and creating test and train data"
      ],
      "metadata": {
        "id": "933C2PD4eCsa"
      }
    },
    {
      "cell_type": "code",
      "source": [
        "train = datasets.MNIST('./data', train=True, download=True, transform=train_transforms)\n",
        "test = datasets.MNIST('./data', train=False, download=True, transform=test_transforms)"
      ],
      "metadata": {
        "id": "yud2NbYtjWP9"
      },
      "execution_count": 3,
      "outputs": []
    },
    {
      "cell_type": "markdown",
      "source": [
        "### Visualizing the dataset"
      ],
      "metadata": {
        "id": "8xKxnlQNkDcG"
      }
    },
    {
      "cell_type": "markdown",
      "source": [
        "### Dataloader arguments and test/ train dataloaders"
      ],
      "metadata": {
        "id": "BhGldKFVeR-m"
      }
    },
    {
      "cell_type": "code",
      "source": [
        "SEED = 1\n",
        "dropout_value = 0\n",
        "\n",
        "# CUDA?\n",
        "cuda = torch.cuda.is_available()\n",
        "print(\"CUDA Available?\", cuda)\n",
        "\n",
        "# For reproducibility\n",
        "torch.manual_seed(SEED)\n",
        "\n",
        "if cuda:\n",
        "    torch.cuda.manual_seed(SEED)\n",
        "\n",
        "# dataloader arguments - something you'll fetch these from cmdprmt\n",
        "dataloader_args = dict(shuffle=True, batch_size=128, num_workers=4, pin_memory=True) if cuda else dict(shuffle=True, batch_size=64)\n",
        "\n",
        "# train dataloader\n",
        "train_loader = torch.utils.data.DataLoader(train, **dataloader_args)\n",
        "\n",
        "# test dataloader\n",
        "test_loader = torch.utils.data.DataLoader(test, **dataloader_args)"
      ],
      "metadata": {
        "colab": {
          "base_uri": "https://localhost:8080/"
        },
        "id": "CuriqSkfjhgU",
        "outputId": "27111621-b1f3-4797-a58f-a8b9e02d69ba"
      },
      "execution_count": 4,
      "outputs": [
        {
          "output_type": "stream",
          "name": "stdout",
          "text": [
            "CUDA Available? True\n"
          ]
        },
        {
          "output_type": "stream",
          "name": "stderr",
          "text": [
            "/usr/local/lib/python3.8/dist-packages/torch/utils/data/dataloader.py:554: UserWarning: This DataLoader will create 4 worker processes in total. Our suggested max number of worker in current system is 2, which is smaller than what this DataLoader is going to create. Please be aware that excessive worker creation might get DataLoader running slow or even freeze, lower the worker number to avoid potential slowness/freeze if necessary.\n",
            "  warnings.warn(_create_warning_msg(\n"
          ]
        }
      ]
    },
    {
      "cell_type": "markdown",
      "source": [
        "### Model"
      ],
      "metadata": {
        "id": "2oXbEr7lec2t"
      }
    },
    {
      "cell_type": "code",
      "source": [
        "from torch.nn.modules.batchnorm import BatchNorm2d\n",
        "class Net(nn.Module):\n",
        "    def __init__(self, normalization_type = \"Batch\", group_num = 0):\n",
        "        super(Net, self).__init__()\n",
        "        # Input Block\n",
        "        self.convblock1 = self.convolution_layer (1, 8, 3, normalization_type, group_num)\n",
        "        # CONVOLUTION BLOCK \n",
        "        self.convblock2 = self.convolution_layer (8, 24,  3, normalization_type, group_num)\n",
        "\n",
        "        # TRANSITION BLOCK \n",
        "        self.transblock1 = nn.Sequential(\n",
        "            nn.Conv2d(in_channels=24, out_channels=18, kernel_size=(1, 1), padding=0, bias=False),\n",
        "            nn.ReLU(),\n",
        "        ) # ip = 24 | op = 24 | RF = \n",
        "        self.pool1 = nn.MaxPool2d(2, 2) # ip = 24 | op = 12 | RF =\n",
        "\n",
        "        # CONVOLUTION BLOCK \n",
        "        self.convblock3 = self.convolution_layer (18, 16,  3, normalization_type, group_num)\n",
        "        \n",
        "\n",
        "        # CONVOLUTION BLOCK \n",
        "        self.convblock4 = self.convolution_layer (16, 16,  3, normalization_type, group_num)\n",
        "      \n",
        "\n",
        "        # CONVOLUTION BLOCK\n",
        "        self.convblock5 = self.convolution_layer (16, 16,  3, normalization_type, group_num)\n",
        "        \n",
        "        # GAP layer\n",
        "        self.gap = nn.Sequential(\n",
        "            nn.AvgPool2d(kernel_size=6)\n",
        "        ) # ip = | op = | RF = \n",
        "\n",
        "        self.transblock2 = nn.Sequential(\n",
        "            nn.Conv2d(in_channels=16, out_channels=10, kernel_size=(1, 1), padding=0, bias=False),\n",
        "        ) # ip = 4 | op = 4 | RF = \n",
        "\n",
        "    def batchnormalization(self, output_channel_size, normalization_type = \"Batch\", group_num=0):\n",
        "      if normalization_type == \"Batch\":\n",
        "        return nn.BatchNorm2d(output_channel_size)\n",
        "      elif normalization_type == \"Layer\": # https://pytorch.org/docs/stable/generated/torch.nn.GroupNorm.html\n",
        "        return nn.GroupNorm(1, output_channel_size)\n",
        "      elif normalization_type == \"Group\":\n",
        "        return nn.GroupNorm(group_num, output_channel_size)\n",
        "\n",
        "    def convolution_layer (self, input, output, kernel_val=3, normalization_type=\"Batch\", group_num=0, dropout_val=0):\n",
        "        layer = nn.Sequential(\n",
        "                  nn.Conv2d(in_channels=input, out_channels=output, kernel_size=(kernel_val, kernel_val), padding=0, bias=False),\n",
        "                  nn.ReLU(),\n",
        "                  self.batchnormalization(output, normalization_type, group_num),\n",
        "                  nn.Dropout(dropout_value)\n",
        "                )  \n",
        "        return layer\n",
        "\n",
        "\n",
        "    def forward(self, x):\n",
        "        x = self.convblock1(x)\n",
        "        x = self.convblock2(x)\n",
        "        x = self.transblock1(x)\n",
        "        x = self.pool1(x)\n",
        "        x = self.convblock3(x)\n",
        "        x = self.convblock4(x)\n",
        "        x = self.convblock5(x)\n",
        "        x = self.gap(x)\n",
        "        x = self.transblock2(x)\n",
        "        x = x.view(-1, 10)\n",
        "        return F.log_softmax(x, dim=-1)"
      ],
      "metadata": {
        "id": "WAB10Idij-7i"
      },
      "execution_count": 5,
      "outputs": []
    },
    {
      "cell_type": "markdown",
      "source": [
        "### Model parameters"
      ],
      "metadata": {
        "id": "915bhk2wepdl"
      }
    },
    {
      "cell_type": "code",
      "source": [
        "!pip install torchsummary\n",
        "from torchsummary import summary\n",
        "use_cuda = torch.cuda.is_available()\n",
        "device = torch.device(\"cuda\" if use_cuda else \"cpu\")\n",
        "print(device)\n",
        "model = Net().to(device)\n",
        "summary(model, input_size=(1, 28, 28))"
      ],
      "metadata": {
        "colab": {
          "base_uri": "https://localhost:8080/"
        },
        "id": "IHRfQsx-kJJ4",
        "outputId": "b291e86d-864e-4506-9084-0f9170d82953"
      },
      "execution_count": 6,
      "outputs": [
        {
          "output_type": "stream",
          "name": "stdout",
          "text": [
            "Looking in indexes: https://pypi.org/simple, https://us-python.pkg.dev/colab-wheels/public/simple/\n",
            "Requirement already satisfied: torchsummary in /usr/local/lib/python3.8/dist-packages (1.5.1)\n",
            "cuda\n",
            "----------------------------------------------------------------\n",
            "        Layer (type)               Output Shape         Param #\n",
            "================================================================\n",
            "            Conv2d-1            [-1, 8, 26, 26]              72\n",
            "              ReLU-2            [-1, 8, 26, 26]               0\n",
            "       BatchNorm2d-3            [-1, 8, 26, 26]              16\n",
            "           Dropout-4            [-1, 8, 26, 26]               0\n",
            "            Conv2d-5           [-1, 24, 24, 24]           1,728\n",
            "              ReLU-6           [-1, 24, 24, 24]               0\n",
            "       BatchNorm2d-7           [-1, 24, 24, 24]              48\n",
            "           Dropout-8           [-1, 24, 24, 24]               0\n",
            "            Conv2d-9           [-1, 18, 24, 24]             432\n",
            "             ReLU-10           [-1, 18, 24, 24]               0\n",
            "        MaxPool2d-11           [-1, 18, 12, 12]               0\n",
            "           Conv2d-12           [-1, 16, 10, 10]           2,592\n",
            "             ReLU-13           [-1, 16, 10, 10]               0\n",
            "      BatchNorm2d-14           [-1, 16, 10, 10]              32\n",
            "          Dropout-15           [-1, 16, 10, 10]               0\n",
            "           Conv2d-16             [-1, 16, 8, 8]           2,304\n",
            "             ReLU-17             [-1, 16, 8, 8]               0\n",
            "      BatchNorm2d-18             [-1, 16, 8, 8]              32\n",
            "          Dropout-19             [-1, 16, 8, 8]               0\n",
            "           Conv2d-20             [-1, 16, 6, 6]           2,304\n",
            "             ReLU-21             [-1, 16, 6, 6]               0\n",
            "      BatchNorm2d-22             [-1, 16, 6, 6]              32\n",
            "          Dropout-23             [-1, 16, 6, 6]               0\n",
            "        AvgPool2d-24             [-1, 16, 1, 1]               0\n",
            "           Conv2d-25             [-1, 10, 1, 1]             160\n",
            "================================================================\n",
            "Total params: 9,752\n",
            "Trainable params: 9,752\n",
            "Non-trainable params: 0\n",
            "----------------------------------------------------------------\n",
            "Input size (MB): 0.00\n",
            "Forward/backward pass size (MB): 0.86\n",
            "Params size (MB): 0.04\n",
            "Estimated Total Size (MB): 0.90\n",
            "----------------------------------------------------------------\n"
          ]
        }
      ]
    },
    {
      "cell_type": "markdown",
      "source": [
        "# Displaying misclassified images"
      ],
      "metadata": {
        "id": "t9k4V6o4pvCq"
      }
    },
    {
      "cell_type": "code",
      "source": [
        "def test_missclassified(dataloader):\n",
        "    running_corrects = 0\n",
        "    running_loss=0\n",
        "    pred = []\n",
        "    true = []\n",
        "    pred_wrong = []\n",
        "    true_wrong = []\n",
        "    image = []\n",
        "    sm = nn.Softmax(dim = 1)\n",
        "    for batch_idx, (data, target) in enumerate(dataloader):\n",
        "        data = data.type(torch.cuda.FloatTensor)\n",
        "        target = target.type(torch.cuda.LongTensor)\n",
        "        model.eval()\n",
        "        output = model(data)\n",
        "        loss = F.nll_loss(output, target)\n",
        "        output = sm(output)\n",
        "        _, preds = torch.max(output, 1)\n",
        "        running_corrects = running_corrects + torch.sum(preds == target.data)\n",
        "        running_loss += loss.item() * data.size(0)\n",
        "        preds = preds.cpu().numpy()\n",
        "        target = target.cpu().numpy()\n",
        "        preds = np.reshape(preds,(len(preds),1))\n",
        "        target = np.reshape(target,(len(preds),1))\n",
        "        data = data.cpu().numpy()\n",
        "        \n",
        "        for i in range(len(preds)):\n",
        "            pred.append(preds[i])\n",
        "            true.append(target[i])\n",
        "            if(preds[i]!=target[i]):\n",
        "                pred_wrong.append(preds[i])\n",
        "                true_wrong.append(target[i])\n",
        "                image.append(data[i])\n",
        "    return true,pred,image,true_wrong,pred_wrong"
      ],
      "metadata": {
        "id": "rFam-Dm3p0i5"
      },
      "execution_count": 7,
      "outputs": []
    },
    {
      "cell_type": "code",
      "source": [
        "# show misclassified images\n",
        "def wrong_plot(n_figures,true,ima,pred, norm):\n",
        "    print (\"Normalization technique: \", norm)\n",
        "    #n_row = int(n_figures/3)\n",
        "    plt.figure(figsize = (20, 10))\n",
        "    for r in range(n_figures):\n",
        "      a = random.randint(0,len(true)-1)  \n",
        "      image,correct,wrong = ima[a],true[a],pred[a]\n",
        "      img_tensor = torch.from_numpy(image).unsqueeze(0).to(device)\n",
        "      image = torch.from_numpy(image).squeeze()\n",
        "      #correct = int(correct)\n",
        "      #wrong = int(wrong)\n",
        "      f = 'Actual:'+str(int(correct)) + ',' +'Predicted:'+str(int(wrong))\n",
        "      image = image.numpy()\n",
        "      \n",
        "      plt.subplot(2,5,r+1)    # the number of images in the grid is 5*5 (25)\n",
        "      im = plt.imshow(image)\n",
        "      plt.title(f)\n",
        "    plt.show()"
      ],
      "metadata": {
        "id": "cWndxT_jkR5R"
      },
      "execution_count": 8,
      "outputs": []
    },
    {
      "cell_type": "markdown",
      "source": [
        "### Training and testing"
      ],
      "metadata": {
        "id": "TJyvIgm7e2Sl"
      }
    },
    {
      "cell_type": "code",
      "metadata": {
        "id": "fbkF2nN_LYIb"
      },
      "source": [
        "from tqdm import tqdm\n",
        "\n",
        "train_losses = []\n",
        "test_losses = []\n",
        "train_acc = []\n",
        "test_acc = []\n",
        "\n",
        "def train(model, device, train_loader, optimizer, l_val, train_losses, train_acc):\n",
        "  model.train()\n",
        "  pbar = tqdm(train_loader)\n",
        "  correct = 0\n",
        "  processed = 0\n",
        "  for batch_idx, (data, target) in enumerate(pbar):\n",
        "    # get samples\n",
        "    data, target = data.to(device), target.to(device)\n",
        "\n",
        "    # Init\n",
        "    optimizer.zero_grad()\n",
        "    # In PyTorch, we need to set the gradients to zero before starting to do backpropragation because PyTorch accumulates the gradients on subsequent backward passes. \n",
        "    # Because of this, when you start your training loop, ideally you should zero out the gradients so that you do the parameter update correctly.\n",
        "\n",
        "    # Predict\n",
        "    y_pred = model(data)\n",
        "\n",
        "    # Calculate loss\n",
        "    loss = F.nll_loss(y_pred, target)\n",
        "\n",
        "    # L1 normalization\n",
        "    if l_val > 0:\n",
        "      l1 = 0\n",
        "      for p in model.parameters():\n",
        "        l1 = l1 + p.abs().sum()\n",
        "      loss = loss + l_val*l1\n",
        "    train_losses.append(loss.item())\n",
        "\n",
        "    # Backpropagation\n",
        "    loss.backward()\n",
        "    optimizer.step()\n",
        "\n",
        "    # Update pbar-tqdm\n",
        "    \n",
        "    pred = y_pred.argmax(dim=1, keepdim=True)  # get the index of the max log-probability\n",
        "    correct += pred.eq(target.view_as(pred)).sum().item()\n",
        "    processed += len(data)\n",
        "\n",
        "    pbar.set_description(desc= f'Loss={loss.item()} Batch_id={batch_idx} Accuracy={100*correct/processed:0.2f}')\n",
        "    train_acc.append(100*correct/processed)\n",
        "\n",
        "def test(model, device, test_loader, test_losses, test_acc):\n",
        "    model.eval()\n",
        "    test_loss = 0\n",
        "    correct = 0\n",
        "    with torch.no_grad():\n",
        "        for data, target in test_loader:\n",
        "            data, target = data.to(device), target.to(device)\n",
        "            output = model(data)\n",
        "            test_loss += F.nll_loss(output, target, reduction='sum').item()  # sum up batch loss\n",
        "            pred = output.argmax(dim=1, keepdim=True)  # get the index of the max log-probability\n",
        "            correct += pred.eq(target.view_as(pred)).sum().item()\n",
        "\n",
        "    test_loss /= len(test_loader.dataset)\n",
        "    test_losses.append(test_loss)\n",
        "\n",
        "    print('\\nTest set: Average loss: {:.4f}, Accuracy: {}/{} ({:.2f}%)\\n'.format(\n",
        "        test_loss, correct, len(test_loader.dataset),\n",
        "        100. * correct / len(test_loader.dataset)))\n",
        "    \n",
        "    test_acc.append(100. * correct / len(test_loader.dataset))"
      ],
      "execution_count": 9,
      "outputs": []
    },
    {
      "cell_type": "markdown",
      "source": [
        "### Train and test our model (step size = 6)\n",
        "\n",
        "---\n",
        "\n"
      ],
      "metadata": {
        "id": "nSstgUSufBl0"
      }
    },
    {
      "cell_type": "code",
      "source": [
        "def run_model(model, device, train_loader, test_loader, l_val):\n",
        "  train_losses = []\n",
        "  test_losses = []\n",
        "  train_acc = []\n",
        "  test_acc = []\n",
        "\n",
        "  optimizer = optim.SGD(model.parameters(), lr=0.01, momentum=0.9)\n",
        "  scheduler = StepLR(optimizer, step_size=6, gamma=0.1)\n",
        "\n",
        "  EPOCHS = 20\n",
        "\n",
        "  for epoch in range (EPOCHS):\n",
        "     print(\"EPOCH:\", epoch+1)\n",
        "     train(model, device, train_loader, optimizer, l_val, train_losses, train_acc)\n",
        "     scheduler.step()\n",
        "     test(model, device, test_loader, test_losses, test_acc)  \n",
        "\n",
        "  return train_losses, train_acc, test_losses, test_acc"
      ],
      "metadata": {
        "id": "ZNRMfOtvdI--"
      },
      "execution_count": 10,
      "outputs": []
    },
    {
      "cell_type": "code",
      "source": [
        "normalization_iter = [\"Batch\", \"Layer\", \"Group\"]\n",
        "num_of_groups_iter = [0, 0, 4]\n",
        "lambda_val = [0.01, 0, 0]\n",
        "\n",
        "train_losses_all=[]\n",
        "train_acc_all=[]\n",
        "test_losses_all=[]\n",
        "test_acc_all=[]\n",
        "\n",
        "for (norm, no_gps, l_val) in zip(normalization_iter, num_of_groups_iter, lambda_val):\n",
        "  print (\"Normalization type: \", norm)\n",
        "  model =  Net(normalization_type=norm, group_num = no_gps).to(device) \n",
        "  train_losses, train_acc, test_losses, test_acc = run_model(model, device, train_loader, test_loader, l_val)\n",
        "  train_losses_all.append(train_losses)\n",
        "  train_acc_all.append(train_acc)\n",
        "  test_losses_all.append(test_losses)\n",
        "  test_acc_all.append(test_acc)\n",
        "  true,pred,image,true_wrong,pred_wrong = test_missclassified(test_loader)\n",
        "  wrong_plot(10,true_wrong,image,pred_wrong, norm)\n",
        "  print (\"\\n\")"
      ],
      "metadata": {
        "colab": {
          "base_uri": "https://localhost:8080/",
          "height": 1000
        },
        "id": "kmqo68hTkgDw",
        "outputId": "c92ef304-6064-4bdc-acf5-dd0f12dbae07"
      },
      "execution_count": 11,
      "outputs": [
        {
          "output_type": "stream",
          "name": "stdout",
          "text": [
            "Normalization type:  Batch\n",
            "EPOCH: 1\n"
          ]
        },
        {
          "output_type": "stream",
          "name": "stderr",
          "text": [
            "Loss=1.7126049995422363 Batch_id=468 Accuracy=87.13: 100%|██████████| 469/469 [00:20<00:00, 22.53it/s]\n"
          ]
        },
        {
          "output_type": "stream",
          "name": "stdout",
          "text": [
            "\n",
            "Test set: Average loss: 0.4557, Accuracy: 8900/10000 (89.00%)\n",
            "\n",
            "EPOCH: 2\n"
          ]
        },
        {
          "output_type": "stream",
          "name": "stderr",
          "text": [
            "Loss=1.1601179838180542 Batch_id=468 Accuracy=93.90: 100%|██████████| 469/469 [00:20<00:00, 22.37it/s]\n"
          ]
        },
        {
          "output_type": "stream",
          "name": "stdout",
          "text": [
            "\n",
            "Test set: Average loss: 0.4276, Accuracy: 8887/10000 (88.87%)\n",
            "\n",
            "EPOCH: 3\n"
          ]
        },
        {
          "output_type": "stream",
          "name": "stderr",
          "text": [
            "Loss=1.0785216093063354 Batch_id=468 Accuracy=93.47: 100%|██████████| 469/469 [00:18<00:00, 25.18it/s]\n"
          ]
        },
        {
          "output_type": "stream",
          "name": "stdout",
          "text": [
            "\n",
            "Test set: Average loss: 0.9208, Accuracy: 7104/10000 (71.04%)\n",
            "\n",
            "EPOCH: 4\n"
          ]
        },
        {
          "output_type": "stream",
          "name": "stderr",
          "text": [
            "Loss=1.1176905632019043 Batch_id=468 Accuracy=93.63: 100%|██████████| 469/469 [00:17<00:00, 26.80it/s]\n"
          ]
        },
        {
          "output_type": "stream",
          "name": "stdout",
          "text": [
            "\n",
            "Test set: Average loss: 0.5383, Accuracy: 8402/10000 (84.02%)\n",
            "\n",
            "EPOCH: 5\n"
          ]
        },
        {
          "output_type": "stream",
          "name": "stderr",
          "text": [
            "Loss=1.1622653007507324 Batch_id=468 Accuracy=93.77: 100%|██████████| 469/469 [00:17<00:00, 26.96it/s]\n"
          ]
        },
        {
          "output_type": "stream",
          "name": "stdout",
          "text": [
            "\n",
            "Test set: Average loss: 1.8238, Accuracy: 5931/10000 (59.31%)\n",
            "\n",
            "EPOCH: 6\n"
          ]
        },
        {
          "output_type": "stream",
          "name": "stderr",
          "text": [
            "Loss=1.0576343536376953 Batch_id=468 Accuracy=93.73: 100%|██████████| 469/469 [00:17<00:00, 26.70it/s]\n"
          ]
        },
        {
          "output_type": "stream",
          "name": "stdout",
          "text": [
            "\n",
            "Test set: Average loss: 0.3751, Accuracy: 8785/10000 (87.85%)\n",
            "\n",
            "EPOCH: 7\n"
          ]
        },
        {
          "output_type": "stream",
          "name": "stderr",
          "text": [
            "Loss=0.7081200480461121 Batch_id=468 Accuracy=96.74: 100%|██████████| 469/469 [00:18<00:00, 24.78it/s]\n"
          ]
        },
        {
          "output_type": "stream",
          "name": "stdout",
          "text": [
            "\n",
            "Test set: Average loss: 0.2112, Accuracy: 9433/10000 (94.33%)\n",
            "\n",
            "EPOCH: 8\n"
          ]
        },
        {
          "output_type": "stream",
          "name": "stderr",
          "text": [
            "Loss=0.6988781690597534 Batch_id=468 Accuracy=96.55: 100%|██████████| 469/469 [00:17<00:00, 26.79it/s]\n"
          ]
        },
        {
          "output_type": "stream",
          "name": "stdout",
          "text": [
            "\n",
            "Test set: Average loss: 0.1379, Accuracy: 9628/10000 (96.28%)\n",
            "\n",
            "EPOCH: 9\n"
          ]
        },
        {
          "output_type": "stream",
          "name": "stderr",
          "text": [
            "Loss=0.7016391754150391 Batch_id=468 Accuracy=96.50: 100%|██████████| 469/469 [00:17<00:00, 26.67it/s]\n"
          ]
        },
        {
          "output_type": "stream",
          "name": "stdout",
          "text": [
            "\n",
            "Test set: Average loss: 0.2301, Accuracy: 9361/10000 (93.61%)\n",
            "\n",
            "EPOCH: 10\n"
          ]
        },
        {
          "output_type": "stream",
          "name": "stderr",
          "text": [
            "Loss=0.7036967873573303 Batch_id=468 Accuracy=96.49: 100%|██████████| 469/469 [00:17<00:00, 26.60it/s]\n"
          ]
        },
        {
          "output_type": "stream",
          "name": "stdout",
          "text": [
            "\n",
            "Test set: Average loss: 0.1504, Accuracy: 9587/10000 (95.87%)\n",
            "\n",
            "EPOCH: 11\n"
          ]
        },
        {
          "output_type": "stream",
          "name": "stderr",
          "text": [
            "Loss=0.6596378087997437 Batch_id=468 Accuracy=96.54: 100%|██████████| 469/469 [00:17<00:00, 26.68it/s]\n"
          ]
        },
        {
          "output_type": "stream",
          "name": "stdout",
          "text": [
            "\n",
            "Test set: Average loss: 0.1230, Accuracy: 9688/10000 (96.88%)\n",
            "\n",
            "EPOCH: 12\n"
          ]
        },
        {
          "output_type": "stream",
          "name": "stderr",
          "text": [
            "Loss=0.7105838060379028 Batch_id=468 Accuracy=96.58: 100%|██████████| 469/469 [00:18<00:00, 25.19it/s]\n"
          ]
        },
        {
          "output_type": "stream",
          "name": "stdout",
          "text": [
            "\n",
            "Test set: Average loss: 0.1738, Accuracy: 9501/10000 (95.01%)\n",
            "\n",
            "EPOCH: 13\n"
          ]
        },
        {
          "output_type": "stream",
          "name": "stderr",
          "text": [
            "Loss=0.6066449880599976 Batch_id=468 Accuracy=97.67: 100%|██████████| 469/469 [00:17<00:00, 26.50it/s]\n"
          ]
        },
        {
          "output_type": "stream",
          "name": "stdout",
          "text": [
            "\n",
            "Test set: Average loss: 0.0788, Accuracy: 9825/10000 (98.25%)\n",
            "\n",
            "EPOCH: 14\n"
          ]
        },
        {
          "output_type": "stream",
          "name": "stderr",
          "text": [
            "Loss=0.6264593601226807 Batch_id=468 Accuracy=97.67: 100%|██████████| 469/469 [00:17<00:00, 26.69it/s]\n"
          ]
        },
        {
          "output_type": "stream",
          "name": "stdout",
          "text": [
            "\n",
            "Test set: Average loss: 0.0794, Accuracy: 9834/10000 (98.34%)\n",
            "\n",
            "EPOCH: 15\n"
          ]
        },
        {
          "output_type": "stream",
          "name": "stderr",
          "text": [
            "Loss=0.6522443294525146 Batch_id=468 Accuracy=97.72: 100%|██████████| 469/469 [00:17<00:00, 26.58it/s]\n"
          ]
        },
        {
          "output_type": "stream",
          "name": "stdout",
          "text": [
            "\n",
            "Test set: Average loss: 0.0764, Accuracy: 9842/10000 (98.42%)\n",
            "\n",
            "EPOCH: 16\n"
          ]
        },
        {
          "output_type": "stream",
          "name": "stderr",
          "text": [
            "Loss=0.663791298866272 Batch_id=468 Accuracy=97.75: 100%|██████████| 469/469 [00:17<00:00, 26.65it/s]\n"
          ]
        },
        {
          "output_type": "stream",
          "name": "stdout",
          "text": [
            "\n",
            "Test set: Average loss: 0.0773, Accuracy: 9836/10000 (98.36%)\n",
            "\n",
            "EPOCH: 17\n"
          ]
        },
        {
          "output_type": "stream",
          "name": "stderr",
          "text": [
            "Loss=0.68157958984375 Batch_id=468 Accuracy=97.64: 100%|██████████| 469/469 [00:17<00:00, 26.86it/s]\n"
          ]
        },
        {
          "output_type": "stream",
          "name": "stdout",
          "text": [
            "\n",
            "Test set: Average loss: 0.0810, Accuracy: 9816/10000 (98.16%)\n",
            "\n",
            "EPOCH: 18\n"
          ]
        },
        {
          "output_type": "stream",
          "name": "stderr",
          "text": [
            "Loss=0.6594368815422058 Batch_id=468 Accuracy=97.69: 100%|██████████| 469/469 [00:17<00:00, 26.61it/s]\n"
          ]
        },
        {
          "output_type": "stream",
          "name": "stdout",
          "text": [
            "\n",
            "Test set: Average loss: 0.0851, Accuracy: 9812/10000 (98.12%)\n",
            "\n",
            "EPOCH: 19\n"
          ]
        },
        {
          "output_type": "stream",
          "name": "stderr",
          "text": [
            "Loss=0.6339744329452515 Batch_id=468 Accuracy=97.86: 100%|██████████| 469/469 [00:17<00:00, 26.73it/s]\n"
          ]
        },
        {
          "output_type": "stream",
          "name": "stdout",
          "text": [
            "\n",
            "Test set: Average loss: 0.0740, Accuracy: 9844/10000 (98.44%)\n",
            "\n",
            "EPOCH: 20\n"
          ]
        },
        {
          "output_type": "stream",
          "name": "stderr",
          "text": [
            "Loss=0.6693905591964722 Batch_id=468 Accuracy=97.99: 100%|██████████| 469/469 [00:17<00:00, 26.39it/s]\n"
          ]
        },
        {
          "output_type": "stream",
          "name": "stdout",
          "text": [
            "\n",
            "Test set: Average loss: 0.0726, Accuracy: 9846/10000 (98.46%)\n",
            "\n",
            "Normalization technique:  Batch\n"
          ]
        },
        {
          "output_type": "display_data",
          "data": {
            "text/plain": [
              "<Figure size 1440x720 with 10 Axes>"
            ],
            "image/png": "[encoded data removed]"
          },
          "metadata": {
            "needs_background": "light"
          }
        },
        {
          "output_type": "stream",
          "name": "stdout",
          "text": [
            "\n",
            "\n",
            "Normalization type:  Layer\n",
            "EPOCH: 1\n"
          ]
        },
        {
          "output_type": "stream",
          "name": "stderr",
          "text": [
            "Loss=0.11034958809614182 Batch_id=468 Accuracy=86.73: 100%|██████████| 469/469 [00:18<00:00, 26.04it/s]\n"
          ]
        },
        {
          "output_type": "stream",
          "name": "stdout",
          "text": [
            "\n",
            "Test set: Average loss: 0.0962, Accuracy: 9770/10000 (97.70%)\n",
            "\n",
            "EPOCH: 2\n"
          ]
        },
        {
          "output_type": "stream",
          "name": "stderr",
          "text": [
            "Loss=0.030553651973605156 Batch_id=468 Accuracy=97.38: 100%|██████████| 469/469 [00:16<00:00, 27.67it/s]\n"
          ]
        },
        {
          "output_type": "stream",
          "name": "stdout",
          "text": [
            "\n",
            "Test set: Average loss: 0.0585, Accuracy: 9848/10000 (98.48%)\n",
            "\n",
            "EPOCH: 3\n"
          ]
        },
        {
          "output_type": "stream",
          "name": "stderr",
          "text": [
            "Loss=0.03252578154206276 Batch_id=468 Accuracy=98.13: 100%|██████████| 469/469 [00:17<00:00, 27.52it/s]\n"
          ]
        },
        {
          "output_type": "stream",
          "name": "stdout",
          "text": [
            "\n",
            "Test set: Average loss: 0.0476, Accuracy: 9865/10000 (98.65%)\n",
            "\n",
            "EPOCH: 4\n"
          ]
        },
        {
          "output_type": "stream",
          "name": "stderr",
          "text": [
            "Loss=0.04228583350777626 Batch_id=468 Accuracy=98.43: 100%|██████████| 469/469 [00:17<00:00, 27.18it/s]\n"
          ]
        },
        {
          "output_type": "stream",
          "name": "stdout",
          "text": [
            "\n",
            "Test set: Average loss: 0.0421, Accuracy: 9877/10000 (98.77%)\n",
            "\n",
            "EPOCH: 5\n"
          ]
        },
        {
          "output_type": "stream",
          "name": "stderr",
          "text": [
            "Loss=0.02558843232691288 Batch_id=468 Accuracy=98.58: 100%|██████████| 469/469 [00:17<00:00, 27.14it/s]\n"
          ]
        },
        {
          "output_type": "stream",
          "name": "stdout",
          "text": [
            "\n",
            "Test set: Average loss: 0.0435, Accuracy: 9867/10000 (98.67%)\n",
            "\n",
            "EPOCH: 6\n"
          ]
        },
        {
          "output_type": "stream",
          "name": "stderr",
          "text": [
            "Loss=0.05542841553688049 Batch_id=468 Accuracy=98.67: 100%|██████████| 469/469 [00:17<00:00, 27.35it/s]\n"
          ]
        },
        {
          "output_type": "stream",
          "name": "stdout",
          "text": [
            "\n",
            "Test set: Average loss: 0.0324, Accuracy: 9904/10000 (99.04%)\n",
            "\n",
            "EPOCH: 7\n"
          ]
        },
        {
          "output_type": "stream",
          "name": "stderr",
          "text": [
            "Loss=0.054848264902830124 Batch_id=468 Accuracy=99.10: 100%|██████████| 469/469 [00:17<00:00, 27.16it/s]\n"
          ]
        },
        {
          "output_type": "stream",
          "name": "stdout",
          "text": [
            "\n",
            "Test set: Average loss: 0.0255, Accuracy: 9926/10000 (99.26%)\n",
            "\n",
            "EPOCH: 8\n"
          ]
        },
        {
          "output_type": "stream",
          "name": "stderr",
          "text": [
            "Loss=0.02794981561601162 Batch_id=468 Accuracy=99.19: 100%|██████████| 469/469 [00:17<00:00, 27.14it/s]\n"
          ]
        },
        {
          "output_type": "stream",
          "name": "stdout",
          "text": [
            "\n",
            "Test set: Average loss: 0.0258, Accuracy: 9918/10000 (99.18%)\n",
            "\n",
            "EPOCH: 9\n"
          ]
        },
        {
          "output_type": "stream",
          "name": "stderr",
          "text": [
            "Loss=0.029376817867159843 Batch_id=468 Accuracy=99.21: 100%|██████████| 469/469 [00:17<00:00, 27.11it/s]\n"
          ]
        },
        {
          "output_type": "stream",
          "name": "stdout",
          "text": [
            "\n",
            "Test set: Average loss: 0.0252, Accuracy: 9918/10000 (99.18%)\n",
            "\n",
            "EPOCH: 10\n"
          ]
        },
        {
          "output_type": "stream",
          "name": "stderr",
          "text": [
            "Loss=0.051538437604904175 Batch_id=468 Accuracy=99.19: 100%|██████████| 469/469 [00:17<00:00, 27.29it/s]\n"
          ]
        },
        {
          "output_type": "stream",
          "name": "stdout",
          "text": [
            "\n",
            "Test set: Average loss: 0.0250, Accuracy: 9921/10000 (99.21%)\n",
            "\n",
            "EPOCH: 11\n"
          ]
        },
        {
          "output_type": "stream",
          "name": "stderr",
          "text": [
            "Loss=0.02791629172861576 Batch_id=468 Accuracy=99.24: 100%|██████████| 469/469 [00:17<00:00, 26.77it/s]\n"
          ]
        },
        {
          "output_type": "stream",
          "name": "stdout",
          "text": [
            "\n",
            "Test set: Average loss: 0.0247, Accuracy: 9927/10000 (99.27%)\n",
            "\n",
            "EPOCH: 12\n"
          ]
        },
        {
          "output_type": "stream",
          "name": "stderr",
          "text": [
            "Loss=0.007429004181176424 Batch_id=468 Accuracy=99.22: 100%|██████████| 469/469 [00:17<00:00, 27.18it/s]\n"
          ]
        },
        {
          "output_type": "stream",
          "name": "stdout",
          "text": [
            "\n",
            "Test set: Average loss: 0.0259, Accuracy: 9924/10000 (99.24%)\n",
            "\n",
            "EPOCH: 13\n"
          ]
        },
        {
          "output_type": "stream",
          "name": "stderr",
          "text": [
            "Loss=0.022147120907902718 Batch_id=468 Accuracy=99.23: 100%|██████████| 469/469 [00:17<00:00, 27.37it/s]\n"
          ]
        },
        {
          "output_type": "stream",
          "name": "stdout",
          "text": [
            "\n",
            "Test set: Average loss: 0.0242, Accuracy: 9924/10000 (99.24%)\n",
            "\n",
            "EPOCH: 14\n"
          ]
        },
        {
          "output_type": "stream",
          "name": "stderr",
          "text": [
            "Loss=0.0033703160006552935 Batch_id=468 Accuracy=99.29: 100%|██████████| 469/469 [00:17<00:00, 27.29it/s]\n"
          ]
        },
        {
          "output_type": "stream",
          "name": "stdout",
          "text": [
            "\n",
            "Test set: Average loss: 0.0241, Accuracy: 9925/10000 (99.25%)\n",
            "\n",
            "EPOCH: 15\n"
          ]
        },
        {
          "output_type": "stream",
          "name": "stderr",
          "text": [
            "Loss=0.004055196885019541 Batch_id=468 Accuracy=99.26: 100%|██████████| 469/469 [00:17<00:00, 27.53it/s]\n"
          ]
        },
        {
          "output_type": "stream",
          "name": "stdout",
          "text": [
            "\n",
            "Test set: Average loss: 0.0240, Accuracy: 9925/10000 (99.25%)\n",
            "\n",
            "EPOCH: 16\n"
          ]
        },
        {
          "output_type": "stream",
          "name": "stderr",
          "text": [
            "Loss=0.006543159019201994 Batch_id=468 Accuracy=99.31: 100%|██████████| 469/469 [00:17<00:00, 27.33it/s]\n"
          ]
        },
        {
          "output_type": "stream",
          "name": "stdout",
          "text": [
            "\n",
            "Test set: Average loss: 0.0240, Accuracy: 9926/10000 (99.26%)\n",
            "\n",
            "EPOCH: 17\n"
          ]
        },
        {
          "output_type": "stream",
          "name": "stderr",
          "text": [
            "Loss=0.01468032505363226 Batch_id=468 Accuracy=99.23: 100%|██████████| 469/469 [00:17<00:00, 26.89it/s]\n"
          ]
        },
        {
          "output_type": "stream",
          "name": "stdout",
          "text": [
            "\n",
            "Test set: Average loss: 0.0240, Accuracy: 9925/10000 (99.25%)\n",
            "\n",
            "EPOCH: 18\n"
          ]
        },
        {
          "output_type": "stream",
          "name": "stderr",
          "text": [
            "Loss=0.00611400231719017 Batch_id=468 Accuracy=99.27: 100%|██████████| 469/469 [00:17<00:00, 26.94it/s]\n"
          ]
        },
        {
          "output_type": "stream",
          "name": "stdout",
          "text": [
            "\n",
            "Test set: Average loss: 0.0242, Accuracy: 9926/10000 (99.26%)\n",
            "\n",
            "EPOCH: 19\n"
          ]
        },
        {
          "output_type": "stream",
          "name": "stderr",
          "text": [
            "Loss=0.009215299040079117 Batch_id=468 Accuracy=99.29: 100%|██████████| 469/469 [00:17<00:00, 27.10it/s]\n"
          ]
        },
        {
          "output_type": "stream",
          "name": "stdout",
          "text": [
            "\n",
            "Test set: Average loss: 0.0241, Accuracy: 9926/10000 (99.26%)\n",
            "\n",
            "EPOCH: 20\n"
          ]
        },
        {
          "output_type": "stream",
          "name": "stderr",
          "text": [
            "Loss=0.013200145214796066 Batch_id=468 Accuracy=99.30: 100%|██████████| 469/469 [00:18<00:00, 25.32it/s]\n"
          ]
        },
        {
          "output_type": "stream",
          "name": "stdout",
          "text": [
            "\n",
            "Test set: Average loss: 0.0241, Accuracy: 9926/10000 (99.26%)\n",
            "\n",
            "Normalization technique:  Layer\n"
          ]
        },
        {
          "output_type": "display_data",
          "data": {
            "text/plain": [
              "<Figure size 1440x720 with 10 Axes>"
            ],
            "image/png": "[encoded data removed]"
          },
          "metadata": {
            "needs_background": "light"
          }
        },
        {
          "output_type": "stream",
          "name": "stdout",
          "text": [
            "\n",
            "\n",
            "Normalization type:  Group\n",
            "EPOCH: 1\n"
          ]
        },
        {
          "output_type": "stream",
          "name": "stderr",
          "text": [
            "Loss=0.05995025858283043 Batch_id=468 Accuracy=85.39: 100%|██████████| 469/469 [00:17<00:00, 27.19it/s]\n"
          ]
        },
        {
          "output_type": "stream",
          "name": "stdout",
          "text": [
            "\n",
            "Test set: Average loss: 0.1032, Accuracy: 9730/10000 (97.30%)\n",
            "\n",
            "EPOCH: 2\n"
          ]
        },
        {
          "output_type": "stream",
          "name": "stderr",
          "text": [
            "Loss=0.07484123855829239 Batch_id=468 Accuracy=97.20: 100%|██████████| 469/469 [00:17<00:00, 26.79it/s]\n"
          ]
        },
        {
          "output_type": "stream",
          "name": "stdout",
          "text": [
            "\n",
            "Test set: Average loss: 0.0620, Accuracy: 9825/10000 (98.25%)\n",
            "\n",
            "EPOCH: 3\n"
          ]
        },
        {
          "output_type": "stream",
          "name": "stderr",
          "text": [
            "Loss=0.05794182047247887 Batch_id=468 Accuracy=98.02: 100%|██████████| 469/469 [00:17<00:00, 26.86it/s]\n"
          ]
        },
        {
          "output_type": "stream",
          "name": "stdout",
          "text": [
            "\n",
            "Test set: Average loss: 0.0417, Accuracy: 9890/10000 (98.90%)\n",
            "\n",
            "EPOCH: 4\n"
          ]
        },
        {
          "output_type": "stream",
          "name": "stderr",
          "text": [
            "Loss=0.01950985938310623 Batch_id=468 Accuracy=98.42: 100%|██████████| 469/469 [00:17<00:00, 26.83it/s]\n"
          ]
        },
        {
          "output_type": "stream",
          "name": "stdout",
          "text": [
            "\n",
            "Test set: Average loss: 0.0497, Accuracy: 9851/10000 (98.51%)\n",
            "\n",
            "EPOCH: 5\n"
          ]
        },
        {
          "output_type": "stream",
          "name": "stderr",
          "text": [
            "Loss=0.048660386353731155 Batch_id=468 Accuracy=98.56: 100%|██████████| 469/469 [00:17<00:00, 26.79it/s]\n"
          ]
        },
        {
          "output_type": "stream",
          "name": "stdout",
          "text": [
            "\n",
            "Test set: Average loss: 0.0362, Accuracy: 9887/10000 (98.87%)\n",
            "\n",
            "EPOCH: 6\n"
          ]
        },
        {
          "output_type": "stream",
          "name": "stderr",
          "text": [
            "Loss=0.050176605582237244 Batch_id=468 Accuracy=98.78: 100%|██████████| 469/469 [00:17<00:00, 26.91it/s]\n"
          ]
        },
        {
          "output_type": "stream",
          "name": "stdout",
          "text": [
            "\n",
            "Test set: Average loss: 0.0338, Accuracy: 9902/10000 (99.02%)\n",
            "\n",
            "EPOCH: 7\n"
          ]
        },
        {
          "output_type": "stream",
          "name": "stderr",
          "text": [
            "Loss=0.07131302356719971 Batch_id=468 Accuracy=99.14: 100%|██████████| 469/469 [00:17<00:00, 26.97it/s]\n"
          ]
        },
        {
          "output_type": "stream",
          "name": "stdout",
          "text": [
            "\n",
            "Test set: Average loss: 0.0254, Accuracy: 9920/10000 (99.20%)\n",
            "\n",
            "EPOCH: 8\n"
          ]
        },
        {
          "output_type": "stream",
          "name": "stderr",
          "text": [
            "Loss=0.01021797489374876 Batch_id=468 Accuracy=99.19: 100%|██████████| 469/469 [00:17<00:00, 27.03it/s]\n"
          ]
        },
        {
          "output_type": "stream",
          "name": "stdout",
          "text": [
            "\n",
            "Test set: Average loss: 0.0253, Accuracy: 9921/10000 (99.21%)\n",
            "\n",
            "EPOCH: 9\n"
          ]
        },
        {
          "output_type": "stream",
          "name": "stderr",
          "text": [
            "Loss=0.02137516625225544 Batch_id=468 Accuracy=99.24: 100%|██████████| 469/469 [00:18<00:00, 25.58it/s]\n"
          ]
        },
        {
          "output_type": "stream",
          "name": "stdout",
          "text": [
            "\n",
            "Test set: Average loss: 0.0245, Accuracy: 9923/10000 (99.23%)\n",
            "\n",
            "EPOCH: 10\n"
          ]
        },
        {
          "output_type": "stream",
          "name": "stderr",
          "text": [
            "Loss=0.03425223007798195 Batch_id=468 Accuracy=99.26: 100%|██████████| 469/469 [00:17<00:00, 26.84it/s]\n"
          ]
        },
        {
          "output_type": "stream",
          "name": "stdout",
          "text": [
            "\n",
            "Test set: Average loss: 0.0253, Accuracy: 9922/10000 (99.22%)\n",
            "\n",
            "EPOCH: 11\n"
          ]
        },
        {
          "output_type": "stream",
          "name": "stderr",
          "text": [
            "Loss=0.042457595467567444 Batch_id=468 Accuracy=99.23: 100%|██████████| 469/469 [00:17<00:00, 26.85it/s]\n"
          ]
        },
        {
          "output_type": "stream",
          "name": "stdout",
          "text": [
            "\n",
            "Test set: Average loss: 0.0253, Accuracy: 9923/10000 (99.23%)\n",
            "\n",
            "EPOCH: 12\n"
          ]
        },
        {
          "output_type": "stream",
          "name": "stderr",
          "text": [
            "Loss=0.005971315782517195 Batch_id=468 Accuracy=99.29: 100%|██████████| 469/469 [00:17<00:00, 26.88it/s]\n"
          ]
        },
        {
          "output_type": "stream",
          "name": "stdout",
          "text": [
            "\n",
            "Test set: Average loss: 0.0245, Accuracy: 9924/10000 (99.24%)\n",
            "\n",
            "EPOCH: 13\n"
          ]
        },
        {
          "output_type": "stream",
          "name": "stderr",
          "text": [
            "Loss=0.07360679656267166 Batch_id=468 Accuracy=99.29: 100%|██████████| 469/469 [00:17<00:00, 26.83it/s]\n"
          ]
        },
        {
          "output_type": "stream",
          "name": "stdout",
          "text": [
            "\n",
            "Test set: Average loss: 0.0247, Accuracy: 9922/10000 (99.22%)\n",
            "\n",
            "EPOCH: 14\n"
          ]
        },
        {
          "output_type": "stream",
          "name": "stderr",
          "text": [
            "Loss=0.005238575395196676 Batch_id=468 Accuracy=99.33: 100%|██████████| 469/469 [00:17<00:00, 27.03it/s]\n"
          ]
        },
        {
          "output_type": "stream",
          "name": "stdout",
          "text": [
            "\n",
            "Test set: Average loss: 0.0245, Accuracy: 9919/10000 (99.19%)\n",
            "\n",
            "EPOCH: 15\n"
          ]
        },
        {
          "output_type": "stream",
          "name": "stderr",
          "text": [
            "Loss=0.021508678793907166 Batch_id=468 Accuracy=99.37: 100%|██████████| 469/469 [00:17<00:00, 27.05it/s]\n"
          ]
        },
        {
          "output_type": "stream",
          "name": "stdout",
          "text": [
            "\n",
            "Test set: Average loss: 0.0243, Accuracy: 9923/10000 (99.23%)\n",
            "\n",
            "EPOCH: 16\n"
          ]
        },
        {
          "output_type": "stream",
          "name": "stderr",
          "text": [
            "Loss=0.019165528938174248 Batch_id=468 Accuracy=99.35: 100%|██████████| 469/469 [00:17<00:00, 26.90it/s]\n"
          ]
        },
        {
          "output_type": "stream",
          "name": "stdout",
          "text": [
            "\n",
            "Test set: Average loss: 0.0245, Accuracy: 9922/10000 (99.22%)\n",
            "\n",
            "EPOCH: 17\n"
          ]
        },
        {
          "output_type": "stream",
          "name": "stderr",
          "text": [
            "Loss=0.003805914195254445 Batch_id=468 Accuracy=99.34: 100%|██████████| 469/469 [00:17<00:00, 26.85it/s]\n"
          ]
        },
        {
          "output_type": "stream",
          "name": "stdout",
          "text": [
            "\n",
            "Test set: Average loss: 0.0242, Accuracy: 9923/10000 (99.23%)\n",
            "\n",
            "EPOCH: 18\n"
          ]
        },
        {
          "output_type": "stream",
          "name": "stderr",
          "text": [
            "Loss=0.005839398596435785 Batch_id=468 Accuracy=99.31: 100%|██████████| 469/469 [00:17<00:00, 27.03it/s]\n"
          ]
        },
        {
          "output_type": "stream",
          "name": "stdout",
          "text": [
            "\n",
            "Test set: Average loss: 0.0243, Accuracy: 9924/10000 (99.24%)\n",
            "\n",
            "EPOCH: 19\n"
          ]
        },
        {
          "output_type": "stream",
          "name": "stderr",
          "text": [
            "Loss=0.04206874966621399 Batch_id=468 Accuracy=99.35: 100%|██████████| 469/469 [00:18<00:00, 25.33it/s]\n"
          ]
        },
        {
          "output_type": "stream",
          "name": "stdout",
          "text": [
            "\n",
            "Test set: Average loss: 0.0243, Accuracy: 9922/10000 (99.22%)\n",
            "\n",
            "EPOCH: 20\n"
          ]
        },
        {
          "output_type": "stream",
          "name": "stderr",
          "text": [
            "Loss=0.06955934315919876 Batch_id=468 Accuracy=99.34: 100%|██████████| 469/469 [00:17<00:00, 27.16it/s]\n"
          ]
        },
        {
          "output_type": "stream",
          "name": "stdout",
          "text": [
            "\n",
            "Test set: Average loss: 0.0242, Accuracy: 9922/10000 (99.22%)\n",
            "\n",
            "Normalization technique:  Group\n"
          ]
        },
        {
          "output_type": "display_data",
          "data": {
            "text/plain": [
              "<Figure size 1440x720 with 10 Axes>"
            ],
            "image/png": "[encoded data removed]"
          },
          "metadata": {
            "needs_background": "light"
          }
        },
        {
          "output_type": "stream",
          "name": "stdout",
          "text": [
            "\n",
            "\n"
          ]
        }
      ]
    },
    {
      "cell_type": "markdown",
      "source": [
        "### Plotting"
      ],
      "metadata": {
        "id": "yFiFJBYTfPNs"
      }
    },
    {
      "cell_type": "code",
      "source": [
        "fig, axs = plt.subplots(2,2,figsize=(25,15))\n",
        "for i, norm_type in enumerate(normalization_iter):\n",
        "\n",
        "      axs[0, 0].set_title(\"Training Loss\")\n",
        "      axs[1, 0].set_title(\"Training Accuracy\")\n",
        "      axs[0, 1].set_title(\"Test Loss\")\n",
        "      axs[1, 1].set_title(\"Test Accuracy\")\n",
        "\n",
        "      axs[0, 0].plot(train_losses_all[i], label = norm_type + \" Normalization\")\n",
        "      axs[0,0].legend(loc='upper right')\n",
        "  \n",
        "\n",
        "      axs[1, 0].plot(train_acc_all[i], label = norm_type + \" Normalization\")\n",
        "      axs[1,0].legend(loc='lower right')\n",
        "\n",
        "\n",
        "      axs[0, 1].plot(test_losses_all[i], label = norm_type + \" Normalization\")\n",
        "      axs[0,1].legend(loc='upper right')\n",
        "\n",
        "\n",
        "      axs[1, 1].plot(test_acc_all[i], label = norm_type + \" Normalization\")\n",
        "      axs[1,1].legend(loc='lower right')"
      ],
      "metadata": {
        "id": "jsb9qDW5kmRD",
        "colab": {
          "base_uri": "https://localhost:8080/",
          "height": 879
        },
        "outputId": "46d3d90e-3171-4cfb-af0c-5c6bb374390f"
      },
      "execution_count": 12,
      "outputs": [
        {
          "output_type": "display_data",
          "data": {
            "text/plain": [
              "<Figure size 1800x1080 with 4 Axes>"
            ],
            "image/png": "[encoded data removed]"
          },
          "metadata": {
            "needs_background": "light"
          }
        }
      ]
    }
  ]
}