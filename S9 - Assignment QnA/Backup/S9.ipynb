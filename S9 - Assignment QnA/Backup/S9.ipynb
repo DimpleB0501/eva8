{
  "cells": [
    {
      "cell_type": "markdown",
      "metadata": {
        "id": "view-in-github",
        "colab_type": "text"
      },
      "source": [
        "<a href=\"https://colab.research.google.com/github/DimpleB0501/eva8/blob/main/S9%20-%20Assignment%20QnA/Backup/S9.ipynb\" target=\"_parent\"><img src=\"https://colab.research.google.com/assets/colab-badge.svg\" alt=\"Open In Colab\"/></a>"
      ]
    },
    {
      "cell_type": "code",
      "execution_count": 1,
      "metadata": {
        "id": "QVbdg0z4poCc"
      },
      "outputs": [],
      "source": [
        "%matplotlib inline"
      ]
    },
    {
      "cell_type": "code",
      "execution_count": 2,
      "metadata": {
        "id": "-yVpodAMpoCi"
      },
      "outputs": [],
      "source": [
        "import torch\n",
        "import torch.nn as nn\n",
        "import torch.nn.functional as F\n",
        "import torchvision\n",
        "import torchvision.transforms as transforms\n",
        "from tqdm import tqdm"
      ]
    },
    {
      "cell_type": "markdown",
      "metadata": {
        "id": "UJmyQBDnDPYL"
      },
      "source": [
        "# GPU Check"
      ]
    },
    {
      "cell_type": "code",
      "execution_count": 3,
      "metadata": {
        "colab": {
          "base_uri": "https://localhost:8080/"
        },
        "id": "5VOqljhjDRhK",
        "outputId": "ac0d6252-6096-4ac6-c67c-b5df40d95fda"
      },
      "outputs": [
        {
          "output_type": "stream",
          "name": "stdout",
          "text": [
            "CUDA Available? True\n"
          ]
        }
      ],
      "source": [
        "SEED = 1\n",
        "# CUDA?\n",
        "cuda = torch.cuda.is_available()\n",
        "print(\"CUDA Available?\", cuda)\n",
        "\n",
        "# For reproducibility\n",
        "torch.manual_seed(SEED)\n",
        "\n",
        "if cuda:\n",
        "    torch.cuda.manual_seed(SEED)"
      ]
    },
    {
      "cell_type": "markdown",
      "metadata": {
        "id": "5kjt4e2TpoCk"
      },
      "source": [
        "The output of torchvision datasets are PILImage images of range [0, 1].\n",
        "We transform them to Tensors of normalized range [-1, 1].\n",
        "\n"
      ]
    },
    {
      "cell_type": "markdown",
      "metadata": {
        "id": "-pstuQsR4xy5"
      },
      "source": [
        "# Ablumentations library\n"
      ]
    },
    {
      "cell_type": "code",
      "execution_count": 4,
      "metadata": {
        "colab": {
          "base_uri": "https://localhost:8080/"
        },
        "id": "Q7jVHOWgDE1o",
        "outputId": "f73a5e37-53a0-4913-92fd-9d14d9c11fe5"
      },
      "outputs": [
        {
          "output_type": "stream",
          "name": "stdout",
          "text": [
            "Looking in indexes: https://pypi.org/simple, https://us-python.pkg.dev/colab-wheels/public/simple/\n",
            "Requirement already satisfied: torchscan in /usr/local/lib/python3.8/dist-packages (0.1.2)\n",
            "Requirement already satisfied: torch<2.0.0,>=1.5.0 in /usr/local/lib/python3.8/dist-packages (from torchscan) (1.13.1+cu116)\n",
            "Requirement already satisfied: typing-extensions in /usr/local/lib/python3.8/dist-packages (from torch<2.0.0,>=1.5.0->torchscan) (4.5.0)\n"
          ]
        }
      ],
      "source": [
        "# Import dependencies\n",
        "!!pip install --upgrade albumentations\n",
        "!pip install torchscan"
      ]
    },
    {
      "cell_type": "code",
      "execution_count": 5,
      "metadata": {
        "id": "MoImO7nV5187"
      },
      "outputs": [],
      "source": [
        "import albumentations as A\n",
        "from albumentations.pytorch import ToTensorV2\n",
        "import copy\n",
        "import random\n",
        "import matplotlib.pyplot as plt"
      ]
    },
    {
      "cell_type": "code",
      "execution_count": 6,
      "metadata": {
        "id": "BdIKIsJye-8P"
      },
      "outputs": [],
      "source": [
        "classes = ('plane', 'car', 'bird', 'cat',\n",
        "           'deer', 'dog', 'frog', 'horse', 'ship', 'truck')"
      ]
    },
    {
      "cell_type": "code",
      "execution_count": 7,
      "metadata": {
        "id": "d2pr9zJ8fHZL"
      },
      "outputs": [],
      "source": [
        "batchsize = 512"
      ]
    },
    {
      "cell_type": "code",
      "execution_count": 8,
      "metadata": {
        "id": "fZKCc8WlebaJ"
      },
      "outputs": [],
      "source": [
        "def data_param ():\n",
        "    cifar_trainset = torchvision.datasets.CIFAR10(root='./data', train=True, download=True)\n",
        "    data = cifar_trainset.data / 255 # data is numpy array\n",
        "    mean = data.mean(axis = (0,1,2))\n",
        "    std = data.std(axis = (0,1,2))\n",
        "    return mean, std"
      ]
    },
    {
      "cell_type": "markdown",
      "metadata": {
        "id": "B4CRpZED8kTS"
      },
      "source": [
        "### implement (RandomCrop 32, 32 (after padding of 4) >> FlipLR >> Followed by CutOut(8, 8))\n",
        "\n"
      ]
    },
    {
      "cell_type": "code",
      "execution_count": 9,
      "metadata": {
        "id": "4u29Oval57Oz"
      },
      "outputs": [],
      "source": [
        "def train_transform_func(mean, std):\n",
        "    train_transform = A.Compose(\n",
        "      [\n",
        "      A.Normalize(mean=mean, std=std),\n",
        "      ToTensorV2(),\n",
        "      ]\n",
        "    )\n",
        "    return lambda img:train_transform(image=np.array(img))[\"image\"]"
      ]
    },
    {
      "cell_type": "code",
      "execution_count": 10,
      "metadata": {
        "id": "H4WnZYUseghR"
      },
      "outputs": [],
      "source": [
        "def test_transform_func(mean, std):\n",
        "    test_transform = transforms.Compose([\n",
        "                                        transforms.ToTensor(),\n",
        "                                        transforms.Normalize(mean=mean, std=std)\n",
        "                                        ])\n",
        "    return test_transform"
      ]
    },
    {
      "cell_type": "code",
      "execution_count": 11,
      "metadata": {
        "colab": {
          "base_uri": "https://localhost:8080/"
        },
        "id": "zhHAbg0vevJK",
        "outputId": "c215a4c1-7fc3-4f05-bec8-7ad2ca07e81f"
      },
      "outputs": [
        {
          "output_type": "stream",
          "name": "stdout",
          "text": [
            "Files already downloaded and verified\n",
            "Files already downloaded and verified\n",
            "Files already downloaded and verified\n"
          ]
        }
      ],
      "source": [
        "mean, std = data_param()\n",
        "trainset = torchvision.datasets.CIFAR10(root='./data', train=True,\n",
        "                                        download=True, transform=train_transform_func(mean, std))\n",
        "testset = torchvision.datasets.CIFAR10(root='./data', train=False,\n",
        "                                       download=True, transform=test_transform_func(mean, std))"
      ]
    },
    {
      "cell_type": "code",
      "execution_count": 12,
      "metadata": {
        "id": "l2D_r7L6fMmo"
      },
      "outputs": [],
      "source": [
        "def split_data_set(trainset, testset, cuda = torch.cuda.is_available(), batch_size=256):\n",
        "    # dataloader arguments - something you'll fetch these from cmdprmt\n",
        "    dataloader_args = dict(shuffle=True, batch_size=batch_size, num_workers=8, pin_memory=True) if cuda else dict(shuffle=True, batch_size=64)\n",
        "\n",
        "    # train dataloader\n",
        "    trainloader = torch.utils.data.DataLoader(trainset, **dataloader_args)\n",
        "\n",
        "    # test dataloader\n",
        "    testloader = torch.utils.data.DataLoader(testset, **dataloader_args)\n",
        "    return trainloader, testloader"
      ]
    },
    {
      "cell_type": "code",
      "execution_count": 13,
      "metadata": {
        "colab": {
          "base_uri": "https://localhost:8080/"
        },
        "id": "TpSAb2rOfUdU",
        "outputId": "c3b61278-3a08-4c04-88b7-bc4ccf78f62a"
      },
      "outputs": [
        {
          "output_type": "stream",
          "name": "stderr",
          "text": [
            "/usr/local/lib/python3.8/dist-packages/torch/utils/data/dataloader.py:554: UserWarning: This DataLoader will create 8 worker processes in total. Our suggested max number of worker in current system is 2, which is smaller than what this DataLoader is going to create. Please be aware that excessive worker creation might get DataLoader running slow or even freeze, lower the worker number to avoid potential slowness/freeze if necessary.\n",
            "  warnings.warn(_create_warning_msg(\n"
          ]
        }
      ],
      "source": [
        "trainloader, testloader = split_data_set(trainset, testset)"
      ]
    },
    {
      "cell_type": "markdown",
      "metadata": {
        "id": "28OpHA_LpoCq"
      },
      "source": [
        "### Neural Network\n",
        "\n"
      ]
    },
    {
      "cell_type": "code",
      "execution_count": 14,
      "metadata": {
        "id": "0jjLwLLQpoCr"
      },
      "outputs": [],
      "source": [
        "import torch.nn as nn\n",
        "import torch.nn.functional as F\n",
        "\n",
        "\n",
        "class Net(nn.Module):\n",
        "    def __init__(self):\n",
        "      super(Net, self).__init__()\n",
        "      # Convolution 1 e.g. 32x32x3 | 3x3x3x16  \n",
        "      self.conv1 = nn.Sequential(\n",
        "        nn.Conv2d(3, 16, kernel_size=3, stride=1, padding=1, bias=False),\n",
        "        nn.BatchNorm2d(16),\n",
        "        nn.ReLU()\n",
        "      ) \n",
        "\n",
        "      # Convolution 2 | 3x3x16x32\n",
        "      self.conv2 = nn.Sequential(\n",
        "        nn.Conv2d(16, 32, kernel_size=3, stride=1, padding=1, bias=False),\n",
        "        nn.BatchNorm2d(32),\n",
        "        nn.ReLU()\n",
        "      )\n",
        "\n",
        "      # Convolution 3 | 3x3x32x48\n",
        "      self.conv3 = nn.Sequential(\n",
        "        nn.Conv2d(32, 48, kernel_size=3, stride=1, padding=1, bias=False),\n",
        "        nn.BatchNorm2d(48),\n",
        "        nn.ReLU()\n",
        "      ) \n",
        "\n",
        "      # Apply GAP and get 1x1x48\n",
        "      self.gap = nn.Sequential(\n",
        "            nn.AvgPool2d(kernel_size=32)\n",
        "      ) # output_size = 1\n",
        "      \n",
        "      # FC Layer ultimus \n",
        "      self.ultimus_layer = nn.Linear(48, 8,bias=False)\n",
        "      self.ultimus_rev = nn.Linear(8, 48,bias=False)\n",
        "     \n",
        "      # FC layer that converts 48 to 10 \n",
        "      self.out = nn.Linear(48, 10, bias = True)\n",
        "\n",
        "    # Ultimus block \n",
        "    # Creates 3 FC layers called K, Q and V such that: X*K = 48*48x8 > 8,  X*Q = 48*48x8 > 8, X*V = 48*48x8 > 8 \n",
        "    # then create AM = SoftMax(QTK)/(8^0.5) = 8*8 = 8\n",
        "    # then Z = V*AM = 8*8 > 8\n",
        "    # then another FC layer called Out that:\n",
        "    # Z*Out = 8*8x48 > 48\n",
        "    def Ultimus (self, input):\n",
        "      k = self.ultimus_layer(input)\n",
        "      q = self.ultimus_layer(input)\n",
        "      v = self.ultimus_layer(input)\n",
        "      #print (k)\n",
        "      #create AM = SoftMax(QTK)/(8^0.5) = 8*8 = 8\n",
        "      AM =  F.softmax(torch.div(torch.matmul(torch.transpose(q, 0, 1), k) , pow(8, 0.5)))\n",
        "      \n",
        "      # then Z = V*AM = 8*8 > 8\n",
        "      Z = torch.matmul(v, AM)\n",
        "      z_out = self.ultimus_rev(Z)\n",
        "      return z_out\n",
        "      \n",
        "     \n",
        "    def forward(self, x):\n",
        "      # 3 convolution layers\n",
        "      x = self.conv1(x)\n",
        "      x = self.conv2(x)\n",
        "      x = self.conv3(x)\n",
        "\n",
        "      # Gap layer \n",
        "      x = self.gap(x)\n",
        "      #print(x.shape)\n",
        "      x = x.view(x.size(0), -1)\n",
        "      \n",
        "      # Repeat Ultimus block 4 times\n",
        "      x = self.Ultimus(x)  \n",
        "      x = self.Ultimus(x)  \n",
        "      x = self.Ultimus(x)  \n",
        "      x = self.Ultimus(x)      \n",
        "\n",
        "      #FC layer that converts 48 to 10 \n",
        "      x = self.out(x)\n",
        "      return F.softmax(x, dim=-1)#SoftMax"
      ]
    },
    {
      "cell_type": "code",
      "execution_count": 15,
      "metadata": {
        "colab": {
          "base_uri": "https://localhost:8080/"
        },
        "id": "eh0B1rcPEcbX",
        "outputId": "cb4c6317-8b92-4a3c-86eb-d48afe3db0ff"
      },
      "outputs": [
        {
          "output_type": "stream",
          "name": "stdout",
          "text": [
            "cuda\n",
            "_______________________________________________________________________________\n",
            "Layer              Type          Output Shape        Param #    Receptive field\n",
            "===============================================================================\n",
            "net                Net           (-1, 10)            0          1              \n",
            "├─conv1            Sequential    (-1, 16, 32, 32)    497        3              \n",
            "├─conv2            Sequential    (-1, 32, 32, 32)    4,737      5              \n",
            "├─conv3            Sequential    (-1, 48, 32, 32)    14,017     7              \n",
            "├─gap              Sequential    (-1, 48, 1, 1)      0          38             \n",
            "├─ultimus_layer    Linear        (-1, 8)             384        38             \n",
            "├─ultimus_rev      Linear        (-1, 48)            384        38             \n",
            "├─out              Linear        (-1, 10)            490        38             \n",
            "===============================================================================\n",
            "Trainable params: 20,314\n",
            "Non-trainable params: 0\n",
            "Total params: 20,314\n",
            "-------------------------------------------------------------------------------\n",
            "Model size (params + buffers): 0.08 Mb\n",
            "Framework & CUDA overhead: 1092.90 Mb\n",
            "Total RAM usage: 1092.98 Mb\n",
            "-------------------------------------------------------------------------------\n",
            "Floating Point Operations on forward: 39.42 MFLOPs\n",
            "Multiply-Accumulations on forward: 19.81 MMACs\n",
            "Direct memory accesses on forward: 19.88 MDMAs\n",
            "_______________________________________________________________________________\n"
          ]
        },
        {
          "output_type": "stream",
          "name": "stderr",
          "text": [
            "<ipython-input-14-6a05fff364e0>:53: UserWarning: Implicit dimension choice for softmax has been deprecated. Change the call to include dim=X as an argument.\n",
            "  AM =  F.softmax(torch.div(torch.matmul(torch.transpose(q, 0, 1), k) , pow(8, 0.5)))\n"
          ]
        }
      ],
      "source": [
        "from torchscan import summary\n",
        "\n",
        "device = torch.device(\"cuda\" if cuda else \"cpu\")\n",
        "print(device)\n",
        "model = Net().to(device)\n",
        "summary(model, (3, 32, 32), receptive_field=True, max_depth=1)"
      ]
    },
    {
      "cell_type": "markdown",
      "metadata": {
        "id": "Wdw2NNCUpoCu"
      },
      "source": [
        "3. Define a Loss function and optimizer\n",
        "\n",
        "Let's use a Classification Cross-Entropy loss and SGD with momentum.\n",
        "\n"
      ]
    },
    {
      "cell_type": "code",
      "execution_count": 16,
      "metadata": {
        "id": "M4xBbDROpoCv"
      },
      "outputs": [],
      "source": [
        "import torch.optim as optim\n",
        "\n",
        "optimizer = optim.SGD(model.parameters(), lr=0.001, momentum=0.9)"
      ]
    },
    {
      "cell_type": "markdown",
      "metadata": {
        "id": "O-odOrhdpoC2"
      },
      "source": [
        "4. Train the network\n",
        "\n",
        "This is when things start to get interesting.\n",
        "We simply have to loop over our data iterator, and feed the inputs to the\n",
        "network and optimize.\n",
        "\n",
        "Uses One Cycle Policy such that:\n",
        "Total Epochs = 24\n",
        "Max at Epoch = 5\n",
        "LRMIN = FIND\n",
        "LRMAX = FIND\n",
        "NO Annihilation\n",
        "\n"
      ]
    },
    {
      "cell_type": "code",
      "source": [
        "def get_lr(optimizer):\n",
        "    for param_group in optimizer.param_groups:\n",
        "        return param_group['lr']"
      ],
      "metadata": {
        "id": "mcYBshd1jKL5"
      },
      "execution_count": 17,
      "outputs": []
    },
    {
      "cell_type": "code",
      "execution_count": 18,
      "metadata": {
        "id": "54gEuIS8dBoC"
      },
      "outputs": [],
      "source": [
        "#training loops\n",
        "def train(model, device, train_loader, train_acc, train_loss, optimizer, scheduler, l_rate, criterion):\n",
        "\n",
        "    model.train()\n",
        "    pbar = tqdm(train_loader)\n",
        "\n",
        "    correct = 0\n",
        "    processed = 0\n",
        "\n",
        "    for batch_idx, (data, target) in enumerate(pbar):\n",
        "\n",
        "        ## Get data samples\n",
        "        data, target = data.to(device), target.to(device)\n",
        "\n",
        "        ## Init\n",
        "        optimizer.zero_grad()\n",
        "\n",
        "        ## Predict\n",
        "        y_pred = model(data)\n",
        "\n",
        "        ## Calculate loss\n",
        "        loss = criterion(y_pred, target)\n",
        "\n",
        "        #train_loss.append(loss.data.cpu().numpy().item())\n",
        "        train_loss.append(loss.item())\n",
        "\n",
        "        ## Backpropagation\n",
        "        loss.backward()\n",
        "\n",
        "        optimizer.step()\n",
        "        scheduler.step()\n",
        "\n",
        "        # record and update learning rate\n",
        "        l_rate.append(get_lr(optimizer))\n",
        "\n",
        "\n",
        "        ## Update pbar-tqdm\n",
        "\n",
        "        pred = y_pred.argmax(dim=1, keepdim=True)  # get the index of the max log-probability\n",
        "        correct += pred.eq(target.view_as(pred)).sum().item()\n",
        "        processed += len(data)\n",
        "\n",
        "        pbar.set_description(desc= f'Loss={loss.item()} Batch_id={batch_idx} Accuracy={100*correct/processed:0.2f}% learning_rate={l_rate[-1]:0.8f}')\n",
        "        train_acc.append(100*correct/processed)"
      ]
    },
    {
      "cell_type": "code",
      "execution_count": 19,
      "metadata": {
        "id": "96_qVzh_dHDQ"
      },
      "outputs": [],
      "source": [
        "# test loop\n",
        "def test(model, device, test_loader, test_acc, test_losses, criterion):\n",
        "    model.eval()\n",
        "    test_loss = 0\n",
        "    correct = 0\n",
        "    with torch.no_grad():\n",
        "        for data, target in test_loader:\n",
        "            data, target = data.to(device), target.to(device)\n",
        "            output = model(data)\n",
        "            test_loss += criterion(output, target).item()  # sum up batch loss\n",
        "            pred = output.argmax(dim=1, keepdim=True)  # get the index of the max log-probability\n",
        "            correct += pred.eq(target.view_as(pred)).sum().item()\n",
        "\n",
        "    test_loss /= len(test_loader.dataset)\n",
        "    test_losses.append(test_loss)\n",
        "\n",
        "    print('\\nTest set: Average loss: {:.4f}, Accuracy: {}/{} ({:.2f}%)\\n'.format(\n",
        "        test_loss, correct, len(test_loader.dataset),\n",
        "        100. * correct / len(test_loader.dataset)))\n",
        "\n",
        "    test_acc.append(100. * correct / len(test_loader.dataset))"
      ]
    },
    {
      "cell_type": "code",
      "execution_count": 20,
      "metadata": {
        "id": "-OgM0BHSdQGr"
      },
      "outputs": [],
      "source": [
        "def start_training_process(model, device, trainloader, testloader, optimizer='Adam', learning_rate = 0.01, epochs = 20):\n",
        "\n",
        "    # Hyperparameters\n",
        "    train_acc, train_losses, test_acc, test_losses, l_rate = [], [], [], [], []\n",
        "    if optimizer == 'Adam':\n",
        "      optimizer = torch.optim.Adam(model.parameters(), lr=learning_rate)\n",
        "    elif optimizer == 'SGD':\n",
        "      optimizer = torch.optim.SGD(model.parameters(), lr=learning_rate, momentum=0.9)\n",
        "\n",
        "    criterion = nn.CrossEntropyLoss()\n",
        "    scheduler = torch.optim.lr_scheduler.OneCycleLR(optimizer, max_lr = learning_rate, epochs = epochs, steps_per_epoch = len(trainloader), pct_start = 0.2) # pct_start = 0.2 (~5/24) since max_lr is required at Epoch 5\n",
        "\n",
        "    for epoch in range(epochs):\n",
        "        print(\"EPOCH:\", epoch + 1)\n",
        "        train(model, device, trainloader, train_acc, train_losses, optimizer, scheduler, l_rate, criterion)\n",
        "        test(model, device, testloader, test_acc, test_losses, criterion)\n",
        "\n",
        "\n",
        "    return train_acc, train_losses, test_acc, test_losses, l_rate"
      ]
    },
    {
      "cell_type": "markdown",
      "source": [
        "# Uses One Cycle Policy such that:\n",
        "Total Epochs = 24\n",
        "Max at Epoch = 5 \n",
        "LRMIN = FIND\n",
        "LRMAX = FIND\n",
        "NO Annihilation"
      ],
      "metadata": {
        "id": "HQmQG33L1FuC"
      }
    },
    {
      "cell_type": "code",
      "source": [
        "# max LR finder https://github.com/davidtvs/pytorch-lr-finder\n",
        "!pip install torch-lr-finder"
      ],
      "metadata": {
        "colab": {
          "base_uri": "https://localhost:8080/"
        },
        "id": "Tx1_XH0nsOi5",
        "outputId": "5c9b19a2-be7a-49de-d1fb-a595442d63d1"
      },
      "execution_count": 21,
      "outputs": [
        {
          "output_type": "stream",
          "name": "stdout",
          "text": [
            "Looking in indexes: https://pypi.org/simple, https://us-python.pkg.dev/colab-wheels/public/simple/\n",
            "Requirement already satisfied: torch-lr-finder in /usr/local/lib/python3.8/dist-packages (0.2.1)\n",
            "Requirement already satisfied: packaging in /usr/local/lib/python3.8/dist-packages (from torch-lr-finder) (23.0)\n",
            "Requirement already satisfied: matplotlib in /usr/local/lib/python3.8/dist-packages (from torch-lr-finder) (3.5.3)\n",
            "Requirement already satisfied: numpy in /usr/local/lib/python3.8/dist-packages (from torch-lr-finder) (1.22.4)\n",
            "Requirement already satisfied: tqdm in /usr/local/lib/python3.8/dist-packages (from torch-lr-finder) (4.64.1)\n",
            "Requirement already satisfied: torch>=0.4.1 in /usr/local/lib/python3.8/dist-packages (from torch-lr-finder) (1.13.1+cu116)\n",
            "Requirement already satisfied: typing-extensions in /usr/local/lib/python3.8/dist-packages (from torch>=0.4.1->torch-lr-finder) (4.5.0)\n",
            "Requirement already satisfied: kiwisolver>=1.0.1 in /usr/local/lib/python3.8/dist-packages (from matplotlib->torch-lr-finder) (1.4.4)\n",
            "Requirement already satisfied: python-dateutil>=2.7 in /usr/local/lib/python3.8/dist-packages (from matplotlib->torch-lr-finder) (2.8.2)\n",
            "Requirement already satisfied: cycler>=0.10 in /usr/local/lib/python3.8/dist-packages (from matplotlib->torch-lr-finder) (0.11.0)\n",
            "Requirement already satisfied: fonttools>=4.22.0 in /usr/local/lib/python3.8/dist-packages (from matplotlib->torch-lr-finder) (4.38.0)\n",
            "Requirement already satisfied: pyparsing>=2.2.1 in /usr/local/lib/python3.8/dist-packages (from matplotlib->torch-lr-finder) (3.0.9)\n",
            "Requirement already satisfied: pillow>=6.2.0 in /usr/local/lib/python3.8/dist-packages (from matplotlib->torch-lr-finder) (7.1.2)\n",
            "Requirement already satisfied: six>=1.5 in /usr/local/lib/python3.8/dist-packages (from python-dateutil>=2.7->matplotlib->torch-lr-finder) (1.15.0)\n"
          ]
        }
      ]
    },
    {
      "cell_type": "code",
      "source": [
        "import numpy as np\n",
        "from torch_lr_finder import LRFinder\n",
        "\n",
        "criterion = nn.CrossEntropyLoss()\n",
        "optimizer = torch.optim.Adam(model.parameters(), lr=1e-7, weight_decay=1e-2)\n",
        "lr_finder = LRFinder(model, optimizer, criterion, device=\"cuda\")\n",
        "lr_finder.range_test(trainloader, end_lr=100, num_iter=100)\n",
        "lr_finder.plot() # to inspect the loss-learning rate graph\n",
        "lr_finder.reset() # to reset the model and optimizer to their initial state"
      ],
      "metadata": {
        "colab": {
          "base_uri": "https://localhost:8080/",
          "height": 463,
          "referenced_widgets": [
            "5430e6ab5a814954b18e951452ce5857",
            "7d0919a530084d588f95aceb3552e802",
            "88ede6dd8c3d48f9be7424d40808e3a2",
            "01afa28ec3c84348bf33b7018adc8269",
            "4e10171883a5497eaf0c0d2641042906",
            "c55e081bcede45219804a3659f53d0a7",
            "3fe8cb9e28934943bfbc2c278ab11f1a",
            "aa392e1f99134c05954be9603e7cc836",
            "1ed8bc48df5242b39743d13dceb285d6",
            "d608ec1deee84168b8aaa9fa33329b73",
            "0698375f53c041fa9d8cdbd96a875cf3"
          ]
        },
        "id": "Rh8kt2d-sU7x",
        "outputId": "6f7ae886-48b4-485a-ba00-3efae060e024"
      },
      "execution_count": 22,
      "outputs": [
        {
          "output_type": "stream",
          "name": "stderr",
          "text": [
            "/usr/local/lib/python3.8/dist-packages/torch/utils/data/dataloader.py:554: UserWarning: This DataLoader will create 8 worker processes in total. Our suggested max number of worker in current system is 2, which is smaller than what this DataLoader is going to create. Please be aware that excessive worker creation might get DataLoader running slow or even freeze, lower the worker number to avoid potential slowness/freeze if necessary.\n",
            "  warnings.warn(_create_warning_msg(\n"
          ]
        },
        {
          "output_type": "display_data",
          "data": {
            "text/plain": [
              "  0%|          | 0/100 [00:00<?, ?it/s]"
            ],
            "application/vnd.jupyter.widget-view+json": {
              "version_major": 2,
              "version_minor": 0,
              "model_id": "5430e6ab5a814954b18e951452ce5857"
            }
          },
          "metadata": {}
        },
        {
          "output_type": "stream",
          "name": "stderr",
          "text": [
            "<ipython-input-14-6a05fff364e0>:53: UserWarning: Implicit dimension choice for softmax has been deprecated. Change the call to include dim=X as an argument.\n",
            "  AM =  F.softmax(torch.div(torch.matmul(torch.transpose(q, 0, 1), k) , pow(8, 0.5)))\n"
          ]
        },
        {
          "output_type": "stream",
          "name": "stdout",
          "text": [
            "Learning rate search finished. See the graph with {finder_name}.plot()\n",
            "LR suggestion: steepest gradient\n",
            "Suggested LR: 5.34E-01\n"
          ]
        },
        {
          "output_type": "display_data",
          "data": {
            "text/plain": [
              "<Figure size 432x288 with 1 Axes>"
            ],
            "image/png": "[encoded data removed]"
          },
          "metadata": {
            "needs_background": "light"
          }
        }
      ]
    },
    {
      "cell_type": "code",
      "source": [
        "print (\"LR finder:\", dir(lr_finder))"
      ],
      "metadata": {
        "colab": {
          "base_uri": "https://localhost:8080/"
        },
        "id": "iU1ZnlAKtmJ-",
        "outputId": "99070d8c-365c-467f-a55f-d75b9ed087f9"
      },
      "execution_count": 23,
      "outputs": [
        {
          "output_type": "stream",
          "name": "stdout",
          "text": [
            "LR finder: ['__class__', '__delattr__', '__dict__', '__dir__', '__doc__', '__eq__', '__format__', '__ge__', '__getattribute__', '__gt__', '__hash__', '__init__', '__init_subclass__', '__le__', '__lt__', '__module__', '__ne__', '__new__', '__reduce__', '__reduce_ex__', '__repr__', '__setattr__', '__sizeof__', '__str__', '__subclasshook__', '__weakref__', '_check_for_scheduler', '_move_to_device', '_set_learning_rate', '_train_batch', '_validate', 'best_loss', 'cache_dir', 'criterion', 'device', 'history', 'memory_cache', 'model', 'model_device', 'optimizer', 'plot', 'range_test', 'reset', 'state_cacher']\n"
          ]
        }
      ]
    },
    {
      "cell_type": "code",
      "source": [
        "_, lr_suggested = lr_finder.plot()"
      ],
      "metadata": {
        "colab": {
          "base_uri": "https://localhost:8080/",
          "height": 320
        },
        "id": "kTDwDjhwucd9",
        "outputId": "160570ad-bb90-40df-90fa-0289a5546f7d"
      },
      "execution_count": 24,
      "outputs": [
        {
          "output_type": "stream",
          "name": "stdout",
          "text": [
            "LR suggestion: steepest gradient\n",
            "Suggested LR: 5.34E-01\n"
          ]
        },
        {
          "output_type": "display_data",
          "data": {
            "text/plain": [
              "<Figure size 432x288 with 1 Axes>"
            ],
            "image/png": "[encoded data removed]"
          },
          "metadata": {
            "needs_background": "light"
          }
        }
      ]
    },
    {
      "cell_type": "code",
      "source": [
        "print (\"suggested learning rate: \", lr_suggested)"
      ],
      "metadata": {
        "colab": {
          "base_uri": "https://localhost:8080/"
        },
        "id": "OVqltucEwbk2",
        "outputId": "e819ffd1-1fad-4e6c-ed82-3969fdfbe056"
      },
      "execution_count": 25,
      "outputs": [
        {
          "output_type": "stream",
          "name": "stdout",
          "text": [
            "suggested learning rate:  0.5336699231206313\n"
          ]
        }
      ]
    },
    {
      "cell_type": "code",
      "execution_count": 26,
      "metadata": {
        "id": "YgBA4v-Pdoql",
        "colab": {
          "base_uri": "https://localhost:8080/"
        },
        "outputId": "181e4fc1-05a7-4960-ac4a-e312b59155bf"
      },
      "outputs": [
        {
          "output_type": "stream",
          "name": "stdout",
          "text": [
            "EPOCH: 1\n"
          ]
        },
        {
          "output_type": "stream",
          "name": "stderr",
          "text": [
            "  0%|          | 0/196 [00:00<?, ?it/s]<ipython-input-14-6a05fff364e0>:53: UserWarning: Implicit dimension choice for softmax has been deprecated. Change the call to include dim=X as an argument.\n",
            "  AM =  F.softmax(torch.div(torch.matmul(torch.transpose(q, 0, 1), k) , pow(8, 0.5)))\n",
            "Loss=2.3736507892608643 Batch_id=195 Accuracy=10.76% learning_rate=0.07439038: 100%|██████████| 196/196 [00:12<00:00, 16.12it/s]\n"
          ]
        },
        {
          "output_type": "stream",
          "name": "stdout",
          "text": [
            "\n",
            "Test set: Average loss: 0.0094, Accuracy: 1000/10000 (10.00%)\n",
            "\n",
            "EPOCH: 2\n"
          ]
        },
        {
          "output_type": "stream",
          "name": "stderr",
          "text": [
            "Loss=2.38615083694458 Batch_id=195 Accuracy=10.00% learning_rate=0.21155357: 100%|██████████| 196/196 [00:14<00:00, 13.87it/s]\n"
          ]
        },
        {
          "output_type": "stream",
          "name": "stdout",
          "text": [
            "\n",
            "Test set: Average loss: 0.0095, Accuracy: 1000/10000 (10.00%)\n",
            "\n",
            "EPOCH: 3\n"
          ]
        },
        {
          "output_type": "stream",
          "name": "stderr",
          "text": [
            "Loss=2.336150646209717 Batch_id=195 Accuracy=10.00% learning_rate=0.37603138: 100%|██████████| 196/196 [00:13<00:00, 14.78it/s]\n"
          ]
        },
        {
          "output_type": "stream",
          "name": "stdout",
          "text": [
            "\n",
            "Test set: Average loss: 0.0094, Accuracy: 1000/10000 (10.00%)\n",
            "\n",
            "EPOCH: 4\n"
          ]
        },
        {
          "output_type": "stream",
          "name": "stderr",
          "text": [
            "Loss=2.38615083694458 Batch_id=195 Accuracy=10.00% learning_rate=0.49970671: 100%|██████████| 196/196 [00:11<00:00, 16.73it/s]\n"
          ]
        },
        {
          "output_type": "stream",
          "name": "stdout",
          "text": [
            "\n",
            "Test set: Average loss: 0.0094, Accuracy: 1000/10000 (10.00%)\n",
            "\n",
            "EPOCH: 5\n"
          ]
        },
        {
          "output_type": "stream",
          "name": "stderr",
          "text": [
            "Loss=2.32365083694458 Batch_id=195 Accuracy=10.00% learning_rate=0.53351968: 100%|██████████| 196/196 [00:11<00:00, 16.49it/s]\n"
          ]
        },
        {
          "output_type": "stream",
          "name": "stdout",
          "text": [
            "\n",
            "Test set: Average loss: 0.0094, Accuracy: 1000/10000 (10.00%)\n",
            "\n",
            "EPOCH: 6\n"
          ]
        },
        {
          "output_type": "stream",
          "name": "stderr",
          "text": [
            "Loss=2.38615083694458 Batch_id=195 Accuracy=10.00% learning_rate=0.52849924: 100%|██████████| 196/196 [00:11<00:00, 16.61it/s]\n"
          ]
        },
        {
          "output_type": "stream",
          "name": "stdout",
          "text": [
            "\n",
            "Test set: Average loss: 0.0095, Accuracy: 1000/10000 (10.00%)\n",
            "\n",
            "EPOCH: 7\n"
          ]
        },
        {
          "output_type": "stream",
          "name": "stderr",
          "text": [
            "Loss=2.3486506938934326 Batch_id=195 Accuracy=10.00% learning_rate=0.51648890: 100%|██████████| 196/196 [00:11<00:00, 16.86it/s]\n"
          ]
        },
        {
          "output_type": "stream",
          "name": "stdout",
          "text": [
            "\n",
            "Test set: Average loss: 0.0095, Accuracy: 1000/10000 (10.00%)\n",
            "\n",
            "EPOCH: 8\n"
          ]
        },
        {
          "output_type": "stream",
          "name": "stderr",
          "text": [
            "Loss=2.273650646209717 Batch_id=195 Accuracy=10.00% learning_rate=0.49780950: 100%|██████████| 196/196 [00:11<00:00, 16.72it/s]\n"
          ]
        },
        {
          "output_type": "stream",
          "name": "stdout",
          "text": [
            "\n",
            "Test set: Average loss: 0.0094, Accuracy: 1000/10000 (10.00%)\n",
            "\n",
            "EPOCH: 9\n"
          ]
        },
        {
          "output_type": "stream",
          "name": "stderr",
          "text": [
            "Loss=2.3111507892608643 Batch_id=195 Accuracy=10.00% learning_rate=0.47296003: 100%|██████████| 196/196 [00:11<00:00, 16.41it/s]\n"
          ]
        },
        {
          "output_type": "stream",
          "name": "stdout",
          "text": [
            "\n",
            "Test set: Average loss: 0.0094, Accuracy: 1000/10000 (10.00%)\n",
            "\n",
            "EPOCH: 10\n"
          ]
        },
        {
          "output_type": "stream",
          "name": "stderr",
          "text": [
            "Loss=2.2861506938934326 Batch_id=195 Accuracy=10.00% learning_rate=0.44260430: 100%|██████████| 196/196 [00:11<00:00, 16.85it/s]\n"
          ]
        },
        {
          "output_type": "stream",
          "name": "stdout",
          "text": [
            "\n",
            "Test set: Average loss: 0.0095, Accuracy: 1000/10000 (10.00%)\n",
            "\n",
            "EPOCH: 11\n"
          ]
        },
        {
          "output_type": "stream",
          "name": "stderr",
          "text": [
            "Loss=2.3611507415771484 Batch_id=195 Accuracy=10.00% learning_rate=0.40755321: 100%|██████████| 196/196 [00:12<00:00, 16.10it/s]\n"
          ]
        },
        {
          "output_type": "stream",
          "name": "stdout",
          "text": [
            "\n",
            "Test set: Average loss: 0.0095, Accuracy: 1000/10000 (10.00%)\n",
            "\n",
            "EPOCH: 12\n"
          ]
        },
        {
          "output_type": "stream",
          "name": "stderr",
          "text": [
            "Loss=2.4236507415771484 Batch_id=195 Accuracy=10.00% learning_rate=0.36874310: 100%|██████████| 196/196 [00:11<00:00, 16.84it/s]\n"
          ]
        },
        {
          "output_type": "stream",
          "name": "stdout",
          "text": [
            "\n",
            "Test set: Average loss: 0.0094, Accuracy: 1000/10000 (10.00%)\n",
            "\n",
            "EPOCH: 13\n"
          ]
        },
        {
          "output_type": "stream",
          "name": "stderr",
          "text": [
            "Loss=2.38615083694458 Batch_id=195 Accuracy=10.00% learning_rate=0.32721071: 100%|██████████| 196/196 [00:11<00:00, 16.85it/s]\n"
          ]
        },
        {
          "output_type": "stream",
          "name": "stdout",
          "text": [
            "\n",
            "Test set: Average loss: 0.0094, Accuracy: 1000/10000 (10.00%)\n",
            "\n",
            "EPOCH: 14\n"
          ]
        },
        {
          "output_type": "stream",
          "name": "stderr",
          "text": [
            "Loss=2.336150646209717 Batch_id=195 Accuracy=10.00% learning_rate=0.28406551: 100%|██████████| 196/196 [00:10<00:00, 17.89it/s]\n"
          ]
        },
        {
          "output_type": "stream",
          "name": "stdout",
          "text": [
            "\n",
            "Test set: Average loss: 0.0094, Accuracy: 1000/10000 (10.00%)\n",
            "\n",
            "EPOCH: 15\n"
          ]
        },
        {
          "output_type": "stream",
          "name": "stderr",
          "text": [
            "Loss=2.336150646209717 Batch_id=195 Accuracy=10.00% learning_rate=0.24046006: 100%|██████████| 196/196 [00:10<00:00, 18.62it/s]\n"
          ]
        },
        {
          "output_type": "stream",
          "name": "stdout",
          "text": [
            "\n",
            "Test set: Average loss: 0.0094, Accuracy: 1000/10000 (10.00%)\n",
            "\n",
            "EPOCH: 16\n"
          ]
        },
        {
          "output_type": "stream",
          "name": "stderr",
          "text": [
            "Loss=2.4236507415771484 Batch_id=195 Accuracy=10.00% learning_rate=0.19755919: 100%|██████████| 196/196 [00:11<00:00, 17.41it/s]\n"
          ]
        },
        {
          "output_type": "stream",
          "name": "stdout",
          "text": [
            "\n",
            "Test set: Average loss: 0.0094, Accuracy: 1000/10000 (10.00%)\n",
            "\n",
            "EPOCH: 17\n"
          ]
        },
        {
          "output_type": "stream",
          "name": "stderr",
          "text": [
            "Loss=2.3111507892608643 Batch_id=195 Accuracy=10.00% learning_rate=0.15650894: 100%|██████████| 196/196 [00:11<00:00, 16.62it/s]\n"
          ]
        },
        {
          "output_type": "stream",
          "name": "stdout",
          "text": [
            "\n",
            "Test set: Average loss: 0.0094, Accuracy: 1000/10000 (10.00%)\n",
            "\n",
            "EPOCH: 18\n"
          ]
        },
        {
          "output_type": "stream",
          "name": "stderr",
          "text": [
            "Loss=2.4111506938934326 Batch_id=195 Accuracy=10.00% learning_rate=0.11840590: 100%|██████████| 196/196 [00:12<00:00, 15.80it/s]\n"
          ]
        },
        {
          "output_type": "stream",
          "name": "stdout",
          "text": [
            "\n",
            "Test set: Average loss: 0.0094, Accuracy: 1000/10000 (10.00%)\n",
            "\n",
            "EPOCH: 19\n"
          ]
        },
        {
          "output_type": "stream",
          "name": "stderr",
          "text": [
            "Loss=2.32365083694458 Batch_id=195 Accuracy=10.00% learning_rate=0.08426791: 100%|██████████| 196/196 [00:12<00:00, 16.17it/s]\n"
          ]
        },
        {
          "output_type": "stream",
          "name": "stdout",
          "text": [
            "\n",
            "Test set: Average loss: 0.0094, Accuracy: 1000/10000 (10.00%)\n",
            "\n",
            "EPOCH: 20\n"
          ]
        },
        {
          "output_type": "stream",
          "name": "stderr",
          "text": [
            "Loss=2.336150646209717 Batch_id=195 Accuracy=10.00% learning_rate=0.05500693: 100%|██████████| 196/196 [00:12<00:00, 16.30it/s]\n"
          ]
        },
        {
          "output_type": "stream",
          "name": "stdout",
          "text": [
            "\n",
            "Test set: Average loss: 0.0094, Accuracy: 1000/10000 (10.00%)\n",
            "\n",
            "EPOCH: 21\n"
          ]
        },
        {
          "output_type": "stream",
          "name": "stderr",
          "text": [
            "Loss=2.3486506938934326 Batch_id=195 Accuracy=10.00% learning_rate=0.03140462: 100%|██████████| 196/196 [00:11<00:00, 16.43it/s]\n"
          ]
        },
        {
          "output_type": "stream",
          "name": "stdout",
          "text": [
            "\n",
            "Test set: Average loss: 0.0095, Accuracy: 1000/10000 (10.00%)\n",
            "\n",
            "EPOCH: 22\n"
          ]
        },
        {
          "output_type": "stream",
          "name": "stderr",
          "text": [
            "Loss=2.3736507892608643 Batch_id=195 Accuracy=10.00% learning_rate=0.01409146: 100%|██████████| 196/196 [00:11<00:00, 16.38it/s]\n"
          ]
        },
        {
          "output_type": "stream",
          "name": "stdout",
          "text": [
            "\n",
            "Test set: Average loss: 0.0094, Accuracy: 1000/10000 (10.00%)\n",
            "\n",
            "EPOCH: 23\n"
          ]
        },
        {
          "output_type": "stream",
          "name": "stderr",
          "text": [
            "Loss=2.3736507892608643 Batch_id=195 Accuracy=10.00% learning_rate=0.00352995: 100%|██████████| 196/196 [00:11<00:00, 16.52it/s]\n"
          ]
        },
        {
          "output_type": "stream",
          "name": "stdout",
          "text": [
            "\n",
            "Test set: Average loss: 0.0094, Accuracy: 1000/10000 (10.00%)\n",
            "\n",
            "EPOCH: 24\n"
          ]
        },
        {
          "output_type": "stream",
          "name": "stderr",
          "text": [
            "Loss=2.2486507892608643 Batch_id=195 Accuracy=10.00% learning_rate=0.00000223: 100%|██████████| 196/196 [00:11<00:00, 16.67it/s]\n"
          ]
        },
        {
          "output_type": "stream",
          "name": "stdout",
          "text": [
            "\n",
            "Test set: Average loss: 0.0094, Accuracy: 1000/10000 (10.00%)\n",
            "\n"
          ]
        }
      ],
      "source": [
        "num_epochs = 24 # change to 20\n",
        "max_learning_rate = lr_suggested #0.025 # change to 0.01\n",
        "#print (\"here\", learning_rate)\n",
        "train_acc, train_losses, test_acc, test_losses, l_rate = start_training_process(model, device, trainloader, testloader, optimizer = \"Adam\", learning_rate = max_learning_rate, epochs = num_epochs)"
      ]
    },
    {
      "cell_type": "markdown",
      "metadata": {
        "id": "a9lKedXiaMMt"
      },
      "source": [
        "# Plotting train and test accuracys"
      ]
    },
    {
      "cell_type": "code",
      "execution_count": 27,
      "metadata": {
        "id": "-tENudgKaPPM",
        "colab": {
          "base_uri": "https://localhost:8080/",
          "height": 625
        },
        "outputId": "cc0f22ee-6f5d-4f78-af72-ab9954fe4de9"
      },
      "outputs": [
        {
          "output_type": "execute_result",
          "data": {
            "text/plain": [
              "Text(0.5, 1.0, 'Test Accuracy')"
            ]
          },
          "metadata": {},
          "execution_count": 27
        },
        {
          "output_type": "display_data",
          "data": {
            "text/plain": [
              "<Figure size 1080x720 with 4 Axes>"
            ],
            "image/png": "[encoded data removed]"
          },
          "metadata": {
            "needs_background": "light"
          }
        }
      ],
      "source": [
        "fig, axs = plt.subplots(2,2,figsize=(15,10))\n",
        "axs[0, 0].plot(train_losses)\n",
        "axs[0, 0].set_title(\"Training Loss\")\n",
        "axs[1, 0].plot(train_acc)\n",
        "axs[1, 0].set_title(\"Training Accuracy\")\n",
        "axs[0, 1].plot(test_losses)\n",
        "axs[0, 1].set_title(\"Test Loss\")\n",
        "axs[1, 1].plot(test_acc)\n",
        "axs[1, 1].set_title(\"Test Accuracy\")"
      ]
    }
  ],
  "metadata": {
    "colab": {
      "provenance": [],
      "include_colab_link": true
    },
    "gpuClass": "standard",
    "kernelspec": {
      "display_name": "Python 3",
      "name": "python3"
    },
    "language_info": {
      "codemirror_mode": {
        "name": "ipython",
        "version": 3
      },
      "file_extension": ".py",
      "mimetype": "text/x-python",
      "name": "python",
      "nbconvert_exporter": "python",
      "pygments_lexer": "ipython3",
      "version": "3.6.6"
    },
    "widgets": {
      "application/vnd.jupyter.widget-state+json": {
        "5430e6ab5a814954b18e951452ce5857": {
          "model_module": "@jupyter-widgets/controls",
          "model_name": "HBoxModel",
          "model_module_version": "1.5.0",
          "state": {
            "_dom_classes": [],
            "_model_module": "@jupyter-widgets/controls",
            "_model_module_version": "1.5.0",
            "_model_name": "HBoxModel",
            "_view_count": null,
            "_view_module": "@jupyter-widgets/controls",
            "_view_module_version": "1.5.0",
            "_view_name": "HBoxView",
            "box_style": "",
            "children": [
              "IPY_MODEL_7d0919a530084d588f95aceb3552e802",
              "IPY_MODEL_88ede6dd8c3d48f9be7424d40808e3a2",
              "IPY_MODEL_01afa28ec3c84348bf33b7018adc8269"
            ],
            "layout": "IPY_MODEL_4e10171883a5497eaf0c0d2641042906"
          }
        },
        "7d0919a530084d588f95aceb3552e802": {
          "model_module": "@jupyter-widgets/controls",
          "model_name": "HTMLModel",
          "model_module_version": "1.5.0",
          "state": {
            "_dom_classes": [],
            "_model_module": "@jupyter-widgets/controls",
            "_model_module_version": "1.5.0",
            "_model_name": "HTMLModel",
            "_view_count": null,
            "_view_module": "@jupyter-widgets/controls",
            "_view_module_version": "1.5.0",
            "_view_name": "HTMLView",
            "description": "",
            "description_tooltip": null,
            "layout": "IPY_MODEL_c55e081bcede45219804a3659f53d0a7",
            "placeholder": "​",
            "style": "IPY_MODEL_3fe8cb9e28934943bfbc2c278ab11f1a",
            "value": "100%"
          }
        },
        "88ede6dd8c3d48f9be7424d40808e3a2": {
          "model_module": "@jupyter-widgets/controls",
          "model_name": "FloatProgressModel",
          "model_module_version": "1.5.0",
          "state": {
            "_dom_classes": [],
            "_model_module": "@jupyter-widgets/controls",
            "_model_module_version": "1.5.0",
            "_model_name": "FloatProgressModel",
            "_view_count": null,
            "_view_module": "@jupyter-widgets/controls",
            "_view_module_version": "1.5.0",
            "_view_name": "ProgressView",
            "bar_style": "success",
            "description": "",
            "description_tooltip": null,
            "layout": "IPY_MODEL_aa392e1f99134c05954be9603e7cc836",
            "max": 100,
            "min": 0,
            "orientation": "horizontal",
            "style": "IPY_MODEL_1ed8bc48df5242b39743d13dceb285d6",
            "value": 100
          }
        },
        "01afa28ec3c84348bf33b7018adc8269": {
          "model_module": "@jupyter-widgets/controls",
          "model_name": "HTMLModel",
          "model_module_version": "1.5.0",
          "state": {
            "_dom_classes": [],
            "_model_module": "@jupyter-widgets/controls",
            "_model_module_version": "1.5.0",
            "_model_name": "HTMLModel",
            "_view_count": null,
            "_view_module": "@jupyter-widgets/controls",
            "_view_module_version": "1.5.0",
            "_view_name": "HTMLView",
            "description": "",
            "description_tooltip": null,
            "layout": "IPY_MODEL_d608ec1deee84168b8aaa9fa33329b73",
            "placeholder": "​",
            "style": "IPY_MODEL_0698375f53c041fa9d8cdbd96a875cf3",
            "value": " 100/100 [00:05&lt;00:00, 21.50it/s]"
          }
        },
        "4e10171883a5497eaf0c0d2641042906": {
          "model_module": "@jupyter-widgets/base",
          "model_name": "LayoutModel",
          "model_module_version": "1.2.0",
          "state": {
            "_model_module": "@jupyter-widgets/base",
            "_model_module_version": "1.2.0",
            "_model_name": "LayoutModel",
            "_view_count": null,
            "_view_module": "@jupyter-widgets/base",
            "_view_module_version": "1.2.0",
            "_view_name": "LayoutView",
            "align_content": null,
            "align_items": null,
            "align_self": null,
            "border": null,
            "bottom": null,
            "display": null,
            "flex": null,
            "flex_flow": null,
            "grid_area": null,
            "grid_auto_columns": null,
            "grid_auto_flow": null,
            "grid_auto_rows": null,
            "grid_column": null,
            "grid_gap": null,
            "grid_row": null,
            "grid_template_areas": null,
            "grid_template_columns": null,
            "grid_template_rows": null,
            "height": null,
            "justify_content": null,
            "justify_items": null,
            "left": null,
            "margin": null,
            "max_height": null,
            "max_width": null,
            "min_height": null,
            "min_width": null,
            "object_fit": null,
            "object_position": null,
            "order": null,
            "overflow": null,
            "overflow_x": null,
            "overflow_y": null,
            "padding": null,
            "right": null,
            "top": null,
            "visibility": null,
            "width": null
          }
        },
        "c55e081bcede45219804a3659f53d0a7": {
          "model_module": "@jupyter-widgets/base",
          "model_name": "LayoutModel",
          "model_module_version": "1.2.0",
          "state": {
            "_model_module": "@jupyter-widgets/base",
            "_model_module_version": "1.2.0",
            "_model_name": "LayoutModel",
            "_view_count": null,
            "_view_module": "@jupyter-widgets/base",
            "_view_module_version": "1.2.0",
            "_view_name": "LayoutView",
            "align_content": null,
            "align_items": null,
            "align_self": null,
            "border": null,
            "bottom": null,
            "display": null,
            "flex": null,
            "flex_flow": null,
            "grid_area": null,
            "grid_auto_columns": null,
            "grid_auto_flow": null,
            "grid_auto_rows": null,
            "grid_column": null,
            "grid_gap": null,
            "grid_row": null,
            "grid_template_areas": null,
            "grid_template_columns": null,
            "grid_template_rows": null,
            "height": null,
            "justify_content": null,
            "justify_items": null,
            "left": null,
            "margin": null,
            "max_height": null,
            "max_width": null,
            "min_height": null,
            "min_width": null,
            "object_fit": null,
            "object_position": null,
            "order": null,
            "overflow": null,
            "overflow_x": null,
            "overflow_y": null,
            "padding": null,
            "right": null,
            "top": null,
            "visibility": null,
            "width": null
          }
        },
        "3fe8cb9e28934943bfbc2c278ab11f1a": {
          "model_module": "@jupyter-widgets/controls",
          "model_name": "DescriptionStyleModel",
          "model_module_version": "1.5.0",
          "state": {
            "_model_module": "@jupyter-widgets/controls",
            "_model_module_version": "1.5.0",
            "_model_name": "DescriptionStyleModel",
            "_view_count": null,
            "_view_module": "@jupyter-widgets/base",
            "_view_module_version": "1.2.0",
            "_view_name": "StyleView",
            "description_width": ""
          }
        },
        "aa392e1f99134c05954be9603e7cc836": {
          "model_module": "@jupyter-widgets/base",
          "model_name": "LayoutModel",
          "model_module_version": "1.2.0",
          "state": {
            "_model_module": "@jupyter-widgets/base",
            "_model_module_version": "1.2.0",
            "_model_name": "LayoutModel",
            "_view_count": null,
            "_view_module": "@jupyter-widgets/base",
            "_view_module_version": "1.2.0",
            "_view_name": "LayoutView",
            "align_content": null,
            "align_items": null,
            "align_self": null,
            "border": null,
            "bottom": null,
            "display": null,
            "flex": null,
            "flex_flow": null,
            "grid_area": null,
            "grid_auto_columns": null,
            "grid_auto_flow": null,
            "grid_auto_rows": null,
            "grid_column": null,
            "grid_gap": null,
            "grid_row": null,
            "grid_template_areas": null,
            "grid_template_columns": null,
            "grid_template_rows": null,
            "height": null,
            "justify_content": null,
            "justify_items": null,
            "left": null,
            "margin": null,
            "max_height": null,
            "max_width": null,
            "min_height": null,
            "min_width": null,
            "object_fit": null,
            "object_position": null,
            "order": null,
            "overflow": null,
            "overflow_x": null,
            "overflow_y": null,
            "padding": null,
            "right": null,
            "top": null,
            "visibility": null,
            "width": null
          }
        },
        "1ed8bc48df5242b39743d13dceb285d6": {
          "model_module": "@jupyter-widgets/controls",
          "model_name": "ProgressStyleModel",
          "model_module_version": "1.5.0",
          "state": {
            "_model_module": "@jupyter-widgets/controls",
            "_model_module_version": "1.5.0",
            "_model_name": "ProgressStyleModel",
            "_view_count": null,
            "_view_module": "@jupyter-widgets/base",
            "_view_module_version": "1.2.0",
            "_view_name": "StyleView",
            "bar_color": null,
            "description_width": ""
          }
        },
        "d608ec1deee84168b8aaa9fa33329b73": {
          "model_module": "@jupyter-widgets/base",
          "model_name": "LayoutModel",
          "model_module_version": "1.2.0",
          "state": {
            "_model_module": "@jupyter-widgets/base",
            "_model_module_version": "1.2.0",
            "_model_name": "LayoutModel",
            "_view_count": null,
            "_view_module": "@jupyter-widgets/base",
            "_view_module_version": "1.2.0",
            "_view_name": "LayoutView",
            "align_content": null,
            "align_items": null,
            "align_self": null,
            "border": null,
            "bottom": null,
            "display": null,
            "flex": null,
            "flex_flow": null,
            "grid_area": null,
            "grid_auto_columns": null,
            "grid_auto_flow": null,
            "grid_auto_rows": null,
            "grid_column": null,
            "grid_gap": null,
            "grid_row": null,
            "grid_template_areas": null,
            "grid_template_columns": null,
            "grid_template_rows": null,
            "height": null,
            "justify_content": null,
            "justify_items": null,
            "left": null,
            "margin": null,
            "max_height": null,
            "max_width": null,
            "min_height": null,
            "min_width": null,
            "object_fit": null,
            "object_position": null,
            "order": null,
            "overflow": null,
            "overflow_x": null,
            "overflow_y": null,
            "padding": null,
            "right": null,
            "top": null,
            "visibility": null,
            "width": null
          }
        },
        "0698375f53c041fa9d8cdbd96a875cf3": {
          "model_module": "@jupyter-widgets/controls",
          "model_name": "DescriptionStyleModel",
          "model_module_version": "1.5.0",
          "state": {
            "_model_module": "@jupyter-widgets/controls",
            "_model_module_version": "1.5.0",
            "_model_name": "DescriptionStyleModel",
            "_view_count": null,
            "_view_module": "@jupyter-widgets/base",
            "_view_module_version": "1.2.0",
            "_view_name": "StyleView",
            "description_width": ""
          }
        }
      }
    },
    "accelerator": "GPU"
  },
  "nbformat": 4,
  "nbformat_minor": 0
}