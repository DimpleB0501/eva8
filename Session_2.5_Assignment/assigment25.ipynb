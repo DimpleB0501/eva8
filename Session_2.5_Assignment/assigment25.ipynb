{
  "nbformat": 4,
  "nbformat_minor": 0,
  "metadata": {
    "colab": {
      "provenance": [],
      "authorship_tag": "ABX9TyOcBh7+xGSPlSeTPf0gINTK",
      "include_colab_link": true
    },
    "kernelspec": {
      "name": "python3",
      "display_name": "Python 3"
    },
    "language_info": {
      "name": "python"
    },
    "gpuClass": "standard",
    "accelerator": "GPU"
  },
  "cells": [
    {
      "cell_type": "markdown",
      "metadata": {
        "id": "view-in-github",
        "colab_type": "text"
      },
      "source": [
        "<a href=\"https://colab.research.google.com/github/DimpleB0501/eva8/blob/main/Session_2.5_Assignment/assigment25.ipynb\" target=\"_parent\"><img src=\"https://colab.research.google.com/assets/colab-badge.svg\" alt=\"Open In Colab\"/></a>"
      ]
    },
    {
      "cell_type": "markdown",
      "source": [
        "# MNIST dataset train and test"
      ],
      "metadata": {
        "id": "L5JhFQGxbfxH"
      }
    },
    {
      "cell_type": "code",
      "source": [
        "!pip install torch"
      ],
      "metadata": {
        "colab": {
          "base_uri": "https://localhost:8080/"
        },
        "id": "vsHBhPacblK6",
        "outputId": "c6a1208f-6b73-47af-962c-d892e06d1cf9"
      },
      "execution_count": 1,
      "outputs": [
        {
          "output_type": "stream",
          "name": "stdout",
          "text": [
            "Looking in indexes: https://pypi.org/simple, https://us-python.pkg.dev/colab-wheels/public/simple/\n",
            "Requirement already satisfied: torch in /usr/local/lib/python3.8/dist-packages (1.13.0+cu116)\n",
            "Requirement already satisfied: typing-extensions in /usr/local/lib/python3.8/dist-packages (from torch) (4.4.0)\n"
          ]
        }
      ]
    },
    {
      "cell_type": "code",
      "source": [
        "import torch\n",
        "import torchvision # provide access to datasets, models, transforms, utils, etc\n",
        "import torchvision.transforms as transforms\n",
        "import torch.nn as nn"
      ],
      "metadata": {
        "id": "iOaCUQu-gCE9"
      },
      "execution_count": 2,
      "outputs": []
    },
    {
      "cell_type": "code",
      "source": [
        "print (\"Pytorch version:\", torch.__version__)"
      ],
      "metadata": {
        "colab": {
          "base_uri": "https://localhost:8080/"
        },
        "id": "xqBa20zugGQJ",
        "outputId": "05711698-2caa-4239-c5ef-242de23ee3b9"
      },
      "execution_count": 3,
      "outputs": [
        {
          "output_type": "stream",
          "name": "stdout",
          "text": [
            "Pytorch version: 1.13.0+cu116\n"
          ]
        }
      ]
    },
    {
      "cell_type": "markdown",
      "source": [
        "Select GPU mode"
      ],
      "metadata": {
        "id": "iUlzppVygH-N"
      }
    },
    {
      "cell_type": "code",
      "source": [
        "# Check if GPU available\n",
        "if torch.cuda.is_available():\n",
        "  print (\"On GPU\")\n",
        "else :\n",
        "  print (\"No GPU available\")\n",
        "     \n",
        "device = 'cuda' if torch.cuda.is_available() else 'cpu'"
      ],
      "metadata": {
        "colab": {
          "base_uri": "https://localhost:8080/"
        },
        "id": "35ZsFIgSgGqd",
        "outputId": "8ea1b149-14f6-4a67-e39d-9e25090aa72e"
      },
      "execution_count": 4,
      "outputs": [
        {
          "output_type": "stream",
          "name": "stdout",
          "text": [
            "On GPU\n"
          ]
        }
      ]
    },
    {
      "cell_type": "markdown",
      "source": [
        "# Creating a custom dataset"
      ],
      "metadata": {
        "id": "2NFm5u_hj2eO"
      }
    },
    {
      "cell_type": "code",
      "source": [
        "import random\n",
        "import numpy as np\n",
        "import matplotlib.pyplot as plt\n",
        "from torch.utils.data import Dataset"
      ],
      "metadata": {
        "id": "E5OqobnXnPQ-"
      },
      "execution_count": 5,
      "outputs": []
    },
    {
      "cell_type": "code",
      "source": [
        "mnist =  torchvision.datasets.MNIST(\n",
        "    root='./data',\n",
        "    train=True,\n",
        "    download=True,\n",
        "    transform = transforms.Compose([\n",
        "          transforms.ToTensor()\n",
        "    ])\n",
        ")"
      ],
      "metadata": {
        "id": "YRaGNS6zkVy6"
      },
      "execution_count": 6,
      "outputs": []
    },
    {
      "cell_type": "markdown",
      "source": [
        "### One value in dataset"
      ],
      "metadata": {
        "id": "o-sRRlA76-6m"
      }
    },
    {
      "cell_type": "code",
      "source": [
        "train_loader = torch.utils.data.DataLoader(mnist, batch_size = 1, shuffle=True)"
      ],
      "metadata": {
        "id": "Pqu2nE6qwACd"
      },
      "execution_count": 7,
      "outputs": []
    },
    {
      "cell_type": "code",
      "source": [
        "# creating custom dataset\n",
        "class MyDataset(Dataset):\n",
        "  def __init__(self):\n",
        "    batch = next(iter(train_loader))\n",
        "    self.data = batch[0]\n",
        "    self.label = batch[1]\n",
        "\n",
        "  def __getitem__(self, index):\n",
        "    image = self.data[index]\n",
        "    label = self.label[index]\n",
        "    z = torch.tensor(random.randint(0, 9))\n",
        "    #z_oh = one_hot (z)\n",
        "    #return image, label, z_oh, label+z\n",
        "    return image, label, z, label+z\n",
        "   \n",
        "\n",
        "  def __len__(self):\n",
        "    return len(self.data)\n",
        "\n",
        "myData = MyDataset()\n",
        "\n",
        "for m in myData:\n",
        "  print (\"label:\", m[1])\n",
        "  print (\"Random number generated:\", m[2])\n",
        "  print (\"Addition(randnum+image):\", m[3])\n",
        "  print (\"Image:\")\n",
        "  grid = torchvision.utils.make_grid(m[0], nrow=10)\n",
        "  plt.figure(figsize=(5,5))\n",
        "  plt.imshow(np.transpose(grid, (1,2,0)))\n",
        "\n",
        "#print (\"here\", len(myData))"
      ],
      "metadata": {
        "colab": {
          "base_uri": "https://localhost:8080/",
          "height": 389
        },
        "id": "xC0Qq4sDxf-s",
        "outputId": "339431b6-109c-4cf6-c2bd-b5143c8c3a38"
      },
      "execution_count": 8,
      "outputs": [
        {
          "output_type": "stream",
          "name": "stdout",
          "text": [
            "label: tensor(3)\n",
            "Random number generated: tensor(1)\n",
            "Addition(randnum+image): tensor(4)\n",
            "Image:\n"
          ]
        },
        {
          "output_type": "display_data",
          "data": {
            "text/plain": [
              "<Figure size 360x360 with 1 Axes>"
            ],
            "image/png": "[encoded data removed]"
          },
          "metadata": {
            "needs_background": "light"
          }
        }
      ]
    },
    {
      "cell_type": "markdown",
      "source": [
        "### Custom dataset"
      ],
      "metadata": {
        "id": "T6mJN63S7SdT"
      }
    },
    {
      "cell_type": "code",
      "source": [
        "# one hot encoding\n",
        "def one_hot (integer):\n",
        "  rand_number = torch.zeros(28, 28)\n",
        "  rand_number[:,] =1\n",
        "  one_hot=torch.zeros(28)\n",
        "  one_hot[integer]=1\n",
        "  rand_number = rand_number * one_hot\n",
        "  #print (rand_number)\n",
        "  #print (rand_number.shape)\n",
        "  rand_number = rand_number.unsqueeze(dim=0)\n",
        "  return rand_number"
      ],
      "metadata": {
        "id": "5gmfjyChnHgG"
      },
      "execution_count": 9,
      "outputs": []
    },
    {
      "cell_type": "code",
      "source": [
        "def one_hot_label(label):\n",
        "  rand_number = torch.zeros(1, 20)\n",
        "  rand_number[:,] =1\n",
        "  one_hot=torch.zeros(20)\n",
        "  one_hot[label]=1\n",
        "  rand_number = rand_number * one_hot\n",
        "  #print (rand_number)\n",
        "  rand_number = rand_number.squeeze(dim=0)\n",
        "  return rand_number"
      ],
      "metadata": {
        "id": "VkFjsNpvwFUS"
      },
      "execution_count": 10,
      "outputs": []
    },
    {
      "cell_type": "code",
      "source": [
        "class CustomDataset(Dataset):\n",
        "  def __init__(self, batch_size = 50000):\n",
        "    train_loader = torch.utils.data.DataLoader(mnist, batch_size = batch_size, shuffle=True)\n",
        "    batch = next(iter(train_loader))\n",
        "    self.data = batch[0]\n",
        "    self.label = batch[1]\n",
        "\n",
        "  def __getitem__(self, index):\n",
        "    image = self.data[index]\n",
        "    label = self.label[index]\n",
        "    z = torch.tensor(random.randint(0, 9))\n",
        "    z_oh = one_hot(z)\n",
        "    #label_add = one_hot_label(label+z)\n",
        "    #return image, label, z_oh, label_add\n",
        "    return image, label, z_oh, label+z\n",
        "\n",
        "  def __len__(self):\n",
        "    return len(self.data)\n",
        "\n",
        "'''\n",
        "for m in data:\n",
        "  print (\"label:\", m[1])\n",
        "  print (\"Random number generated:\", m[2])\n",
        "  print (\"Addition(randnum+image):\", m[3])\n",
        "  print (\"Image:\")\n",
        "  grid = torchvision.utils.make_grid(m[0], nrow=10)\n",
        "  plt.figure(figsize=(2,2))\n",
        "  plt.imshow(np.transpose(grid, (1,2,0)))\n",
        "'''\n"
      ],
      "metadata": {
        "colab": {
          "base_uri": "https://localhost:8080/",
          "height": 52
        },
        "id": "akM5_DtX93Sp",
        "outputId": "edfd7890-2707-4c90-b2df-fce704766ec5"
      },
      "execution_count": 11,
      "outputs": [
        {
          "output_type": "execute_result",
          "data": {
            "text/plain": [
              "'\\nfor m in data:\\n  print (\"label:\", m[1])\\n  print (\"Random number generated:\", m[2])\\n  print (\"Addition(randnum+image):\", m[3])\\n  print (\"Image:\")\\n  grid = torchvision.utils.make_grid(m[0], nrow=10)\\n  plt.figure(figsize=(2,2))\\n  plt.imshow(np.transpose(grid, (1,2,0)))\\n'"
            ],
            "application/vnd.google.colaboratory.intrinsic+json": {
              "type": "string"
            }
          },
          "metadata": {},
          "execution_count": 11
        }
      ]
    },
    {
      "cell_type": "markdown",
      "source": [
        "# Model addition\n"
      ],
      "metadata": {
        "id": "kJYOorjtE1Bv"
      }
    },
    {
      "cell_type": "code",
      "source": [
        "import torch.nn.functional as F\n",
        "import torch.optim as optim\n",
        "class Flatten(nn.Module):\n",
        "    def forward(self,x):\n",
        "        N,_,_,_ = x.size()\n",
        "        return x.view(N,-1)"
      ],
      "metadata": {
        "id": "wwjlE9UZE5Vx"
      },
      "execution_count": 12,
      "outputs": []
    },
    {
      "cell_type": "code",
      "source": [
        "import torch.nn.functional as F\n",
        "class Model(nn.Module):\n",
        "    def __init__(self):\n",
        "        super(Model, self).__init__()\n",
        "        self.conv1 = nn.Conv2d(in_channels=1,out_channels=16,kernel_size=5,stride=1)\n",
        "        self.conv2 = nn.Conv2d(in_channels=16,out_channels=32,kernel_size=5,stride=1)\n",
        "        self.conv3 = nn.Conv2d(in_channels=32,out_channels=64,kernel_size=3,stride=1)\n",
        "        self.relu = nn.ReLU(inplace=True)\n",
        "        self.bn1  = nn.BatchNorm2d(num_features=16)\n",
        "        self.bn2   = nn.BatchNorm2d(num_features=32)\n",
        "        self.bn3   = nn.BatchNorm2d(num_features=64)\n",
        "        self.mp   = nn.MaxPool2d(kernel_size=2,stride=2)\n",
        "        self.do   = nn.Dropout2d(p=0.5)\n",
        "        self.l1   =  nn.Linear(128,1024)\n",
        "        self.l2   =  nn.Linear(1024,19)\n",
        "\n",
        "        self.l3 = nn.Linear(64, 1024)\n",
        "        self.l4 = nn.Linear(1024, 10)\n",
        "        \n",
        "    def forward(self, x , y):\n",
        "        x = self.conv_layers1(x)\n",
        "        y = self.conv_layers1(y)\n",
        "        x = self.conv_layers2(x)\n",
        "        y = self.conv_layers2(y)\n",
        "        x = self.conv_layers3(x)\n",
        "        y = self.conv_layers3(y)\n",
        "        N ,_,_,_ = x.size()\n",
        "        x = x.view(N,-1)\n",
        "        #print (\"value_check:\", N)\n",
        "        y = y.view(N,-1)\n",
        "        #z = self.conv_layers2(x + y)\n",
        "        z = torch.cat((x,y),1)\n",
        "        #z = z.view(N,-1)\n",
        "        #print(z.size())\n",
        "        z = self.l1(z)\n",
        "        z = self.relu(z)\n",
        "        z = self.l2(z)\n",
        "\n",
        "        x = self.l3(x)\n",
        "        x = self.relu(x)\n",
        "        x = self.l4(x)\n",
        "        return x, z\n",
        "    \n",
        "    def conv_layers1(self, x):\n",
        "        x = self.conv1(x)\n",
        "        x = self.relu(x)\n",
        "        x = self.bn1(x)\n",
        "        x = self.mp(x)\n",
        "        return x\n",
        "    \n",
        "    def conv_layers2(self, x):\n",
        "        x = self.conv2(x)\n",
        "        x = self.relu(x)\n",
        "        x = self.bn2(x)\n",
        "        x = self.mp(x)\n",
        "        return x\n",
        "    \n",
        "    def conv_layers3(self, x):\n",
        "        x = self.conv3(x)\n",
        "        x = self.relu(x)\n",
        "        x = self.bn3(x)\n",
        "        x = self.mp(x)\n",
        "        return x"
      ],
      "metadata": {
        "id": "ZGtqdjsYeZJU"
      },
      "execution_count": 13,
      "outputs": []
    },
    {
      "cell_type": "code",
      "source": [
        "model = Model()\n",
        "model.to(device)"
      ],
      "metadata": {
        "colab": {
          "base_uri": "https://localhost:8080/"
        },
        "id": "P-NnwcGMFPeD",
        "outputId": "ca3484a1-5dfc-4824-8d4d-998f53fdc904"
      },
      "execution_count": 14,
      "outputs": [
        {
          "output_type": "execute_result",
          "data": {
            "text/plain": [
              "Model(\n",
              "  (conv1): Conv2d(1, 16, kernel_size=(5, 5), stride=(1, 1))\n",
              "  (conv2): Conv2d(16, 32, kernel_size=(5, 5), stride=(1, 1))\n",
              "  (conv3): Conv2d(32, 64, kernel_size=(3, 3), stride=(1, 1))\n",
              "  (relu): ReLU(inplace=True)\n",
              "  (bn1): BatchNorm2d(16, eps=1e-05, momentum=0.1, affine=True, track_running_stats=True)\n",
              "  (bn2): BatchNorm2d(32, eps=1e-05, momentum=0.1, affine=True, track_running_stats=True)\n",
              "  (bn3): BatchNorm2d(64, eps=1e-05, momentum=0.1, affine=True, track_running_stats=True)\n",
              "  (mp): MaxPool2d(kernel_size=2, stride=2, padding=0, dilation=1, ceil_mode=False)\n",
              "  (do): Dropout2d(p=0.5, inplace=False)\n",
              "  (l1): Linear(in_features=128, out_features=1024, bias=True)\n",
              "  (l2): Linear(in_features=1024, out_features=19, bias=True)\n",
              "  (l3): Linear(in_features=64, out_features=1024, bias=True)\n",
              "  (l4): Linear(in_features=1024, out_features=10, bias=True)\n",
              ")"
            ]
          },
          "metadata": {},
          "execution_count": 14
        }
      ]
    },
    {
      "cell_type": "markdown",
      "source": [
        "### Training"
      ],
      "metadata": {
        "id": "QLlgGLmwF4Vr"
      }
    },
    {
      "cell_type": "code",
      "source": [
        "def get_num_correct(preds, labels):\n",
        "  return preds.argmax(dim=1).eq(labels).sum().item()"
      ],
      "metadata": {
        "id": "T3SGPM8bm6CO"
      },
      "execution_count": 15,
      "outputs": []
    },
    {
      "cell_type": "code",
      "source": [
        "data = CustomDataset(len(mnist)) # 256 is the batch size\n",
        "#print (len(data))\n",
        "loader = torch.utils.data.DataLoader(data, batch_size=256)\n",
        "optimizer = optim.Adam(model.parameters(), lr=0.01)\n",
        "\n",
        "for epoch in range(10):\n",
        "  total_loss_1 = 0\n",
        "  total_correct_1 = 0\n",
        "  total_loss_2 = 0\n",
        "  total_correct_2 = 0\n",
        "  for images, labels, rd, rl in loader: # Get Batch\n",
        "      #print (images.size(), labels.size(), rd.size(), rl.size())\n",
        "      images = images.to(device)\n",
        "      labels = labels.to(device)\n",
        "      rd = rd.to(device)\n",
        "      rl = rl.to(device)\n",
        "\n",
        "      preds1, preds2 = model(images, rd) # Pass Batch of images and one hot encoded random number\n",
        "\n",
        "      loss1 = F.cross_entropy(preds1, labels) # Calculate Loss1\n",
        "      loss2 = F.cross_entropy(preds2, rl) # Calculate Loss2\n",
        "\n",
        "      optimizer.zero_grad()\n",
        "      loss1.backward(retain_graph=True) # Calculate Gradients\n",
        "      loss2.backward(retain_graph=True) # Calculate Gradients\n",
        "\n",
        "      optimizer.step() # Update Weights\n",
        "\n",
        "      total_loss_1 += loss1.item()\n",
        "      total_correct_1 += get_num_correct(preds1, labels)\n",
        "\n",
        "      total_loss_2 += loss2.item()\n",
        "      total_correct_2 += get_num_correct(preds2, rl)\n",
        "\n",
        "  print(\n",
        "      \"epoch:\", epoch, \"\\n\",\n",
        "      \"\\tMNIST Architecture: { \"\n",
        "      #\"total_correct:\", total_correct/len(train_set)*100, \n",
        "      \"accuracy(percentage):\", total_correct_1/len(mnist)*100,\n",
        "      #\"loss:\", total_loss/len(train_loader)\n",
        "      \"loss:\", total_loss_1,\"}\\n\"\n",
        "      \"\\tAddition(MNIST+RAND_NO) Architecture: { \"\n",
        "      #\"total_correct:\", total_correct/len(train_set)*100, \n",
        "      \"accuracy(percentage):\", total_correct_2/len(mnist)*100,\n",
        "      #\"loss:\", total_loss/len(train_loader)\n",
        "      \"loss:\", total_loss_2,\"}\\n\"\n",
        "  )"
      ],
      "metadata": {
        "colab": {
          "base_uri": "https://localhost:8080/"
        },
        "id": "ABc9gcm0lLbM",
        "outputId": "21c3c011-c7c9-49a8-e826-835cca5a50c5"
      },
      "execution_count": 16,
      "outputs": [
        {
          "output_type": "stream",
          "name": "stdout",
          "text": [
            "epoch: 0 \n",
            " \tMNIST Architecture: { accuracy(percentage): 95.08833333333332 loss: 38.37686620466411 }\n",
            "\tAddition(MNIST+RAND_NO) Architecture: { accuracy(percentage): 88.58166666666666 loss: 86.77631059288979 }\n",
            "\n",
            "epoch: 1 \n",
            " \tMNIST Architecture: { accuracy(percentage): 98.59333333333333 loss: 11.224147853907198 }\n",
            "\tAddition(MNIST+RAND_NO) Architecture: { accuracy(percentage): 97.98833333333333 loss: 17.49341095611453 }\n",
            "\n",
            "epoch: 2 \n",
            " \tMNIST Architecture: { accuracy(percentage): 98.92 loss: 8.467151714023203 }\n",
            "\tAddition(MNIST+RAND_NO) Architecture: { accuracy(percentage): 98.15166666666667 loss: 15.796965256799012 }\n",
            "\n",
            "epoch: 3 \n",
            " \tMNIST Architecture: { accuracy(percentage): 99.00666666666666 loss: 7.938455551629886 }\n",
            "\tAddition(MNIST+RAND_NO) Architecture: { accuracy(percentage): 98.47333333333333 loss: 12.691157527733594 }\n",
            "\n",
            "epoch: 4 \n",
            " \tMNIST Architecture: { accuracy(percentage): 99.27 loss: 5.56925131555181 }\n",
            "\tAddition(MNIST+RAND_NO) Architecture: { accuracy(percentage): 99.02833333333334 loss: 8.645959311164916 }\n",
            "\n",
            "epoch: 5 \n",
            " \tMNIST Architecture: { accuracy(percentage): 99.44833333333334 loss: 4.5161246419884264 }\n",
            "\tAddition(MNIST+RAND_NO) Architecture: { accuracy(percentage): 99.16333333333334 loss: 6.57977039902471 }\n",
            "\n",
            "epoch: 6 \n",
            " \tMNIST Architecture: { accuracy(percentage): 99.5 loss: 3.8290257181506604 }\n",
            "\tAddition(MNIST+RAND_NO) Architecture: { accuracy(percentage): 99.29 loss: 6.07763960189186 }\n",
            "\n",
            "epoch: 7 \n",
            " \tMNIST Architecture: { accuracy(percentage): 99.445 loss: 4.084044247487327 }\n",
            "\tAddition(MNIST+RAND_NO) Architecture: { accuracy(percentage): 99.23333333333333 loss: 6.112494753790088 }\n",
            "\n",
            "epoch: 8 \n",
            " \tMNIST Architecture: { accuracy(percentage): 99.52666666666666 loss: 3.7339959355886094 }\n",
            "\tAddition(MNIST+RAND_NO) Architecture: { accuracy(percentage): 99.25333333333334 loss: 6.295113083964679 }\n",
            "\n",
            "epoch: 9 \n",
            " \tMNIST Architecture: { accuracy(percentage): 99.59166666666667 loss: 3.2240350709616905 }\n",
            "\tAddition(MNIST+RAND_NO) Architecture: { accuracy(percentage): 99.38333333333334 loss: 5.310669594211504 }\n",
            "\n"
          ]
        }
      ]
    },
    {
      "cell_type": "markdown",
      "source": [
        "# Testing the architecture on data from training set (just for visualization)"
      ],
      "metadata": {
        "id": "CO6RBR6QQ6b5"
      }
    },
    {
      "cell_type": "code",
      "source": [
        "data = CustomDataset(1)\n",
        "for m in data:\n",
        "  grid = torchvision.utils.make_grid(m[0], nrow=10)\n",
        "  plt.figure(figsize=(5,5))\n",
        "  plt.imshow(np.transpose(grid, (1,2,0)))\n",
        "  image = m[0].to(device).unsqueeze(dim=0)\n",
        "  #print (image.shape)\n",
        "  rand_num_oh = m[2].to(device).unsqueeze(dim=0)\n",
        "  #print(rand_num_oh.shape)\n",
        "  out1, out2 = model(image, rand_num_oh)\n",
        "  #print (out_predict)\n",
        "  pred = out1.max(1, keepdim=True)[1] \n",
        "  print(\"\\n\\t MNIST Predicted Label:\", pred.item(), \"\\t\\t\\t Added architecture Predicted Label:\", out2.max(1, keepdim=True)[1].item(), \"\\n\\tActual Label:\", m[1].squeeze(-1), \"\\t\\t\\t\\t Actual addition value:\", m[3])"
      ],
      "metadata": {
        "colab": {
          "base_uri": "https://localhost:8080/",
          "height": 372
        },
        "id": "b_URgaGyRvZv",
        "outputId": "ebaaa859-20c3-448a-c8b5-5ccf859b0359"
      },
      "execution_count": 17,
      "outputs": [
        {
          "output_type": "stream",
          "name": "stdout",
          "text": [
            "\n",
            "\t MNIST Predicted Label: 2 \t\t\t Added architecture Predicted Label: 10 \n",
            "\tActual Label: tensor(2) \t\t\t\t Actual addition value: tensor(8)\n"
          ]
        },
        {
          "output_type": "display_data",
          "data": {
            "text/plain": [
              "<Figure size 360x360 with 1 Axes>"
            ],
            "image/png": "[encoded data removed]"
          },
          "metadata": {
            "needs_background": "light"
          }
        }
      ]
    }
  ]
}