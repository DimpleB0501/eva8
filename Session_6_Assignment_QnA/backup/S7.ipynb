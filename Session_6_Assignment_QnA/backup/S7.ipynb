{
  "nbformat": 4,
  "nbformat_minor": 0,
  "metadata": {
    "kernelspec": {
      "name": "python3",
      "display_name": "Python 3"
    },
    "language_info": {
      "codemirror_mode": {
        "name": "ipython",
        "version": 3
      },
      "file_extension": ".py",
      "mimetype": "text/x-python",
      "name": "python",
      "nbconvert_exporter": "python",
      "pygments_lexer": "ipython3",
      "version": "3.6.6"
    },
    "colab": {
      "provenance": [],
      "include_colab_link": true
    },
    "gpuClass": "standard"
  },
  "cells": [
    {
      "cell_type": "markdown",
      "metadata": {
        "id": "view-in-github",
        "colab_type": "text"
      },
      "source": [
        "<a href=\"https://colab.research.google.com/github/DimpleB0501/eva8/blob/main/Session_6_Assignment_QnA/backup/S7.ipynb\" target=\"_parent\"><img src=\"https://colab.research.google.com/assets/colab-badge.svg\" alt=\"Open In Colab\"/></a>"
      ]
    },
    {
      "cell_type": "code",
      "metadata": {
        "id": "QVbdg0z4poCc"
      },
      "source": [
        "%matplotlib inline"
      ],
      "execution_count": null,
      "outputs": []
    },
    {
      "cell_type": "markdown",
      "metadata": {
        "id": "fPogbueepoCh"
      },
      "source": [
        "\n",
        "Training a Classifier\n",
        "=====================\n",
        "\n",
        "This is it. You have seen how to define neural networks, compute loss and make\n",
        "updates to the weights of the network.\n",
        "\n",
        "Now you might be thinking,\n",
        "\n",
        "What about data?\n",
        "----------------\n",
        "\n",
        "Generally, when you have to deal with image, text, audio or video data,\n",
        "you can use standard python packages that load data into a numpy array.\n",
        "Then you can convert this array into a ``torch.*Tensor``.\n",
        "\n",
        "-  For images, packages such as Pillow, OpenCV are useful\n",
        "-  For audio, packages such as scipy and librosa\n",
        "-  For text, either raw Python or Cython based loading, or NLTK and\n",
        "   SpaCy are useful\n",
        "\n",
        "Specifically for vision, we have created a package called\n",
        "``torchvision``, that has data loaders for common datasets such as\n",
        "Imagenet, CIFAR10, MNIST, etc. and data transformers for images, viz.,\n",
        "``torchvision.datasets`` and ``torch.utils.data.DataLoader``.\n",
        "\n",
        "This provides a huge convenience and avoids writing boilerplate code.\n",
        "\n",
        "For this tutorial, we will use the CIFAR10 dataset.\n",
        "It has the classes: ‘airplane’, ‘automobile’, ‘bird’, ‘cat’, ‘deer’,\n",
        "‘dog’, ‘frog’, ‘horse’, ‘ship’, ‘truck’. The images in CIFAR-10 are of\n",
        "size 3x32x32, i.e. 3-channel color images of 32x32 pixels in size.\n",
        "\n",
        ".. figure:: /_static/img/cifar10.png\n",
        "   :alt: cifar10\n",
        "\n",
        "   cifar10\n",
        "\n",
        "\n",
        "Training an image classifier\n",
        "----------------------------\n",
        "\n",
        "We will do the following steps in order:\n",
        "\n",
        "1. Load and normalizing the CIFAR10 training and test datasets using\n",
        "   ``torchvision``\n",
        "2. Define a Convolution Neural Network\n",
        "3. Define a loss function\n",
        "4. Train the network on the training data\n",
        "5. Test the network on the test data\n",
        "\n",
        "1. Loading and normalizing CIFAR10\n",
        "\n",
        "\n",
        "Using ``torchvision``, it’s extremely easy to load CIFAR10.\n",
        "\n"
      ]
    },
    {
      "cell_type": "code",
      "metadata": {
        "id": "-yVpodAMpoCi"
      },
      "source": [
        "import torch\n",
        "import torchvision\n",
        "import torchvision.transforms as transforms"
      ],
      "execution_count": null,
      "outputs": []
    },
    {
      "cell_type": "markdown",
      "source": [
        "# GPU Check"
      ],
      "metadata": {
        "id": "UJmyQBDnDPYL"
      }
    },
    {
      "cell_type": "code",
      "source": [
        "SEED = 1\n",
        "\n",
        "# CUDA?\n",
        "cuda = torch.cuda.is_available()\n",
        "print(\"CUDA Available?\", cuda)\n",
        "\n",
        "# For reproducibility\n",
        "torch.manual_seed(SEED)\n",
        "\n",
        "if cuda:\n",
        "    torch.cuda.manual_seed(SEED)"
      ],
      "metadata": {
        "colab": {
          "base_uri": "https://localhost:8080/"
        },
        "id": "5VOqljhjDRhK",
        "outputId": "2a748488-1fa4-45ec-c1bc-1278462649a4"
      },
      "execution_count": null,
      "outputs": [
        {
          "output_type": "stream",
          "name": "stdout",
          "text": [
            "CUDA Available? True\n"
          ]
        }
      ]
    },
    {
      "cell_type": "markdown",
      "metadata": {
        "id": "5kjt4e2TpoCk"
      },
      "source": [
        "The output of torchvision datasets are PILImage images of range [0, 1].\n",
        "We transform them to Tensors of normalized range [-1, 1].\n",
        "\n"
      ]
    },
    {
      "cell_type": "markdown",
      "source": [
        "# Ablumentations library\n"
      ],
      "metadata": {
        "id": "-pstuQsR4xy5"
      }
    },
    {
      "cell_type": "code",
      "source": [
        "# Import dependencies\n",
        "!!pip install --upgrade albumentations\n",
        "!pip install torchscan"
      ],
      "metadata": {
        "colab": {
          "base_uri": "https://localhost:8080/"
        },
        "id": "Q7jVHOWgDE1o",
        "outputId": "1ef61cee-dbe2-40b1-933d-e68423e475dd"
      },
      "execution_count": null,
      "outputs": [
        {
          "output_type": "stream",
          "name": "stdout",
          "text": [
            "Looking in indexes: https://pypi.org/simple, https://us-python.pkg.dev/colab-wheels/public/simple/\n",
            "Requirement already satisfied: torchscan in /usr/local/lib/python3.8/dist-packages (0.1.2)\n",
            "Requirement already satisfied: torch<2.0.0,>=1.5.0 in /usr/local/lib/python3.8/dist-packages (from torchscan) (1.13.1+cu116)\n",
            "Requirement already satisfied: typing-extensions in /usr/local/lib/python3.8/dist-packages (from torch<2.0.0,>=1.5.0->torchscan) (4.4.0)\n"
          ]
        }
      ]
    },
    {
      "cell_type": "code",
      "source": [
        "import albumentations as A\n",
        "from albumentations.pytorch import ToTensorV2\n",
        "import copy\n",
        "import random\n",
        "import matplotlib.pyplot as plt"
      ],
      "metadata": {
        "id": "MoImO7nV5187"
      },
      "execution_count": null,
      "outputs": []
    },
    {
      "cell_type": "code",
      "source": [
        "def train_transform_func():\n",
        "  train_transform = A.Compose(\n",
        "      [\n",
        "      A.HorizontalFlip(p=0.5),\n",
        "      A.ShiftScaleRotate(shift_limit=0.2, scale_limit=0.2, rotate_limit=30, p=0.5),  \n",
        "      A.CoarseDropout(max_holes = 1, max_height=16, max_width=16, min_holes = 1, min_height=1, min_width=1, fill_value=tuple([0.485, 0.456, 0.406]), mask_fill_value = None), \n",
        "      A.Normalize(mean=(0.485, 0.456, 0.406), std=(0.229, 0.224, 0.225)),\n",
        "      ToTensorV2(),\n",
        "      ]\n",
        "  )\n",
        "  return lambda img:train_transform(image=np.array(img))[\"image\"]\n",
        "\n",
        "trainset = torchvision.datasets.CIFAR10(root='./data', train=True,\n",
        "                                        download=True, transform=train_transform_func())"
      ],
      "metadata": {
        "colab": {
          "base_uri": "https://localhost:8080/"
        },
        "id": "4u29Oval57Oz",
        "outputId": "6d9d1851-0642-4686-e0f5-2497211cb375"
      },
      "execution_count": null,
      "outputs": [
        {
          "output_type": "stream",
          "name": "stdout",
          "text": [
            "Files already downloaded and verified\n"
          ]
        }
      ]
    },
    {
      "cell_type": "code",
      "metadata": {
        "id": "D8Tjigo2poCl",
        "outputId": "8796ee48-17aa-4464-ace3-7eea64abd506",
        "colab": {
          "base_uri": "https://localhost:8080/"
        }
      },
      "source": [
        "test_transform = transforms.Compose([\n",
        "                                      #  transforms.Resize((28, 28)),\n",
        "                                      #  transforms.ColorJitter(brightness=0.10, contrast=0.1, saturation=0.10, hue=0.1),\n",
        "                                       transforms.ToTensor(),\n",
        "                                       transforms.Normalize(mean=(0.485, 0.456, 0.406), std=(0.229, 0.224, 0.225))\n",
        "                                       ])\n",
        "testset = torchvision.datasets.CIFAR10(root='./data', train=False,\n",
        "                                       download=True, transform=test_transform)\n",
        "\n",
        "# dataloader arguments - something you'll fetch these from cmdprmt\n",
        "dataloader_args = dict(shuffle=True, batch_size=128, num_workers=4, pin_memory=True) if cuda else dict(shuffle=True, batch_size=64)\n",
        "\n",
        "# train dataloader\n",
        "trainloader = torch.utils.data.DataLoader(trainset, **dataloader_args)\n",
        "\n",
        "# test dataloader\n",
        "testloader = torch.utils.data.DataLoader(testset, **dataloader_args)\n",
        "\n",
        "classes = ('plane', 'car', 'bird', 'cat',\n",
        "           'deer', 'dog', 'frog', 'horse', 'ship', 'truck')"
      ],
      "execution_count": null,
      "outputs": [
        {
          "output_type": "stream",
          "name": "stdout",
          "text": [
            "Files already downloaded and verified\n"
          ]
        },
        {
          "output_type": "stream",
          "name": "stderr",
          "text": [
            "/usr/local/lib/python3.8/dist-packages/torch/utils/data/dataloader.py:554: UserWarning: This DataLoader will create 4 worker processes in total. Our suggested max number of worker in current system is 2, which is smaller than what this DataLoader is going to create. Please be aware that excessive worker creation might get DataLoader running slow or even freeze, lower the worker number to avoid potential slowness/freeze if necessary.\n",
            "  warnings.warn(_create_warning_msg(\n"
          ]
        }
      ]
    },
    {
      "cell_type": "markdown",
      "metadata": {
        "id": "_cj433rtpoCn"
      },
      "source": [
        "Let us show some of the training images, for fun.\n",
        "\n"
      ]
    },
    {
      "cell_type": "code",
      "metadata": {
        "id": "daA7bADhpoCo",
        "outputId": "be542099-912b-45e0-c368-1460e02f0aef",
        "colab": {
          "base_uri": "https://localhost:8080/",
          "height": 175
        }
      },
      "source": [
        "import matplotlib.pyplot as plt\n",
        "import numpy as np\n",
        "\n",
        "# functions to show an image\n",
        "\n",
        "\n",
        "def imshow(img):\n",
        "    img = img / 2 + 0.5     # unnormalize\n",
        "    npimg = img.numpy()\n",
        "    plt.imshow(np.transpose(npimg, (1, 2, 0)))\n",
        "\n",
        "\n",
        "# get some random training images\n",
        "dataiter = iter(trainloader)\n",
        "images, labels = next(dataiter)\n",
        "\n",
        "# show images\n",
        "imshow(torchvision.utils.make_grid(images[:4]))\n",
        "# print labels\n",
        "print(' '.join('%5s' % classes[labels[j]] for j in range(4)))"
      ],
      "execution_count": null,
      "outputs": [
        {
          "output_type": "stream",
          "name": "stderr",
          "text": [
            "WARNING:matplotlib.image:Clipping input data to the valid range for imshow with RGB data ([0..1] for floats or [0..255] for integers).\n"
          ]
        },
        {
          "output_type": "stream",
          "name": "stdout",
          "text": [
            " ship  bird   cat   dog\n"
          ]
        },
        {
          "output_type": "display_data",
          "data": {
            "text/plain": [
              "<Figure size 432x288 with 1 Axes>"
            ],
            "image/png": "[encoded data removed]"
          },
          "metadata": {
            "needs_background": "light"
          }
        }
      ]
    },
    {
      "cell_type": "markdown",
      "metadata": {
        "id": "28OpHA_LpoCq"
      },
      "source": [
        ":2. Define a Convolution Neural Network\n",
        "Copy the neural network from the Neural Networks section before and modify it to\n",
        "take 3-channel images (instead of 1-channel images as it was defined).\n",
        "\n"
      ]
    },
    {
      "cell_type": "code",
      "metadata": {
        "id": "0jjLwLLQpoCr"
      },
      "source": [
        "import torch.nn as nn\n",
        "import torch.nn.functional as F\n",
        "\n",
        "\n",
        "class Net(nn.Module):\n",
        "    def __init__(self):\n",
        "        super(Net, self).__init__()\n",
        "        self.conv1 = nn.Sequential(\n",
        "            nn.Conv2d(in_channels=3, out_channels=16, kernel_size=(3, 3), padding=1, bias=False),\n",
        "            nn.ReLU(),\n",
        "            nn.BatchNorm2d(16)\n",
        "        ) # 32 | 32\n",
        "        self.conv2 = nn.Sequential(\n",
        "            nn.Conv2d(in_channels=16, out_channels=32, kernel_size=(3, 3), padding=0, bias=False),\n",
        "            nn.ReLU(),\n",
        "            nn.BatchNorm2d(32)\n",
        "        ) # 32 | 30\n",
        "        self.conv3 = nn.Sequential(\n",
        "            nn.Conv2d(in_channels=32, out_channels=64, kernel_size=(3, 3), padding=0, bias=False),\n",
        "            nn.ReLU(),\n",
        "            nn.BatchNorm2d(64)\n",
        "        ) # 30 | 28\n",
        "        self.conv3b = nn.Sequential(\n",
        "            nn.Conv2d(in_channels=64, out_channels=32, kernel_size=(3, 3), padding=1, bias=False),\n",
        "            nn.ReLU(),\n",
        "            nn.BatchNorm2d(32)\n",
        "        ) # 28 | 28\n",
        "        '''\n",
        "        self.pool1 = nn.Sequential(\n",
        "            nn.Conv2d(in_channels=32, out_channels=64, kernel_size=(3, 3), stride = 2, padding=1, bias=False),\n",
        "            nn.ReLU(),\n",
        "            nn.BatchNorm2d(64)\n",
        "        ) # 30 | 28 # ip = 28 | op = 14 \n",
        "        '''\n",
        "        self.pool1 = nn.Sequential(\n",
        "            nn.Conv2d(in_channels=32, out_channels=64, kernel_size=(2, 2), stride = 2, padding=2, dilation = 4, bias=False),\n",
        "            nn.ReLU(),\n",
        "            nn.BatchNorm2d(64)\n",
        "        ) # 30 | 28 # ip = 28 | op = 14 \n",
        "        self.conv4 = nn.Sequential(\n",
        "            nn.Conv2d(in_channels=64, out_channels=100, kernel_size=(3, 3), padding=0, bias=False),\n",
        "            nn.ReLU(),\n",
        "            nn.BatchNorm2d(100)\n",
        "        ) # 14 | 12\n",
        "        self.conv5 = nn.Sequential(\n",
        "            nn.Conv2d(in_channels=100, out_channels=64, kernel_size=(3, 3), padding=1, dilation = 2, bias=False),\n",
        "            nn.ReLU(),\n",
        "            nn.BatchNorm2d(64)\n",
        "        ) # 12 | 10\n",
        "        self.conv6 = nn.Sequential(\n",
        "            nn.Conv2d(in_channels=64, out_channels=32, kernel_size=(3, 3), padding=1, dilation = 2, bias=False),\n",
        "            nn.ReLU(),\n",
        "            nn.BatchNorm2d(32)\n",
        "        ) # 10 | 8\n",
        "\n",
        "        self.depthwise_separable_conv = nn.Sequential(\n",
        "            nn.Conv2d(in_channels = 32, out_channels = 32, kernel_size = (3, 3), padding = 0, groups = 32, bias = False),\n",
        "            nn.Conv2d(in_channels = 32, out_channels = 20, kernel_size = (1, 1), padding = 0, bias = False),\n",
        "            nn.ReLU(),\n",
        "            nn.BatchNorm2d(20)\n",
        "        ) # 8 | 6\n",
        "\n",
        "        self.conv7 = nn.Sequential(\n",
        "            nn.Conv2d(in_channels=20, out_channels=16, kernel_size=(3, 3), padding=0, bias=False),\n",
        "            nn.ReLU(),\n",
        "            nn.BatchNorm2d(16)\n",
        "        ) # 6 | 4\n",
        "\n",
        "        # GAP layer\n",
        "        self.gap = nn.Sequential(\n",
        "            nn.AvgPool2d(kernel_size=4)\n",
        "        ) # ip = 10 | op = 1 \n",
        "\n",
        "        self.conv8 = nn.Sequential(\n",
        "            nn.Conv2d(in_channels=16, out_channels=10, kernel_size=(1, 1), padding=0, bias=False),\n",
        "        ) # ip = 1 | op = 1 | RF = 28\n",
        "\n",
        "    def forward(self, x):\n",
        "        x = self.conv1(x)\n",
        "        x = self.conv2(x)\n",
        "        x = self.conv3(x)\n",
        "        x = self.conv3b(x)\n",
        "        x = self.pool1(x)\n",
        "        x = self.conv4(x)\n",
        "        x = self.conv5(x)\n",
        "        x = self.conv6(x)\n",
        "        x = self.depthwise_separable_conv(x)\n",
        "        x = self.conv7(x)\n",
        "        x = self.gap(x)\n",
        "        x = self.conv8(x)\n",
        "        x = x.view(-1, 10)\n",
        "        return F.log_softmax(x, dim=-1)"
      ],
      "execution_count": null,
      "outputs": []
    },
    {
      "cell_type": "code",
      "source": [
        "from torchscan import summary\n",
        "\n",
        "device = torch.device(\"cuda\" if cuda else \"cpu\")\n",
        "print(device)\n",
        "model = Net().to(device)\n",
        "summary(model, (3, 32, 32), receptive_field=True, max_depth=1)"
      ],
      "metadata": {
        "colab": {
          "base_uri": "https://localhost:8080/"
        },
        "id": "eh0B1rcPEcbX",
        "outputId": "d8cf64f6-18ba-4b61-8a14-731d2f4e04f9"
      },
      "execution_count": null,
      "outputs": [
        {
          "output_type": "stream",
          "name": "stdout",
          "text": [
            "cuda\n",
            "___________________________________________________________________________________________\n",
            "Layer                         Type          Output Shape         Param #    Receptive field\n",
            "===========================================================================================\n",
            "net                           Net           (-1, 10)             0          1              \n",
            "├─conv1                       Sequential    (-1, 16, 32, 32)     497        3              \n",
            "├─conv2                       Sequential    (-1, 32, 30, 30)     4,737      5              \n",
            "├─conv3                       Sequential    (-1, 64, 28, 28)     18,689     7              \n",
            "├─conv3b                      Sequential    (-1, 32, 28, 28)     18,561     9              \n",
            "├─pool1                       Sequential    (-1, 64, 14, 14)     8,449      13             \n",
            "├─conv4                       Sequential    (-1, 100, 12, 12)    58,001     17             \n",
            "├─conv5                       Sequential    (-1, 64, 10, 10)     57,857     25             \n",
            "├─conv6                       Sequential    (-1, 32, 8, 8)       18,561     33             \n",
            "├─depthwise_separable_conv    Sequential    (-1, 20, 6, 6)       1,009      37             \n",
            "├─conv7                       Sequential    (-1, 16, 4, 4)       2,945      41             \n",
            "├─gap                         Sequential    (-1, 16, 1, 1)       0          47             \n",
            "├─conv8                       Sequential    (-1, 10, 1, 1)       160        47             \n",
            "===========================================================================================\n",
            "Trainable params: 188,576\n",
            "Non-trainable params: 0\n",
            "Total params: 188,576\n",
            "-------------------------------------------------------------------------------------------\n",
            "Model size (params + buffers): 0.72 Mb\n",
            "Framework & CUDA overhead: 1083.25 Mb\n",
            "Total RAM usage: 1083.97 Mb\n",
            "-------------------------------------------------------------------------------------------\n",
            "Floating Point Operations on forward: 102.08 MFLOPs\n",
            "Multiply-Accumulations on forward: 51.20 MMACs\n",
            "Direct memory accesses on forward: 51.39 MDMAs\n",
            "___________________________________________________________________________________________\n"
          ]
        }
      ]
    },
    {
      "cell_type": "markdown",
      "metadata": {
        "id": "Wdw2NNCUpoCu"
      },
      "source": [
        "3. Define a Loss function and optimizer\n",
        "\n",
        "Let's use a Classification Cross-Entropy loss and SGD with momentum.\n",
        "\n"
      ]
    },
    {
      "cell_type": "code",
      "metadata": {
        "id": "M4xBbDROpoCv"
      },
      "source": [
        "import torch.optim as optim\n",
        "\n",
        "criterion = nn.CrossEntropyLoss()\n",
        "optimizer = optim.SGD(model.parameters(), lr=0.001, momentum=0.9)"
      ],
      "execution_count": null,
      "outputs": []
    },
    {
      "cell_type": "markdown",
      "metadata": {
        "id": "O-odOrhdpoC2"
      },
      "source": [
        "4. Train the network\n",
        "\n",
        "This is when things start to get interesting.\n",
        "We simply have to loop over our data iterator, and feed the inputs to the\n",
        "network and optimize.\n",
        "\n"
      ]
    },
    {
      "cell_type": "code",
      "source": [
        "from tqdm import tqdm\n",
        "\n",
        "train_losses = []\n",
        "test_losses = []\n",
        "train_acc = []\n",
        "test_acc = []\n",
        "\n",
        "def train(model, device, train_loader, optimizer, epoch):\n",
        "  model.train()\n",
        "  pbar = tqdm(train_loader)\n",
        "  correct = 0\n",
        "  processed = 0\n",
        "  for batch_idx, (data, target) in enumerate(pbar):\n",
        "    # get samples\n",
        "    data, target = data.to(device), target.to(device)\n",
        "\n",
        "    # Init\n",
        "    optimizer.zero_grad()\n",
        "    # In PyTorch, we need to set the gradients to zero before starting to do backpropragation because PyTorch accumulates the gradients on subsequent backward passes. \n",
        "    # Because of this, when you start your training loop, ideally you should zero out the gradients so that you do the parameter update correctly.\n",
        "\n",
        "    # Predict\n",
        "    y_pred = model(data)\n",
        "\n",
        "    # Calculate loss\n",
        "    loss = F.nll_loss(y_pred, target)\n",
        "    train_losses.append(loss.item())\n",
        "\n",
        "    # Backpropagation\n",
        "    loss.backward()\n",
        "    optimizer.step()\n",
        "\n",
        "    # Update pbar-tqdm\n",
        "    \n",
        "    pred = y_pred.argmax(dim=1, keepdim=True)  # get the index of the max log-probability\n",
        "    correct += pred.eq(target.view_as(pred)).sum().item()\n",
        "    processed += len(data)\n",
        "\n",
        "    pbar.set_description(desc= f'Loss={loss.item()} Batch_id={batch_idx} Accuracy={100*correct/processed:0.2f}')\n",
        "    train_acc.append(100*correct/processed)\n",
        "\n",
        "def test(model, device, test_loader):\n",
        "    model.eval()\n",
        "    test_loss = 0\n",
        "    correct = 0\n",
        "    with torch.no_grad():\n",
        "        for data, target in test_loader:\n",
        "            data, target = data.to(device), target.to(device)\n",
        "            output = model(data)\n",
        "            test_loss += F.nll_loss(output, target, reduction='sum').item()  # sum up batch loss\n",
        "            pred = output.argmax(dim=1, keepdim=True)  # get the index of the max log-probability\n",
        "            correct += pred.eq(target.view_as(pred)).sum().item()\n",
        "\n",
        "    test_loss /= len(test_loader.dataset)\n",
        "    test_losses.append(test_loss)\n",
        "\n",
        "    print('\\nTest set: Average loss: {:.4f}, Accuracy: {}/{} ({:.2f}%)\\n'.format(\n",
        "        test_loss, correct, len(test_loader.dataset),\n",
        "        100. * correct / len(test_loader.dataset)))\n",
        "    \n",
        "    test_acc.append(100. * correct / len(test_loader.dataset))"
      ],
      "metadata": {
        "id": "7bAZMlBAKX44"
      },
      "execution_count": null,
      "outputs": []
    },
    {
      "cell_type": "code",
      "source": [
        "model =  Net().to(device)\n",
        "optimizer = optim.SGD(model.parameters(), lr=0.01, momentum=0.9)\n",
        "EPOCHS = 100\n",
        "for epoch in range(EPOCHS):\n",
        "    print(\"EPOCH:\", epoch)\n",
        "    train(model, device, trainloader, optimizer, epoch)\n",
        "    test(model, device, testloader)"
      ],
      "metadata": {
        "colab": {
          "base_uri": "https://localhost:8080/"
        },
        "id": "uFe_QtMFKo_N",
        "outputId": "2e7728fb-4a9a-4b9c-d60a-d5e0e423e9f1"
      },
      "execution_count": null,
      "outputs": [
        {
          "output_type": "stream",
          "name": "stdout",
          "text": [
            "EPOCH: 0\n"
          ]
        },
        {
          "output_type": "stream",
          "name": "stderr",
          "text": [
            "\r  0%|          | 0/391 [00:00<?, ?it/s]/usr/local/lib/python3.8/dist-packages/torch/utils/data/dataloader.py:554: UserWarning: This DataLoader will create 4 worker processes in total. Our suggested max number of worker in current system is 2, which is smaller than what this DataLoader is going to create. Please be aware that excessive worker creation might get DataLoader running slow or even freeze, lower the worker number to avoid potential slowness/freeze if necessary.\n",
            "  warnings.warn(_create_warning_msg(\n",
            "Loss=1.5127655267715454 Batch_id=390 Accuracy=37.95: 100%|██████████| 391/391 [00:17<00:00, 22.61it/s]\n"
          ]
        },
        {
          "output_type": "stream",
          "name": "stdout",
          "text": [
            "\n",
            "Test set: Average loss: 1.3486, Accuracy: 5152/10000 (51.52%)\n",
            "\n",
            "EPOCH: 1\n"
          ]
        },
        {
          "output_type": "stream",
          "name": "stderr",
          "text": [
            "Loss=1.2934973239898682 Batch_id=390 Accuracy=51.27: 100%|██████████| 391/391 [00:18<00:00, 20.70it/s]\n"
          ]
        },
        {
          "output_type": "stream",
          "name": "stdout",
          "text": [
            "\n",
            "Test set: Average loss: 1.1264, Accuracy: 6018/10000 (60.18%)\n",
            "\n",
            "EPOCH: 2\n"
          ]
        },
        {
          "output_type": "stream",
          "name": "stderr",
          "text": [
            "Loss=1.1495840549468994 Batch_id=390 Accuracy=57.46: 100%|██████████| 391/391 [00:14<00:00, 26.23it/s]\n"
          ]
        },
        {
          "output_type": "stream",
          "name": "stdout",
          "text": [
            "\n",
            "Test set: Average loss: 0.9262, Accuracy: 6763/10000 (67.63%)\n",
            "\n",
            "EPOCH: 3\n"
          ]
        },
        {
          "output_type": "stream",
          "name": "stderr",
          "text": [
            "Loss=0.8196481466293335 Batch_id=390 Accuracy=61.92: 100%|██████████| 391/391 [00:14<00:00, 26.65it/s]\n"
          ]
        },
        {
          "output_type": "stream",
          "name": "stdout",
          "text": [
            "\n",
            "Test set: Average loss: 0.8663, Accuracy: 6995/10000 (69.95%)\n",
            "\n",
            "EPOCH: 4\n"
          ]
        },
        {
          "output_type": "stream",
          "name": "stderr",
          "text": [
            "Loss=1.0159142017364502 Batch_id=390 Accuracy=64.68: 100%|██████████| 391/391 [00:14<00:00, 27.30it/s]\n"
          ]
        },
        {
          "output_type": "stream",
          "name": "stdout",
          "text": [
            "\n",
            "Test set: Average loss: 0.7824, Accuracy: 7233/10000 (72.33%)\n",
            "\n",
            "EPOCH: 5\n"
          ]
        },
        {
          "output_type": "stream",
          "name": "stderr",
          "text": [
            "Loss=0.950154185295105 Batch_id=390 Accuracy=66.88: 100%|██████████| 391/391 [00:14<00:00, 27.28it/s]\n"
          ]
        },
        {
          "output_type": "stream",
          "name": "stdout",
          "text": [
            "\n",
            "Test set: Average loss: 0.7285, Accuracy: 7454/10000 (74.54%)\n",
            "\n",
            "EPOCH: 6\n"
          ]
        },
        {
          "output_type": "stream",
          "name": "stderr",
          "text": [
            "Loss=0.9476416707038879 Batch_id=390 Accuracy=68.61: 100%|██████████| 391/391 [00:14<00:00, 26.15it/s]\n"
          ]
        },
        {
          "output_type": "stream",
          "name": "stdout",
          "text": [
            "\n",
            "Test set: Average loss: 0.7008, Accuracy: 7574/10000 (75.74%)\n",
            "\n",
            "EPOCH: 7\n"
          ]
        },
        {
          "output_type": "stream",
          "name": "stderr",
          "text": [
            "Loss=0.857933521270752 Batch_id=390 Accuracy=69.92: 100%|██████████| 391/391 [00:14<00:00, 26.62it/s]\n"
          ]
        },
        {
          "output_type": "stream",
          "name": "stdout",
          "text": [
            "\n",
            "Test set: Average loss: 0.6532, Accuracy: 7759/10000 (77.59%)\n",
            "\n",
            "EPOCH: 8\n"
          ]
        },
        {
          "output_type": "stream",
          "name": "stderr",
          "text": [
            "Loss=0.9173291325569153 Batch_id=390 Accuracy=71.56: 100%|██████████| 391/391 [00:14<00:00, 26.66it/s]\n"
          ]
        },
        {
          "output_type": "stream",
          "name": "stdout",
          "text": [
            "\n",
            "Test set: Average loss: 0.5804, Accuracy: 8008/10000 (80.08%)\n",
            "\n",
            "EPOCH: 9\n"
          ]
        },
        {
          "output_type": "stream",
          "name": "stderr",
          "text": [
            "Loss=0.7719423770904541 Batch_id=390 Accuracy=72.79: 100%|██████████| 391/391 [00:15<00:00, 25.01it/s]\n"
          ]
        },
        {
          "output_type": "stream",
          "name": "stdout",
          "text": [
            "\n",
            "Test set: Average loss: 0.5732, Accuracy: 8039/10000 (80.39%)\n",
            "\n",
            "EPOCH: 10\n"
          ]
        },
        {
          "output_type": "stream",
          "name": "stderr",
          "text": [
            "Loss=0.9695185422897339 Batch_id=390 Accuracy=73.63: 100%|██████████| 391/391 [00:14<00:00, 26.73it/s]\n"
          ]
        },
        {
          "output_type": "stream",
          "name": "stdout",
          "text": [
            "\n",
            "Test set: Average loss: 0.5727, Accuracy: 8040/10000 (80.40%)\n",
            "\n",
            "EPOCH: 11\n"
          ]
        },
        {
          "output_type": "stream",
          "name": "stderr",
          "text": [
            "Loss=0.665337324142456 Batch_id=390 Accuracy=74.45: 100%|██████████| 391/391 [00:14<00:00, 27.16it/s]\n"
          ]
        },
        {
          "output_type": "stream",
          "name": "stdout",
          "text": [
            "\n",
            "Test set: Average loss: 0.5721, Accuracy: 8062/10000 (80.62%)\n",
            "\n",
            "EPOCH: 12\n"
          ]
        },
        {
          "output_type": "stream",
          "name": "stderr",
          "text": [
            "Loss=0.5873953700065613 Batch_id=390 Accuracy=75.30: 100%|██████████| 391/391 [00:14<00:00, 27.00it/s]\n"
          ]
        },
        {
          "output_type": "stream",
          "name": "stdout",
          "text": [
            "\n",
            "Test set: Average loss: 0.5269, Accuracy: 8198/10000 (81.98%)\n",
            "\n",
            "EPOCH: 13\n"
          ]
        },
        {
          "output_type": "stream",
          "name": "stderr",
          "text": [
            "Loss=0.7554229497909546 Batch_id=390 Accuracy=76.03: 100%|██████████| 391/391 [00:14<00:00, 26.48it/s]\n"
          ]
        },
        {
          "output_type": "stream",
          "name": "stdout",
          "text": [
            "\n",
            "Test set: Average loss: 0.5075, Accuracy: 8275/10000 (82.75%)\n",
            "\n",
            "EPOCH: 14\n"
          ]
        },
        {
          "output_type": "stream",
          "name": "stderr",
          "text": [
            "Loss=0.6182581782341003 Batch_id=390 Accuracy=76.20: 100%|██████████| 391/391 [00:14<00:00, 26.08it/s]\n"
          ]
        },
        {
          "output_type": "stream",
          "name": "stdout",
          "text": [
            "\n",
            "Test set: Average loss: 0.5041, Accuracy: 8258/10000 (82.58%)\n",
            "\n",
            "EPOCH: 15\n"
          ]
        },
        {
          "output_type": "stream",
          "name": "stderr",
          "text": [
            "Loss=0.882501482963562 Batch_id=390 Accuracy=77.37: 100%|██████████| 391/391 [00:14<00:00, 26.76it/s]\n"
          ]
        },
        {
          "output_type": "stream",
          "name": "stdout",
          "text": [
            "\n",
            "Test set: Average loss: 0.4964, Accuracy: 8304/10000 (83.04%)\n",
            "\n",
            "EPOCH: 16\n"
          ]
        },
        {
          "output_type": "stream",
          "name": "stderr",
          "text": [
            "Loss=0.5434976816177368 Batch_id=390 Accuracy=77.55: 100%|██████████| 391/391 [00:14<00:00, 26.80it/s]\n"
          ]
        },
        {
          "output_type": "stream",
          "name": "stdout",
          "text": [
            "\n",
            "Test set: Average loss: 0.4725, Accuracy: 8357/10000 (83.57%)\n",
            "\n",
            "EPOCH: 17\n"
          ]
        },
        {
          "output_type": "stream",
          "name": "stderr",
          "text": [
            "Loss=0.6300684213638306 Batch_id=390 Accuracy=77.91: 100%|██████████| 391/391 [00:14<00:00, 26.90it/s]\n"
          ]
        },
        {
          "output_type": "stream",
          "name": "stdout",
          "text": [
            "\n",
            "Test set: Average loss: 0.4564, Accuracy: 8464/10000 (84.64%)\n",
            "\n",
            "EPOCH: 18\n"
          ]
        },
        {
          "output_type": "stream",
          "name": "stderr",
          "text": [
            "Loss=0.629723846912384 Batch_id=390 Accuracy=78.40: 100%|██████████| 391/391 [00:14<00:00, 27.42it/s]\n"
          ]
        },
        {
          "output_type": "stream",
          "name": "stdout",
          "text": [
            "\n",
            "Test set: Average loss: 0.4563, Accuracy: 8444/10000 (84.44%)\n",
            "\n",
            "EPOCH: 19\n"
          ]
        },
        {
          "output_type": "stream",
          "name": "stderr",
          "text": [
            "Loss=0.760962724685669 Batch_id=390 Accuracy=78.87: 100%|██████████| 391/391 [00:14<00:00, 26.94it/s]\n"
          ]
        },
        {
          "output_type": "stream",
          "name": "stdout",
          "text": [
            "\n",
            "Test set: Average loss: 0.4516, Accuracy: 8448/10000 (84.48%)\n",
            "\n",
            "EPOCH: 20\n"
          ]
        },
        {
          "output_type": "stream",
          "name": "stderr",
          "text": [
            "Loss=0.5580017566680908 Batch_id=390 Accuracy=79.20: 100%|██████████| 391/391 [00:14<00:00, 27.44it/s]\n"
          ]
        },
        {
          "output_type": "stream",
          "name": "stdout",
          "text": [
            "\n",
            "Test set: Average loss: 0.4581, Accuracy: 8422/10000 (84.22%)\n",
            "\n",
            "EPOCH: 21\n"
          ]
        },
        {
          "output_type": "stream",
          "name": "stderr",
          "text": [
            "Loss=0.6256848573684692 Batch_id=390 Accuracy=79.38: 100%|██████████| 391/391 [00:14<00:00, 27.20it/s]\n"
          ]
        },
        {
          "output_type": "stream",
          "name": "stdout",
          "text": [
            "\n",
            "Test set: Average loss: 0.4506, Accuracy: 8483/10000 (84.83%)\n",
            "\n",
            "EPOCH: 22\n"
          ]
        },
        {
          "output_type": "stream",
          "name": "stderr",
          "text": [
            "Loss=0.5485574007034302 Batch_id=390 Accuracy=79.72: 100%|██████████| 391/391 [00:14<00:00, 26.89it/s]\n"
          ]
        },
        {
          "output_type": "stream",
          "name": "stdout",
          "text": [
            "\n",
            "Test set: Average loss: 0.4434, Accuracy: 8462/10000 (84.62%)\n",
            "\n",
            "EPOCH: 23\n"
          ]
        },
        {
          "output_type": "stream",
          "name": "stderr",
          "text": [
            "Loss=0.7530108094215393 Batch_id=390 Accuracy=80.07: 100%|██████████| 391/391 [00:14<00:00, 27.10it/s]\n"
          ]
        },
        {
          "output_type": "stream",
          "name": "stdout",
          "text": [
            "\n",
            "Test set: Average loss: 0.4496, Accuracy: 8446/10000 (84.46%)\n",
            "\n",
            "EPOCH: 24\n"
          ]
        },
        {
          "output_type": "stream",
          "name": "stderr",
          "text": [
            "Loss=0.6204602122306824 Batch_id=390 Accuracy=80.33: 100%|██████████| 391/391 [00:15<00:00, 25.46it/s]\n"
          ]
        },
        {
          "output_type": "stream",
          "name": "stdout",
          "text": [
            "\n",
            "Test set: Average loss: 0.4213, Accuracy: 8569/10000 (85.69%)\n",
            "\n",
            "EPOCH: 25\n"
          ]
        },
        {
          "output_type": "stream",
          "name": "stderr",
          "text": [
            "Loss=0.6267459392547607 Batch_id=390 Accuracy=80.69: 100%|██████████| 391/391 [00:14<00:00, 26.90it/s]\n"
          ]
        },
        {
          "output_type": "stream",
          "name": "stdout",
          "text": [
            "\n",
            "Test set: Average loss: 0.4330, Accuracy: 8495/10000 (84.95%)\n",
            "\n",
            "EPOCH: 26\n"
          ]
        },
        {
          "output_type": "stream",
          "name": "stderr",
          "text": [
            "Loss=0.3798222243785858 Batch_id=390 Accuracy=81.04: 100%|██████████| 391/391 [00:14<00:00, 26.74it/s]\n"
          ]
        },
        {
          "output_type": "stream",
          "name": "stdout",
          "text": [
            "\n",
            "Test set: Average loss: 0.4239, Accuracy: 8575/10000 (85.75%)\n",
            "\n",
            "EPOCH: 27\n"
          ]
        },
        {
          "output_type": "stream",
          "name": "stderr",
          "text": [
            "Loss=0.7490525245666504 Batch_id=390 Accuracy=81.22: 100%|██████████| 391/391 [00:14<00:00, 26.66it/s]\n"
          ]
        },
        {
          "output_type": "stream",
          "name": "stdout",
          "text": [
            "\n",
            "Test set: Average loss: 0.4088, Accuracy: 8613/10000 (86.13%)\n",
            "\n",
            "EPOCH: 28\n"
          ]
        },
        {
          "output_type": "stream",
          "name": "stderr",
          "text": [
            "Loss=0.3291148245334625 Batch_id=390 Accuracy=81.36: 100%|██████████| 391/391 [00:14<00:00, 27.18it/s]\n"
          ]
        },
        {
          "output_type": "stream",
          "name": "stdout",
          "text": [
            "\n",
            "Test set: Average loss: 0.4192, Accuracy: 8573/10000 (85.73%)\n",
            "\n",
            "EPOCH: 29\n"
          ]
        },
        {
          "output_type": "stream",
          "name": "stderr",
          "text": [
            "Loss=0.5590541362762451 Batch_id=390 Accuracy=81.87: 100%|██████████| 391/391 [00:14<00:00, 27.18it/s]\n"
          ]
        },
        {
          "output_type": "stream",
          "name": "stdout",
          "text": [
            "\n",
            "Test set: Average loss: 0.4030, Accuracy: 8621/10000 (86.21%)\n",
            "\n",
            "EPOCH: 30\n"
          ]
        },
        {
          "output_type": "stream",
          "name": "stderr",
          "text": [
            "Loss=0.4898350238800049 Batch_id=390 Accuracy=81.55: 100%|██████████| 391/391 [00:14<00:00, 27.11it/s]\n"
          ]
        },
        {
          "output_type": "stream",
          "name": "stdout",
          "text": [
            "\n",
            "Test set: Average loss: 0.3979, Accuracy: 8652/10000 (86.52%)\n",
            "\n",
            "EPOCH: 31\n"
          ]
        },
        {
          "output_type": "stream",
          "name": "stderr",
          "text": [
            "Loss=0.6622996926307678 Batch_id=390 Accuracy=82.10: 100%|██████████| 391/391 [00:14<00:00, 27.10it/s]\n"
          ]
        },
        {
          "output_type": "stream",
          "name": "stdout",
          "text": [
            "\n",
            "Test set: Average loss: 0.4159, Accuracy: 8582/10000 (85.82%)\n",
            "\n",
            "EPOCH: 32\n"
          ]
        },
        {
          "output_type": "stream",
          "name": "stderr",
          "text": [
            "Loss=0.4820632040500641 Batch_id=390 Accuracy=82.22: 100%|██████████| 391/391 [00:14<00:00, 26.65it/s]\n"
          ]
        },
        {
          "output_type": "stream",
          "name": "stdout",
          "text": [
            "\n",
            "Test set: Average loss: 0.4064, Accuracy: 8633/10000 (86.33%)\n",
            "\n",
            "EPOCH: 33\n"
          ]
        },
        {
          "output_type": "stream",
          "name": "stderr",
          "text": [
            "Loss=0.5406879186630249 Batch_id=390 Accuracy=82.56: 100%|██████████| 391/391 [00:14<00:00, 26.82it/s]\n"
          ]
        },
        {
          "output_type": "stream",
          "name": "stdout",
          "text": [
            "\n",
            "Test set: Average loss: 0.3976, Accuracy: 8658/10000 (86.58%)\n",
            "\n",
            "EPOCH: 34\n"
          ]
        },
        {
          "output_type": "stream",
          "name": "stderr",
          "text": [
            "Loss=0.32180625200271606 Batch_id=390 Accuracy=82.64: 100%|██████████| 391/391 [00:14<00:00, 27.35it/s]\n"
          ]
        },
        {
          "output_type": "stream",
          "name": "stdout",
          "text": [
            "\n",
            "Test set: Average loss: 0.4005, Accuracy: 8637/10000 (86.37%)\n",
            "\n",
            "EPOCH: 35\n"
          ]
        },
        {
          "output_type": "stream",
          "name": "stderr",
          "text": [
            "Loss=0.5290950536727905 Batch_id=390 Accuracy=82.60: 100%|██████████| 391/391 [00:14<00:00, 26.82it/s]\n"
          ]
        },
        {
          "output_type": "stream",
          "name": "stdout",
          "text": [
            "\n",
            "Test set: Average loss: 0.3907, Accuracy: 8620/10000 (86.20%)\n",
            "\n",
            "EPOCH: 36\n"
          ]
        },
        {
          "output_type": "stream",
          "name": "stderr",
          "text": [
            "Loss=0.5135248899459839 Batch_id=390 Accuracy=82.99: 100%|██████████| 391/391 [00:14<00:00, 26.68it/s]\n"
          ]
        },
        {
          "output_type": "stream",
          "name": "stdout",
          "text": [
            "\n",
            "Test set: Average loss: 0.3859, Accuracy: 8678/10000 (86.78%)\n",
            "\n",
            "EPOCH: 37\n"
          ]
        },
        {
          "output_type": "stream",
          "name": "stderr",
          "text": [
            "Loss=0.3214549124240875 Batch_id=390 Accuracy=82.71: 100%|██████████| 391/391 [00:15<00:00, 25.10it/s]\n"
          ]
        },
        {
          "output_type": "stream",
          "name": "stdout",
          "text": [
            "\n",
            "Test set: Average loss: 0.3865, Accuracy: 8689/10000 (86.89%)\n",
            "\n",
            "EPOCH: 38\n"
          ]
        },
        {
          "output_type": "stream",
          "name": "stderr",
          "text": [
            "Loss=0.3691864013671875 Batch_id=390 Accuracy=82.97: 100%|██████████| 391/391 [00:14<00:00, 27.40it/s]\n"
          ]
        },
        {
          "output_type": "stream",
          "name": "stdout",
          "text": [
            "\n",
            "Test set: Average loss: 0.3887, Accuracy: 8659/10000 (86.59%)\n",
            "\n",
            "EPOCH: 39\n"
          ]
        },
        {
          "output_type": "stream",
          "name": "stderr",
          "text": [
            "Loss=0.41213828325271606 Batch_id=390 Accuracy=83.28: 100%|██████████| 391/391 [00:14<00:00, 27.06it/s]\n"
          ]
        },
        {
          "output_type": "stream",
          "name": "stdout",
          "text": [
            "\n",
            "Test set: Average loss: 0.3871, Accuracy: 8712/10000 (87.12%)\n",
            "\n",
            "EPOCH: 40\n"
          ]
        },
        {
          "output_type": "stream",
          "name": "stderr",
          "text": [
            "Loss=0.43224018812179565 Batch_id=390 Accuracy=83.35: 100%|██████████| 391/391 [00:14<00:00, 26.99it/s]\n"
          ]
        },
        {
          "output_type": "stream",
          "name": "stdout",
          "text": [
            "\n",
            "Test set: Average loss: 0.3902, Accuracy: 8706/10000 (87.06%)\n",
            "\n",
            "EPOCH: 41\n"
          ]
        },
        {
          "output_type": "stream",
          "name": "stderr",
          "text": [
            "Loss=0.405611127614975 Batch_id=390 Accuracy=83.75: 100%|██████████| 391/391 [00:14<00:00, 26.98it/s]\n"
          ]
        },
        {
          "output_type": "stream",
          "name": "stdout",
          "text": [
            "\n",
            "Test set: Average loss: 0.3717, Accuracy: 8764/10000 (87.64%)\n",
            "\n",
            "EPOCH: 42\n"
          ]
        },
        {
          "output_type": "stream",
          "name": "stderr",
          "text": [
            "Loss=0.5657268762588501 Batch_id=390 Accuracy=83.69: 100%|██████████| 391/391 [00:14<00:00, 26.86it/s]\n"
          ]
        },
        {
          "output_type": "stream",
          "name": "stdout",
          "text": [
            "\n",
            "Test set: Average loss: 0.3808, Accuracy: 8719/10000 (87.19%)\n",
            "\n",
            "EPOCH: 43\n"
          ]
        },
        {
          "output_type": "stream",
          "name": "stderr",
          "text": [
            "Loss=0.4435543119907379 Batch_id=390 Accuracy=83.59: 100%|██████████| 391/391 [00:14<00:00, 27.05it/s]\n"
          ]
        },
        {
          "output_type": "stream",
          "name": "stdout",
          "text": [
            "\n",
            "Test set: Average loss: 0.3772, Accuracy: 8744/10000 (87.44%)\n",
            "\n",
            "EPOCH: 44\n"
          ]
        },
        {
          "output_type": "stream",
          "name": "stderr",
          "text": [
            "Loss=0.6249765157699585 Batch_id=390 Accuracy=83.92: 100%|██████████| 391/391 [00:14<00:00, 27.26it/s]\n"
          ]
        },
        {
          "output_type": "stream",
          "name": "stdout",
          "text": [
            "\n",
            "Test set: Average loss: 0.3781, Accuracy: 8729/10000 (87.29%)\n",
            "\n",
            "EPOCH: 45\n"
          ]
        },
        {
          "output_type": "stream",
          "name": "stderr",
          "text": [
            "Loss=0.3798156678676605 Batch_id=390 Accuracy=83.98: 100%|██████████| 391/391 [00:14<00:00, 26.59it/s]\n"
          ]
        },
        {
          "output_type": "stream",
          "name": "stdout",
          "text": [
            "\n",
            "Test set: Average loss: 0.4022, Accuracy: 8653/10000 (86.53%)\n",
            "\n",
            "EPOCH: 46\n"
          ]
        },
        {
          "output_type": "stream",
          "name": "stderr",
          "text": [
            "Loss=0.4839811325073242 Batch_id=390 Accuracy=84.02: 100%|██████████| 391/391 [00:14<00:00, 26.85it/s]\n"
          ]
        },
        {
          "output_type": "stream",
          "name": "stdout",
          "text": [
            "\n",
            "Test set: Average loss: 0.3666, Accuracy: 8735/10000 (87.35%)\n",
            "\n",
            "EPOCH: 47\n"
          ]
        },
        {
          "output_type": "stream",
          "name": "stderr",
          "text": [
            "Loss=0.51535564661026 Batch_id=390 Accuracy=84.10: 100%|██████████| 391/391 [00:14<00:00, 27.20it/s]\n"
          ]
        },
        {
          "output_type": "stream",
          "name": "stdout",
          "text": [
            "\n",
            "Test set: Average loss: 0.3769, Accuracy: 8709/10000 (87.09%)\n",
            "\n",
            "EPOCH: 48\n"
          ]
        },
        {
          "output_type": "stream",
          "name": "stderr",
          "text": [
            "Loss=0.3414994180202484 Batch_id=390 Accuracy=84.56: 100%|██████████| 391/391 [00:14<00:00, 26.98it/s]\n"
          ]
        },
        {
          "output_type": "stream",
          "name": "stdout",
          "text": [
            "\n",
            "Test set: Average loss: 0.3593, Accuracy: 8812/10000 (88.12%)\n",
            "\n",
            "EPOCH: 49\n"
          ]
        },
        {
          "output_type": "stream",
          "name": "stderr",
          "text": [
            "Loss=0.5591815114021301 Batch_id=390 Accuracy=84.28: 100%|██████████| 391/391 [00:14<00:00, 26.71it/s]\n"
          ]
        },
        {
          "output_type": "stream",
          "name": "stdout",
          "text": [
            "\n",
            "Test set: Average loss: 0.3673, Accuracy: 8753/10000 (87.53%)\n",
            "\n",
            "EPOCH: 50\n"
          ]
        },
        {
          "output_type": "stream",
          "name": "stderr",
          "text": [
            "Loss=0.5228939652442932 Batch_id=390 Accuracy=84.54: 100%|██████████| 391/391 [00:15<00:00, 24.63it/s]\n"
          ]
        },
        {
          "output_type": "stream",
          "name": "stdout",
          "text": [
            "\n",
            "Test set: Average loss: 0.3751, Accuracy: 8728/10000 (87.28%)\n",
            "\n",
            "EPOCH: 51\n"
          ]
        },
        {
          "output_type": "stream",
          "name": "stderr",
          "text": [
            "Loss=0.4232260286808014 Batch_id=390 Accuracy=84.65: 100%|██████████| 391/391 [00:14<00:00, 26.85it/s]\n"
          ]
        },
        {
          "output_type": "stream",
          "name": "stdout",
          "text": [
            "\n",
            "Test set: Average loss: 0.3608, Accuracy: 8797/10000 (87.97%)\n",
            "\n",
            "EPOCH: 52\n"
          ]
        },
        {
          "output_type": "stream",
          "name": "stderr",
          "text": [
            "Loss=0.40077686309814453 Batch_id=390 Accuracy=84.96: 100%|██████████| 391/391 [00:14<00:00, 26.76it/s]\n"
          ]
        },
        {
          "output_type": "stream",
          "name": "stdout",
          "text": [
            "\n",
            "Test set: Average loss: 0.3691, Accuracy: 8759/10000 (87.59%)\n",
            "\n",
            "EPOCH: 53\n"
          ]
        },
        {
          "output_type": "stream",
          "name": "stderr",
          "text": [
            "Loss=0.35843372344970703 Batch_id=390 Accuracy=84.65: 100%|██████████| 391/391 [00:14<00:00, 26.81it/s]\n"
          ]
        },
        {
          "output_type": "stream",
          "name": "stdout",
          "text": [
            "\n",
            "Test set: Average loss: 0.3554, Accuracy: 8801/10000 (88.01%)\n",
            "\n",
            "EPOCH: 54\n"
          ]
        },
        {
          "output_type": "stream",
          "name": "stderr",
          "text": [
            "Loss=0.4007245898246765 Batch_id=390 Accuracy=84.93: 100%|██████████| 391/391 [00:14<00:00, 26.89it/s]\n"
          ]
        },
        {
          "output_type": "stream",
          "name": "stdout",
          "text": [
            "\n",
            "Test set: Average loss: 0.3538, Accuracy: 8786/10000 (87.86%)\n",
            "\n",
            "EPOCH: 55\n"
          ]
        },
        {
          "output_type": "stream",
          "name": "stderr",
          "text": [
            "Loss=0.4065690040588379 Batch_id=390 Accuracy=85.05: 100%|██████████| 391/391 [00:14<00:00, 26.65it/s]\n"
          ]
        },
        {
          "output_type": "stream",
          "name": "stdout",
          "text": [
            "\n",
            "Test set: Average loss: 0.3537, Accuracy: 8814/10000 (88.14%)\n",
            "\n",
            "EPOCH: 56\n"
          ]
        },
        {
          "output_type": "stream",
          "name": "stderr",
          "text": [
            "Loss=0.5057264566421509 Batch_id=390 Accuracy=85.14: 100%|██████████| 391/391 [00:14<00:00, 27.08it/s]\n"
          ]
        },
        {
          "output_type": "stream",
          "name": "stdout",
          "text": [
            "\n",
            "Test set: Average loss: 0.3542, Accuracy: 8795/10000 (87.95%)\n",
            "\n",
            "EPOCH: 57\n"
          ]
        },
        {
          "output_type": "stream",
          "name": "stderr",
          "text": [
            "Loss=0.32864198088645935 Batch_id=390 Accuracy=85.17: 100%|██████████| 391/391 [00:14<00:00, 26.81it/s]\n"
          ]
        },
        {
          "output_type": "stream",
          "name": "stdout",
          "text": [
            "\n",
            "Test set: Average loss: 0.3598, Accuracy: 8765/10000 (87.65%)\n",
            "\n",
            "EPOCH: 58\n"
          ]
        },
        {
          "output_type": "stream",
          "name": "stderr",
          "text": [
            "Loss=0.3544818162918091 Batch_id=390 Accuracy=85.45: 100%|██████████| 391/391 [00:14<00:00, 27.21it/s]\n"
          ]
        },
        {
          "output_type": "stream",
          "name": "stdout",
          "text": [
            "\n",
            "Test set: Average loss: 0.3577, Accuracy: 8787/10000 (87.87%)\n",
            "\n",
            "EPOCH: 59\n"
          ]
        },
        {
          "output_type": "stream",
          "name": "stderr",
          "text": [
            "Loss=0.29616275429725647 Batch_id=390 Accuracy=85.55: 100%|██████████| 391/391 [00:14<00:00, 26.97it/s]\n"
          ]
        },
        {
          "output_type": "stream",
          "name": "stdout",
          "text": [
            "\n",
            "Test set: Average loss: 0.3634, Accuracy: 8771/10000 (87.71%)\n",
            "\n",
            "EPOCH: 60\n"
          ]
        },
        {
          "output_type": "stream",
          "name": "stderr",
          "text": [
            "Loss=0.43222928047180176 Batch_id=390 Accuracy=85.51: 100%|██████████| 391/391 [00:14<00:00, 26.98it/s]\n"
          ]
        },
        {
          "output_type": "stream",
          "name": "stdout",
          "text": [
            "\n",
            "Test set: Average loss: 0.3507, Accuracy: 8803/10000 (88.03%)\n",
            "\n",
            "EPOCH: 61\n"
          ]
        },
        {
          "output_type": "stream",
          "name": "stderr",
          "text": [
            "Loss=0.4810360372066498 Batch_id=390 Accuracy=85.67: 100%|██████████| 391/391 [00:14<00:00, 26.58it/s]\n"
          ]
        },
        {
          "output_type": "stream",
          "name": "stdout",
          "text": [
            "\n",
            "Test set: Average loss: 0.3549, Accuracy: 8804/10000 (88.04%)\n",
            "\n",
            "EPOCH: 62\n"
          ]
        },
        {
          "output_type": "stream",
          "name": "stderr",
          "text": [
            "Loss=0.697860836982727 Batch_id=390 Accuracy=85.36: 100%|██████████| 391/391 [00:14<00:00, 26.68it/s]\n"
          ]
        },
        {
          "output_type": "stream",
          "name": "stdout",
          "text": [
            "\n",
            "Test set: Average loss: 0.3504, Accuracy: 8793/10000 (87.93%)\n",
            "\n",
            "EPOCH: 63\n"
          ]
        },
        {
          "output_type": "stream",
          "name": "stderr",
          "text": [
            "Loss=0.4361410140991211 Batch_id=390 Accuracy=85.94: 100%|██████████| 391/391 [00:15<00:00, 24.92it/s]\n"
          ]
        },
        {
          "output_type": "stream",
          "name": "stdout",
          "text": [
            "\n",
            "Test set: Average loss: 0.3643, Accuracy: 8754/10000 (87.54%)\n",
            "\n",
            "EPOCH: 64\n"
          ]
        },
        {
          "output_type": "stream",
          "name": "stderr",
          "text": [
            "Loss=0.38681530952453613 Batch_id=390 Accuracy=85.74: 100%|██████████| 391/391 [00:14<00:00, 26.71it/s]\n"
          ]
        },
        {
          "output_type": "stream",
          "name": "stdout",
          "text": [
            "\n",
            "Test set: Average loss: 0.3412, Accuracy: 8851/10000 (88.51%)\n",
            "\n",
            "EPOCH: 65\n"
          ]
        },
        {
          "output_type": "stream",
          "name": "stderr",
          "text": [
            "Loss=0.4762943685054779 Batch_id=390 Accuracy=85.89: 100%|██████████| 391/391 [00:14<00:00, 26.79it/s]\n"
          ]
        },
        {
          "output_type": "stream",
          "name": "stdout",
          "text": [
            "\n",
            "Test set: Average loss: 0.3548, Accuracy: 8800/10000 (88.00%)\n",
            "\n",
            "EPOCH: 66\n"
          ]
        },
        {
          "output_type": "stream",
          "name": "stderr",
          "text": [
            "Loss=0.5295321345329285 Batch_id=390 Accuracy=85.89: 100%|██████████| 391/391 [00:14<00:00, 26.90it/s]\n"
          ]
        },
        {
          "output_type": "stream",
          "name": "stdout",
          "text": [
            "\n",
            "Test set: Average loss: 0.3496, Accuracy: 8850/10000 (88.50%)\n",
            "\n",
            "EPOCH: 67\n"
          ]
        },
        {
          "output_type": "stream",
          "name": "stderr",
          "text": [
            "Loss=0.47660860419273376 Batch_id=390 Accuracy=86.11: 100%|██████████| 391/391 [00:14<00:00, 26.95it/s]\n"
          ]
        },
        {
          "output_type": "stream",
          "name": "stdout",
          "text": [
            "\n",
            "Test set: Average loss: 0.3511, Accuracy: 8823/10000 (88.23%)\n",
            "\n",
            "EPOCH: 68\n"
          ]
        },
        {
          "output_type": "stream",
          "name": "stderr",
          "text": [
            "Loss=0.33223381638526917 Batch_id=390 Accuracy=86.01: 100%|██████████| 391/391 [00:14<00:00, 26.52it/s]\n"
          ]
        },
        {
          "output_type": "stream",
          "name": "stdout",
          "text": [
            "\n",
            "Test set: Average loss: 0.3442, Accuracy: 8862/10000 (88.62%)\n",
            "\n",
            "EPOCH: 69\n"
          ]
        },
        {
          "output_type": "stream",
          "name": "stderr",
          "text": [
            "Loss=0.3725542426109314 Batch_id=390 Accuracy=86.15: 100%|██████████| 391/391 [00:14<00:00, 26.41it/s]\n"
          ]
        },
        {
          "output_type": "stream",
          "name": "stdout",
          "text": [
            "\n",
            "Test set: Average loss: 0.3523, Accuracy: 8846/10000 (88.46%)\n",
            "\n",
            "EPOCH: 70\n"
          ]
        },
        {
          "output_type": "stream",
          "name": "stderr",
          "text": [
            "Loss=0.49272575974464417 Batch_id=390 Accuracy=86.05: 100%|██████████| 391/391 [00:14<00:00, 26.65it/s]\n"
          ]
        },
        {
          "output_type": "stream",
          "name": "stdout",
          "text": [
            "\n",
            "Test set: Average loss: 0.3502, Accuracy: 8820/10000 (88.20%)\n",
            "\n",
            "EPOCH: 71\n"
          ]
        },
        {
          "output_type": "stream",
          "name": "stderr",
          "text": [
            "Loss=0.3315017819404602 Batch_id=390 Accuracy=86.21: 100%|██████████| 391/391 [00:14<00:00, 27.20it/s]\n"
          ]
        },
        {
          "output_type": "stream",
          "name": "stdout",
          "text": [
            "\n",
            "Test set: Average loss: 0.3515, Accuracy: 8828/10000 (88.28%)\n",
            "\n",
            "EPOCH: 72\n"
          ]
        },
        {
          "output_type": "stream",
          "name": "stderr",
          "text": [
            "Loss=0.33695143461227417 Batch_id=390 Accuracy=86.35: 100%|██████████| 391/391 [00:14<00:00, 26.64it/s]\n"
          ]
        },
        {
          "output_type": "stream",
          "name": "stdout",
          "text": [
            "\n",
            "Test set: Average loss: 0.3443, Accuracy: 8824/10000 (88.24%)\n",
            "\n",
            "EPOCH: 73\n"
          ]
        },
        {
          "output_type": "stream",
          "name": "stderr",
          "text": [
            "Loss=0.4214913249015808 Batch_id=390 Accuracy=86.49: 100%|██████████| 391/391 [00:14<00:00, 26.75it/s]\n"
          ]
        },
        {
          "output_type": "stream",
          "name": "stdout",
          "text": [
            "\n",
            "Test set: Average loss: 0.3476, Accuracy: 8833/10000 (88.33%)\n",
            "\n",
            "EPOCH: 74\n"
          ]
        },
        {
          "output_type": "stream",
          "name": "stderr",
          "text": [
            "Loss=0.28871840238571167 Batch_id=390 Accuracy=86.16: 100%|██████████| 391/391 [00:14<00:00, 26.61it/s]\n"
          ]
        },
        {
          "output_type": "stream",
          "name": "stdout",
          "text": [
            "\n",
            "Test set: Average loss: 0.3551, Accuracy: 8841/10000 (88.41%)\n",
            "\n",
            "EPOCH: 75\n"
          ]
        },
        {
          "output_type": "stream",
          "name": "stderr",
          "text": [
            "Loss=0.2868497967720032 Batch_id=390 Accuracy=86.35: 100%|██████████| 391/391 [00:14<00:00, 26.49it/s]\n"
          ]
        },
        {
          "output_type": "stream",
          "name": "stdout",
          "text": [
            "\n",
            "Test set: Average loss: 0.3475, Accuracy: 8830/10000 (88.30%)\n",
            "\n",
            "EPOCH: 76\n"
          ]
        },
        {
          "output_type": "stream",
          "name": "stderr",
          "text": [
            "Loss=0.33089298009872437 Batch_id=390 Accuracy=86.43: 100%|██████████| 391/391 [00:15<00:00, 24.81it/s]\n"
          ]
        },
        {
          "output_type": "stream",
          "name": "stdout",
          "text": [
            "\n",
            "Test set: Average loss: 0.3553, Accuracy: 8820/10000 (88.20%)\n",
            "\n",
            "EPOCH: 77\n"
          ]
        },
        {
          "output_type": "stream",
          "name": "stderr",
          "text": [
            "Loss=0.4373249411582947 Batch_id=390 Accuracy=86.66: 100%|██████████| 391/391 [00:14<00:00, 26.89it/s]\n"
          ]
        },
        {
          "output_type": "stream",
          "name": "stdout",
          "text": [
            "\n",
            "Test set: Average loss: 0.3436, Accuracy: 8838/10000 (88.38%)\n",
            "\n",
            "EPOCH: 78\n"
          ]
        },
        {
          "output_type": "stream",
          "name": "stderr",
          "text": [
            "Loss=0.2772607207298279 Batch_id=390 Accuracy=86.57: 100%|██████████| 391/391 [00:14<00:00, 26.80it/s]\n"
          ]
        },
        {
          "output_type": "stream",
          "name": "stdout",
          "text": [
            "\n",
            "Test set: Average loss: 0.3511, Accuracy: 8824/10000 (88.24%)\n",
            "\n",
            "EPOCH: 79\n"
          ]
        },
        {
          "output_type": "stream",
          "name": "stderr",
          "text": [
            "Loss=0.4685046672821045 Batch_id=390 Accuracy=86.84: 100%|██████████| 391/391 [00:15<00:00, 26.02it/s]\n"
          ]
        },
        {
          "output_type": "stream",
          "name": "stdout",
          "text": [
            "\n",
            "Test set: Average loss: 0.3476, Accuracy: 8819/10000 (88.19%)\n",
            "\n",
            "EPOCH: 80\n"
          ]
        },
        {
          "output_type": "stream",
          "name": "stderr",
          "text": [
            "Loss=0.2561308741569519 Batch_id=390 Accuracy=86.84: 100%|██████████| 391/391 [00:14<00:00, 26.40it/s]\n"
          ]
        },
        {
          "output_type": "stream",
          "name": "stdout",
          "text": [
            "\n",
            "Test set: Average loss: 0.3409, Accuracy: 8861/10000 (88.61%)\n",
            "\n",
            "EPOCH: 81\n"
          ]
        },
        {
          "output_type": "stream",
          "name": "stderr",
          "text": [
            "Loss=0.338440865278244 Batch_id=390 Accuracy=86.70: 100%|██████████| 391/391 [00:14<00:00, 26.62it/s]\n"
          ]
        },
        {
          "output_type": "stream",
          "name": "stdout",
          "text": [
            "\n",
            "Test set: Average loss: 0.3400, Accuracy: 8862/10000 (88.62%)\n",
            "\n",
            "EPOCH: 82\n"
          ]
        },
        {
          "output_type": "stream",
          "name": "stderr",
          "text": [
            "Loss=0.34615013003349304 Batch_id=390 Accuracy=86.68: 100%|██████████| 391/391 [00:14<00:00, 26.55it/s]\n"
          ]
        },
        {
          "output_type": "stream",
          "name": "stdout",
          "text": [
            "\n",
            "Test set: Average loss: 0.3520, Accuracy: 8832/10000 (88.32%)\n",
            "\n",
            "EPOCH: 83\n"
          ]
        },
        {
          "output_type": "stream",
          "name": "stderr",
          "text": [
            "Loss=0.43152427673339844 Batch_id=390 Accuracy=87.18: 100%|██████████| 391/391 [00:14<00:00, 26.63it/s]\n"
          ]
        },
        {
          "output_type": "stream",
          "name": "stdout",
          "text": [
            "\n",
            "Test set: Average loss: 0.3495, Accuracy: 8851/10000 (88.51%)\n",
            "\n",
            "EPOCH: 84\n"
          ]
        },
        {
          "output_type": "stream",
          "name": "stderr",
          "text": [
            "Loss=0.48722538352012634 Batch_id=390 Accuracy=87.19: 100%|██████████| 391/391 [00:14<00:00, 26.16it/s]\n"
          ]
        },
        {
          "output_type": "stream",
          "name": "stdout",
          "text": [
            "\n",
            "Test set: Average loss: 0.3479, Accuracy: 8871/10000 (88.71%)\n",
            "\n",
            "EPOCH: 85\n"
          ]
        },
        {
          "output_type": "stream",
          "name": "stderr",
          "text": [
            "Loss=0.34663131833076477 Batch_id=390 Accuracy=86.90: 100%|██████████| 391/391 [00:14<00:00, 26.57it/s]\n"
          ]
        },
        {
          "output_type": "stream",
          "name": "stdout",
          "text": [
            "\n",
            "Test set: Average loss: 0.3385, Accuracy: 8873/10000 (88.73%)\n",
            "\n",
            "EPOCH: 86\n"
          ]
        },
        {
          "output_type": "stream",
          "name": "stderr",
          "text": [
            "Loss=0.3843494951725006 Batch_id=390 Accuracy=87.07: 100%|██████████| 391/391 [00:14<00:00, 26.35it/s]\n"
          ]
        },
        {
          "output_type": "stream",
          "name": "stdout",
          "text": [
            "\n",
            "Test set: Average loss: 0.3347, Accuracy: 8892/10000 (88.92%)\n",
            "\n",
            "EPOCH: 87\n"
          ]
        },
        {
          "output_type": "stream",
          "name": "stderr",
          "text": [
            "Loss=0.4379568099975586 Batch_id=390 Accuracy=87.20: 100%|██████████| 391/391 [00:14<00:00, 26.69it/s]\n"
          ]
        },
        {
          "output_type": "stream",
          "name": "stdout",
          "text": [
            "\n",
            "Test set: Average loss: 0.3428, Accuracy: 8878/10000 (88.78%)\n",
            "\n",
            "EPOCH: 88\n"
          ]
        },
        {
          "output_type": "stream",
          "name": "stderr",
          "text": [
            "Loss=0.571812629699707 Batch_id=390 Accuracy=87.09: 100%|██████████| 391/391 [00:14<00:00, 26.08it/s]\n"
          ]
        },
        {
          "output_type": "stream",
          "name": "stdout",
          "text": [
            "\n",
            "Test set: Average loss: 0.3447, Accuracy: 8899/10000 (88.99%)\n",
            "\n",
            "EPOCH: 89\n"
          ]
        },
        {
          "output_type": "stream",
          "name": "stderr",
          "text": [
            "Loss=0.3686593770980835 Batch_id=390 Accuracy=87.11: 100%|██████████| 391/391 [00:16<00:00, 24.34it/s]\n"
          ]
        },
        {
          "output_type": "stream",
          "name": "stdout",
          "text": [
            "\n",
            "Test set: Average loss: 0.3434, Accuracy: 8854/10000 (88.54%)\n",
            "\n",
            "EPOCH: 90\n"
          ]
        },
        {
          "output_type": "stream",
          "name": "stderr",
          "text": [
            "Loss=0.4776943624019623 Batch_id=390 Accuracy=87.26: 100%|██████████| 391/391 [00:14<00:00, 26.98it/s]\n"
          ]
        },
        {
          "output_type": "stream",
          "name": "stdout",
          "text": [
            "\n",
            "Test set: Average loss: 0.3339, Accuracy: 8889/10000 (88.89%)\n",
            "\n",
            "EPOCH: 91\n"
          ]
        },
        {
          "output_type": "stream",
          "name": "stderr",
          "text": [
            "Loss=0.17579762637615204 Batch_id=390 Accuracy=87.28: 100%|██████████| 391/391 [00:14<00:00, 26.67it/s]\n"
          ]
        },
        {
          "output_type": "stream",
          "name": "stdout",
          "text": [
            "\n",
            "Test set: Average loss: 0.3338, Accuracy: 8904/10000 (89.04%)\n",
            "\n",
            "EPOCH: 92\n"
          ]
        },
        {
          "output_type": "stream",
          "name": "stderr",
          "text": [
            "Loss=0.30413997173309326 Batch_id=390 Accuracy=87.48: 100%|██████████| 391/391 [00:14<00:00, 26.85it/s]\n"
          ]
        },
        {
          "output_type": "stream",
          "name": "stdout",
          "text": [
            "\n",
            "Test set: Average loss: 0.3403, Accuracy: 8858/10000 (88.58%)\n",
            "\n",
            "EPOCH: 93\n"
          ]
        },
        {
          "output_type": "stream",
          "name": "stderr",
          "text": [
            "Loss=0.3446652293205261 Batch_id=390 Accuracy=87.46: 100%|██████████| 391/391 [00:14<00:00, 26.58it/s]\n"
          ]
        },
        {
          "output_type": "stream",
          "name": "stdout",
          "text": [
            "\n",
            "Test set: Average loss: 0.3370, Accuracy: 8865/10000 (88.65%)\n",
            "\n",
            "EPOCH: 94\n"
          ]
        },
        {
          "output_type": "stream",
          "name": "stderr",
          "text": [
            "Loss=0.3673158586025238 Batch_id=390 Accuracy=87.10: 100%|██████████| 391/391 [00:14<00:00, 26.99it/s]\n"
          ]
        },
        {
          "output_type": "stream",
          "name": "stdout",
          "text": [
            "\n",
            "Test set: Average loss: 0.3345, Accuracy: 8894/10000 (88.94%)\n",
            "\n",
            "EPOCH: 95\n"
          ]
        },
        {
          "output_type": "stream",
          "name": "stderr",
          "text": [
            "Loss=0.6179677248001099 Batch_id=390 Accuracy=87.33: 100%|██████████| 391/391 [00:14<00:00, 26.79it/s]\n"
          ]
        },
        {
          "output_type": "stream",
          "name": "stdout",
          "text": [
            "\n",
            "Test set: Average loss: 0.3328, Accuracy: 8880/10000 (88.80%)\n",
            "\n",
            "EPOCH: 96\n"
          ]
        },
        {
          "output_type": "stream",
          "name": "stderr",
          "text": [
            "Loss=0.3785276710987091 Batch_id=390 Accuracy=87.49: 100%|██████████| 391/391 [00:14<00:00, 26.73it/s]\n"
          ]
        },
        {
          "output_type": "stream",
          "name": "stdout",
          "text": [
            "\n",
            "Test set: Average loss: 0.3319, Accuracy: 8910/10000 (89.10%)\n",
            "\n",
            "EPOCH: 97\n"
          ]
        },
        {
          "output_type": "stream",
          "name": "stderr",
          "text": [
            "Loss=0.3533927798271179 Batch_id=390 Accuracy=87.63: 100%|██████████| 391/391 [00:14<00:00, 26.65it/s]\n"
          ]
        },
        {
          "output_type": "stream",
          "name": "stdout",
          "text": [
            "\n",
            "Test set: Average loss: 0.3355, Accuracy: 8895/10000 (88.95%)\n",
            "\n",
            "EPOCH: 98\n"
          ]
        },
        {
          "output_type": "stream",
          "name": "stderr",
          "text": [
            "Loss=0.5295607447624207 Batch_id=390 Accuracy=87.41: 100%|██████████| 391/391 [00:14<00:00, 26.65it/s]\n"
          ]
        },
        {
          "output_type": "stream",
          "name": "stdout",
          "text": [
            "\n",
            "Test set: Average loss: 0.3314, Accuracy: 8903/10000 (89.03%)\n",
            "\n",
            "EPOCH: 99\n"
          ]
        },
        {
          "output_type": "stream",
          "name": "stderr",
          "text": [
            "Loss=0.4527612328529358 Batch_id=390 Accuracy=87.60: 100%|██████████| 391/391 [00:14<00:00, 26.95it/s]\n"
          ]
        },
        {
          "output_type": "stream",
          "name": "stdout",
          "text": [
            "\n",
            "Test set: Average loss: 0.3336, Accuracy: 8890/10000 (88.90%)\n",
            "\n"
          ]
        }
      ]
    },
    {
      "cell_type": "markdown",
      "source": [
        "# Plotting train and test accuracys"
      ],
      "metadata": {
        "id": "a9lKedXiaMMt"
      }
    },
    {
      "cell_type": "code",
      "source": [
        "fig, axs = plt.subplots(2,2,figsize=(15,10))\n",
        "axs[0, 0].plot(train_losses)\n",
        "axs[0, 0].set_title(\"Training Loss\")\n",
        "axs[1, 0].plot(train_acc)\n",
        "axs[1, 0].set_title(\"Training Accuracy\")\n",
        "axs[0, 1].plot(test_losses)\n",
        "axs[0, 1].set_title(\"Test Loss\")\n",
        "axs[1, 1].plot(test_acc)\n",
        "axs[1, 1].set_title(\"Test Accuracy\")"
      ],
      "metadata": {
        "colab": {
          "base_uri": "https://localhost:8080/",
          "height": 625
        },
        "id": "-tENudgKaPPM",
        "outputId": "e2a3f4f9-ec6c-4574-b70a-369296362696"
      },
      "execution_count": null,
      "outputs": [
        {
          "output_type": "execute_result",
          "data": {
            "text/plain": [
              "Text(0.5, 1.0, 'Test Accuracy')"
            ]
          },
          "metadata": {},
          "execution_count": 14
        },
        {
          "output_type": "display_data",
          "data": {
            "text/plain": [
              "<Figure size 1080x720 with 4 Axes>"
            ],
            "image/png": "[encoded data removed]"
          },
          "metadata": {
            "needs_background": "light"
          }
        }
      ]
    },
    {
      "cell_type": "markdown",
      "metadata": {
        "id": "YLrvL_fHpoC5"
      },
      "source": [
        "5. Test the network on the test data\n",
        "\n",
        "We have trained the network for 2 passes over the training dataset.\n",
        "But we need to check if the network has learnt anything at all.\n",
        "\n",
        "We will check this by predicting the class label that the neural network\n",
        "outputs, and checking it against the ground-truth. If the prediction is\n",
        "correct, we add the sample to the list of correct predictions.\n",
        "\n",
        "Okay, first step. Let us display an image from the test set to get familiar.\n",
        "\n"
      ]
    },
    {
      "cell_type": "code",
      "metadata": {
        "id": "nizbsvw9poC6",
        "colab": {
          "base_uri": "https://localhost:8080/",
          "height": 175
        },
        "outputId": "ea2f8786-1c43-4064-ed50-db1c31745583"
      },
      "source": [
        "dataiter = iter(testloader)\n",
        "images, labels = next(dataiter)\n",
        "images, labels = images.to(device), labels.to(device)\n",
        "\n",
        "# print images\n",
        "imshow(torchvision.utils.make_grid(images[:4].cpu()))\n",
        "print('GroundTruth: ', ' '.join('%5s' % classes[labels[j]] for j in range(4)))"
      ],
      "execution_count": null,
      "outputs": [
        {
          "output_type": "stream",
          "name": "stderr",
          "text": [
            "WARNING:matplotlib.image:Clipping input data to the valid range for imshow with RGB data ([0..1] for floats or [0..255] for integers).\n"
          ]
        },
        {
          "output_type": "stream",
          "name": "stdout",
          "text": [
            "GroundTruth:  plane   dog  bird truck\n"
          ]
        },
        {
          "output_type": "display_data",
          "data": {
            "text/plain": [
              "<Figure size 432x288 with 1 Axes>"
            ],
            "image/png": "[encoded data removed]"
          },
          "metadata": {
            "needs_background": "light"
          }
        }
      ]
    },
    {
      "cell_type": "markdown",
      "metadata": {
        "id": "DAx4QPHVpoC8"
      },
      "source": [
        "Okay, now let us see what the neural network thinks these examples above are:\n",
        "\n"
      ]
    },
    {
      "cell_type": "code",
      "metadata": {
        "id": "HVLjlssWpoC9"
      },
      "source": [
        "outputs = model(images)"
      ],
      "execution_count": null,
      "outputs": []
    },
    {
      "cell_type": "markdown",
      "metadata": {
        "id": "u8OTHZEApoC_"
      },
      "source": [
        "The outputs are energies for the 10 classes.\n",
        "Higher the energy for a class, the more the network\n",
        "thinks that the image is of the particular class.\n",
        "So, let's get the index of the highest energy:\n",
        "\n"
      ]
    },
    {
      "cell_type": "code",
      "metadata": {
        "id": "ABRIDW3lpoDA",
        "colab": {
          "base_uri": "https://localhost:8080/"
        },
        "outputId": "2c54933e-578c-478a-f482-92ccce393301"
      },
      "source": [
        "_, predicted = torch.max(outputs, 1)\n",
        "\n",
        "print('Predicted: ', ' '.join('%5s' % classes[predicted[j]]\n",
        "                              for j in range(4)))"
      ],
      "execution_count": null,
      "outputs": [
        {
          "output_type": "stream",
          "name": "stdout",
          "text": [
            "Predicted:  plane   dog  bird truck\n"
          ]
        }
      ]
    },
    {
      "cell_type": "markdown",
      "metadata": {
        "id": "2TV0TXL1poDC"
      },
      "source": [
        "The results seem pretty good.\n",
        "\n",
        "Let us look at how the network performs on the whole dataset.\n",
        "\n"
      ]
    },
    {
      "cell_type": "code",
      "metadata": {
        "id": "SZ4-5CESpoDD",
        "colab": {
          "base_uri": "https://localhost:8080/"
        },
        "outputId": "4d9e5067-c041-4141-c312-b6efbb90863b"
      },
      "source": [
        "correct = 0\n",
        "total = 0\n",
        "with torch.no_grad():\n",
        "    for data in testloader:\n",
        "        images, labels = data\n",
        "        images, labels = images.to(device), labels.to(device)\n",
        "        outputs = model(images)\n",
        "        _, predicted = torch.max(outputs.data, 1)\n",
        "        total += labels.size(0)\n",
        "        correct += (predicted == labels).sum().item()\n",
        "\n",
        "print('Accuracy of the network on the 10000 test images: %d %%' % (\n",
        "    100 * correct / total))"
      ],
      "execution_count": null,
      "outputs": [
        {
          "output_type": "stream",
          "name": "stdout",
          "text": [
            "Accuracy of the network on the 10000 test images: 88 %\n"
          ]
        }
      ]
    },
    {
      "cell_type": "markdown",
      "metadata": {
        "id": "eDdwPBl8poDF"
      },
      "source": [
        "That looks waaay better than chance, which is 10% accuracy (randomly picking\n",
        "a class out of 10 classes).\n",
        "Seems like the network learnt something.\n",
        "\n",
        "Hmmm, what are the classes that performed well, and the classes that did\n",
        "not perform well:\n",
        "\n"
      ]
    },
    {
      "cell_type": "code",
      "metadata": {
        "id": "pDNFuDEDpoDG",
        "colab": {
          "base_uri": "https://localhost:8080/"
        },
        "outputId": "8a855eef-084c-4664-d864-e35625509cfa"
      },
      "source": [
        "class_correct = list(0. for i in range(10))\n",
        "class_total = list(0. for i in range(10))\n",
        "with torch.no_grad():\n",
        "    for data in testloader:\n",
        "        images, labels = data\n",
        "        images, labels = images.to(device), labels.to(device)\n",
        "        outputs = model(images)\n",
        "        _, predicted = torch.max(outputs, 1)\n",
        "        c = (predicted == labels).squeeze()\n",
        "        for i in range(4):\n",
        "            label = labels[i]\n",
        "            class_correct[label] += c[i].item()\n",
        "            class_total[label] += 1\n",
        "\n",
        "\n",
        "for i in range(10):\n",
        "    print('Accuracy of %5s : %2d %%' % (\n",
        "        classes[i], 100 * class_correct[i] / class_total[i]))"
      ],
      "execution_count": null,
      "outputs": [
        {
          "output_type": "stream",
          "name": "stdout",
          "text": [
            "Accuracy of plane : 80 %\n",
            "Accuracy of   car : 95 %\n",
            "Accuracy of  bird : 78 %\n",
            "Accuracy of   cat : 77 %\n",
            "Accuracy of  deer : 97 %\n",
            "Accuracy of   dog : 72 %\n",
            "Accuracy of  frog : 88 %\n",
            "Accuracy of horse : 81 %\n",
            "Accuracy of  ship : 100 %\n",
            "Accuracy of truck : 93 %\n"
          ]
        }
      ]
    }
  ]
}