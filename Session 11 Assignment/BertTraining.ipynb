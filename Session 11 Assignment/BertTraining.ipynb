{
  "nbformat": 4,
  "nbformat_minor": 0,
  "metadata": {
    "colab": {
      "provenance": [],
      "authorship_tag": "ABX9TyPt2jbttU1s8x6b6iPoU4lu",
      "include_colab_link": true
    },
    "kernelspec": {
      "name": "python3",
      "display_name": "Python 3"
    },
    "language_info": {
      "name": "python"
    },
    "gpuClass": "standard",
    "accelerator": "GPU"
  },
  "cells": [
    {
      "cell_type": "markdown",
      "metadata": {
        "id": "view-in-github",
        "colab_type": "text"
      },
      "source": [
        "<a href=\"https://colab.research.google.com/github/DimpleB0501/eva8/blob/main/Session%2011%20Assignment/BertTraining.ipynb\" target=\"_parent\"><img src=\"https://colab.research.google.com/assets/colab-badge.svg\" alt=\"Open In Colab\"/></a>"
      ]
    },
    {
      "cell_type": "code",
      "source": [
        "from google.colab import drive\n",
        "drive.mount('/content/gdrive')"
      ],
      "metadata": {
        "colab": {
          "base_uri": "https://localhost:8080/"
        },
        "id": "9mNhZxeqheAa",
        "outputId": "0dd92227-5c13-4c8e-d91e-8846d17b53bf"
      },
      "execution_count": 1,
      "outputs": [
        {
          "output_type": "stream",
          "name": "stdout",
          "text": [
            "Mounted at /content/gdrive\n"
          ]
        }
      ]
    },
    {
      "cell_type": "markdown",
      "source": [
        "### Libs"
      ],
      "metadata": {
        "id": "HfH7XiDyfnGG"
      }
    },
    {
      "cell_type": "code",
      "execution_count": 2,
      "metadata": {
        "id": "Tx4SHHG1fPE7"
      },
      "outputs": [],
      "source": [
        "from torch.utils.data import Dataset\n",
        "import torch.nn.functional as F\n",
        "from collections import Counter\n",
        "from os.path import exists\n",
        "import torch.optim as optim\n",
        "import torch.nn as nn\n",
        "import numpy as np\n",
        "import random\n",
        "import torch\n",
        "import math\n",
        "import re"
      ]
    },
    {
      "cell_type": "markdown",
      "source": [
        "# Transformer"
      ],
      "metadata": {
        "id": "3990T_WkftxP"
      }
    },
    {
      "cell_type": "code",
      "source": [
        "def attention(q, k, v, mask = None, dropout = None):\n",
        "    scores = q.matmul(k.transpose(-2, -1))\n",
        "    scores /= math.sqrt(q.shape[-1])\n",
        "    \n",
        "    #mask\n",
        "    scores = scores if mask is None else scores.masked_fill(mask == 0, -1e3)\n",
        "    \n",
        "    scores = F.softmax(scores, dim = -1)\n",
        "    scores = dropout(scores) if dropout is not None else scores\n",
        "    output = scores.matmul(v)\n",
        "    return output\n",
        "\n",
        "class MultiHeadAttention(nn.Module):\n",
        "    def __init__(self, n_heads, out_dim, dropout=0.1):\n",
        "        super().__init__()\n",
        "        \n",
        "#        self.q_linear = nn.Linear(out_dim, out_dim)\n",
        "#        self.k_linear = nn.Linear(out_dim, out_dim)\n",
        "#        self.v_linear = nn.Linear(out_dim, out_dim)\n",
        "        self.linear = nn.Linear(out_dim, out_dim*3)\n",
        "\n",
        "        self.n_heads = n_heads\n",
        "        self.out_dim = out_dim\n",
        "        self.out_dim_per_head = out_dim // n_heads\n",
        "        self.out = nn.Linear(out_dim, out_dim)\n",
        "        self.dropout = nn.Dropout(dropout)\n",
        "    \n",
        "    def split_heads(self, t):\n",
        "        return t.reshape(t.shape[0], -1, self.n_heads, self.out_dim_per_head)\n",
        "    \n",
        "    def forward(self, x, y=None, mask=None):\n",
        "        #in decoder, y comes from encoder. In encoder, y=x\n",
        "        y = x if y is None else y\n",
        "        \n",
        "        qkv = self.linear(x) # BS * SEQ_LEN * (3*EMBED_SIZE_L)\n",
        "        q = qkv[:, :, :self.out_dim] # BS * SEQ_LEN * EMBED_SIZE_L\n",
        "        k = qkv[:, :, self.out_dim:self.out_dim*2] # BS * SEQ_LEN * EMBED_SIZE_L\n",
        "        v = qkv[:, :, self.out_dim*2:] # BS * SEQ_LEN * EMBED_SIZE_L\n",
        "        \n",
        "        #break into n_heads\n",
        "        q, k, v = [self.split_heads(t) for t in (q,k,v)]  # BS * SEQ_LEN * HEAD * EMBED_SIZE_P_HEAD\n",
        "        q, k, v = [t.transpose(1,2) for t in (q,k,v)]  # BS * HEAD * SEQ_LEN * EMBED_SIZE_P_HEAD\n",
        "        \n",
        "        #n_heads => attention => merge the heads => mix information\n",
        "        scores = attention(q, k, v, mask, self.dropout) # BS * HEAD * SEQ_LEN * EMBED_SIZE_P_HEAD\n",
        "        scores = scores.transpose(1,2).contiguous().view(scores.shape[0], -1, self.out_dim) # BS * SEQ_LEN * EMBED_SIZE_L\n",
        "        out = self.out(scores)  # BS * SEQ_LEN * EMBED_SIZE\n",
        "        \n",
        "        return out\n",
        "\n",
        "class FeedForward(nn.Module):\n",
        "    def __init__(self, inp_dim, inner_dim, dropout=0.1):\n",
        "        super().__init__()\n",
        "        self.linear1 = nn.Linear(inp_dim, inner_dim)\n",
        "        self.linear2 = nn.Linear(inner_dim, inp_dim)\n",
        "        self.dropout = nn.Dropout(dropout)\n",
        "    \n",
        "    def forward(self, x):\n",
        "        #inp => inner => relu => dropout => inner => inp\n",
        "        return self.linear2(self.dropout(F.relu(self.linear1(x)))) \n",
        "\n",
        "class EncoderLayer(nn.Module):\n",
        "    def __init__(self, n_heads, inner_transformer_size, inner_ff_size, dropout=0.1):\n",
        "        super().__init__()\n",
        "        self.mha = MultiHeadAttention(n_heads, inner_transformer_size, dropout)\n",
        "        self.ff = FeedForward(inner_transformer_size, inner_ff_size, dropout)\n",
        "        self.norm1 = nn.LayerNorm(inner_transformer_size)\n",
        "        self.norm2 = nn.LayerNorm(inner_transformer_size)\n",
        "        self.dropout1 = nn.Dropout(dropout)\n",
        "        self.dropout2 = nn.Dropout(dropout)\n",
        "    \n",
        "    def forward(self, x, mask=None):\n",
        "        x2 = self.norm1(x)\n",
        "        x = x + self.dropout1(self.mha(x2, mask=mask))\n",
        "        x2 = self.norm2(x)\n",
        "        x = x + self.dropout2(self.ff(x2))\n",
        "        return x\n",
        "\n",
        "class Transformer(nn.Module):\n",
        "    def __init__(self, n_code, n_heads, embed_size, inner_ff_size, n_embeddings, seq_len, dropout=.1):\n",
        "        super().__init__()\n",
        "        \n",
        "        #model input\n",
        "        self.embeddings = nn.Embedding(n_embeddings, embed_size)\n",
        "        self.pe = PositionalEmbedding(embed_size, seq_len)\n",
        "        \n",
        "        #backbone\n",
        "        encoders = []\n",
        "        for i in range(n_code):\n",
        "            encoders += [EncoderLayer(n_heads, embed_size, inner_ff_size, dropout)]\n",
        "        self.encoders = nn.ModuleList(encoders)\n",
        "        \n",
        "        #language model\n",
        "        self.norm = nn.LayerNorm(embed_size)\n",
        "        self.linear = nn.Linear(embed_size, n_embeddings, bias=False)\n",
        "                \n",
        "    \n",
        "    def forward(self, x):\n",
        "        x = self.embeddings(x)\n",
        "        x = x + self.pe(x)\n",
        "        for encoder in self.encoders:\n",
        "            x = encoder(x)\n",
        "        x = self.norm(x)\n",
        "        x = self.linear(x)\n",
        "        return x\n",
        "\n",
        "# Positional Embedding\n",
        "class PositionalEmbedding(nn.Module):\n",
        "    def __init__(self, d_model, max_seq_len = 80):\n",
        "        super().__init__()\n",
        "        self.d_model = d_model\n",
        "        pe = torch.zeros(max_seq_len, d_model)\n",
        "        pe.requires_grad = False\n",
        "        for pos in range(max_seq_len):\n",
        "            for i in range(0, d_model, 2):\n",
        "                pe[pos, i] = math.sin(pos / (10000 ** ((2 * i)/d_model)))\n",
        "                pe[pos, i + 1] = math.cos(pos / (10000 ** ((2 * (i + 1))/d_model)))\n",
        "        pe = pe.unsqueeze(0)\n",
        "        self.register_buffer('pe', pe)\n",
        "    \n",
        "    def forward(self, x):\n",
        "        return self.pe[:,:x.size(1)] #x.size(1) = seq_len"
      ],
      "metadata": {
        "id": "rVeH6weRfvni"
      },
      "execution_count": 3,
      "outputs": []
    },
    {
      "cell_type": "markdown",
      "source": [
        "# Dataset"
      ],
      "metadata": {
        "id": "VoI3iGskf2kH"
      }
    },
    {
      "cell_type": "code",
      "source": [
        "class SentencesDataset(Dataset):\n",
        "    #Init dataset\n",
        "    def __init__(self, sentences, vocab, seq_len):\n",
        "        dataset = self\n",
        "        \n",
        "        dataset.sentences = sentences\n",
        "        dataset.vocab = vocab + ['<ignore>', '<oov>', '<mask>']\n",
        "        dataset.vocab = {e:i for i, e in enumerate(dataset.vocab)} \n",
        "        dataset.rvocab = {v:k for k,v in dataset.vocab.items()}\n",
        "        dataset.seq_len = seq_len\n",
        "        \n",
        "        #special tags\n",
        "        dataset.IGNORE_IDX = dataset.vocab['<ignore>'] #replacement tag for tokens to ignore\n",
        "        dataset.OUT_OF_VOCAB_IDX = dataset.vocab['<oov>'] #replacement tag for unknown words\n",
        "        dataset.MASK_IDX = dataset.vocab['<mask>'] #replacement tag for the masked word prediction task\n",
        "    \n",
        "    \n",
        "    #fetch data\n",
        "    def __getitem__(self, index, p_random_mask=0.15):\n",
        "        dataset = self\n",
        "        \n",
        "        #while we don't have enough word to fill the sentence for a batch\n",
        "        s = []\n",
        "        while len(s) < dataset.seq_len:\n",
        "            s.extend(dataset.get_sentence_idx(index % len(dataset)))\n",
        "            index += 1\n",
        "        \n",
        "        #ensure that the sequence is of length seq_len\n",
        "        s = s[:dataset.seq_len]\n",
        "        [s.append(dataset.IGNORE_IDX) for i in range(dataset.seq_len - len(s))] #PAD ok\n",
        "        \n",
        "        #apply random mask\n",
        "        s = [(dataset.MASK_IDX, w) if random.random() < p_random_mask else (w, dataset.IGNORE_IDX) for w in s]\n",
        "        \n",
        "        return {'input': torch.Tensor([w[0] for w in s]).long(),\n",
        "                'target': torch.Tensor([w[1] for w in s]).long()}\n",
        "\n",
        "    #return length\n",
        "    def __len__(self):\n",
        "        return len(self.sentences)\n",
        "\n",
        "    #get words id\n",
        "    def get_sentence_idx(self, index):\n",
        "        dataset = self\n",
        "        s = dataset.sentences[index]\n",
        "        s = [dataset.vocab[w] if w in dataset.vocab else dataset.OUT_OF_VOCAB_IDX for w in s] \n",
        "        return s"
      ],
      "metadata": {
        "id": "-11M_b-of5xm"
      },
      "execution_count": 4,
      "outputs": []
    },
    {
      "cell_type": "markdown",
      "source": [
        "# Methods / Class"
      ],
      "metadata": {
        "id": "4Ia-h71Pf-Rs"
      }
    },
    {
      "cell_type": "code",
      "source": [
        "def get_batch(loader, loader_iter):\n",
        "    try:\n",
        "        batch = next(loader_iter)\n",
        "    except StopIteration:\n",
        "        loader_iter = iter(loader)\n",
        "        batch = next(loader_iter)\n",
        "    return batch, loader_iter"
      ],
      "metadata": {
        "id": "1aEUUmwAgCut"
      },
      "execution_count": 5,
      "outputs": []
    },
    {
      "cell_type": "markdown",
      "source": [
        "#Init"
      ],
      "metadata": {
        "id": "3RtaZEd8gGSA"
      }
    },
    {
      "cell_type": "code",
      "source": [
        "print('initializing..')\n",
        "batch_size = 1024\n",
        "seq_len = 20\n",
        "embed_size = 128\n",
        "inner_ff_size = embed_size * 4\n",
        "n_heads = 8\n",
        "n_code = 8\n",
        "n_vocab = 40000\n",
        "dropout = 0.1\n",
        "# n_workers = 12\n",
        "\n",
        "#optimizer\n",
        "optim_kwargs = {'lr':1e-4, 'weight_decay':1e-4, 'betas':(.9,.999)}"
      ],
      "metadata": {
        "colab": {
          "base_uri": "https://localhost:8080/"
        },
        "id": "Ay3jmS9CgJb5",
        "outputId": "30676e77-2cad-47a0-a96b-7ca53b2a001c"
      },
      "execution_count": 6,
      "outputs": [
        {
          "output_type": "stream",
          "name": "stdout",
          "text": [
            "initializing..\n"
          ]
        }
      ]
    },
    {
      "cell_type": "markdown",
      "source": [
        "# Loading text"
      ],
      "metadata": {
        "id": "mlgYoTEegOeP"
      }
    },
    {
      "cell_type": "code",
      "source": [
        "#1) load text\n",
        "print('loading text...')\n",
        "#pth = \"/content/gdrive/MyDrive/EVA8/session11/pathan_movie.txt\"\n",
        "pth = \"/content/gdrive/MyDrive/EVA8/session11/movie_review.txt\"\n",
        "sentences = open(pth).read().lower().split('\\n')\n",
        "\n",
        "#2) tokenize sentences (can be done during training, you can also use spacy udpipe)\n",
        "print('tokenizing sentences...')\n",
        "special_chars = ',?;.:/*!+-()[]{}\"\\'&'\n",
        "sentences = [re.sub(f'[{re.escape(special_chars)}]', ' \\g<0> ', s).split(' ') for s in sentences]\n",
        "sentences = [[w for w in s if len(w)] for s in sentences]\n",
        "\n",
        "#3) create vocab if not already created\n",
        "print('creating/loading vocab...')\n",
        "pth = \"/content/gdrive/MyDrive/EVA8/session11/vocab.txt\"\n",
        "if not exists(pth):\n",
        "    words = [w for s in sentences for w in s]\n",
        "    vocab = Counter(words).most_common(n_vocab) #keep the N most frequent words\n",
        "    vocab = [w[0] for w in vocab]\n",
        "    open(pth, 'w+').write('\\n'.join(vocab))\n",
        "else:\n",
        "    vocab = open(pth).read().split('\\n')\n",
        "\n",
        "#4) create dataset\n",
        "print('creating dataset...')\n",
        "dataset = SentencesDataset(sentences, vocab, seq_len)\n",
        "# kwargs = {'num_workers':n_workers, 'shuffle':True,  'drop_last':True, 'pin_memory':True, 'batch_size':batch_size}\n",
        "kwargs = {'shuffle':True,  'drop_last':True, 'pin_memory':True, 'batch_size':batch_size}\n",
        "data_loader = torch.utils.data.DataLoader(dataset, **kwargs)\n"
      ],
      "metadata": {
        "colab": {
          "base_uri": "https://localhost:8080/"
        },
        "id": "k9iMqkgrgQW0",
        "outputId": "7e169497-2c34-4a36-c424-567feac1600b"
      },
      "execution_count": 7,
      "outputs": [
        {
          "output_type": "stream",
          "name": "stdout",
          "text": [
            "loading text...\n",
            "tokenizing sentences...\n",
            "creating/loading vocab...\n",
            "creating dataset...\n"
          ]
        }
      ]
    },
    {
      "cell_type": "markdown",
      "source": [
        "# Model"
      ],
      "metadata": {
        "id": "VN6GsUTtgXch"
      }
    },
    {
      "cell_type": "code",
      "source": [
        "#init model\n",
        "print('initializing model...')\n",
        "model = Transformer(n_code, n_heads, embed_size, inner_ff_size, len(dataset.vocab), seq_len, dropout)\n",
        "model = model.cuda()"
      ],
      "metadata": {
        "colab": {
          "base_uri": "https://localhost:8080/"
        },
        "id": "4wYhrS14gaOJ",
        "outputId": "76cce3f8-f78c-46c1-8079-436ba339f819"
      },
      "execution_count": 8,
      "outputs": [
        {
          "output_type": "stream",
          "name": "stdout",
          "text": [
            "initializing model...\n"
          ]
        }
      ]
    },
    {
      "cell_type": "markdown",
      "source": [
        "# Optimizer"
      ],
      "metadata": {
        "id": "KqQ3BMXGgdIL"
      }
    },
    {
      "cell_type": "code",
      "source": [
        "print('initializing optimizer and loss...')\n",
        "optimizer = optim.Adam(model.parameters(), **optim_kwargs)\n",
        "loss_model = nn.CrossEntropyLoss(ignore_index=dataset.IGNORE_IDX)"
      ],
      "metadata": {
        "colab": {
          "base_uri": "https://localhost:8080/"
        },
        "id": "J1gPs-0GggZ8",
        "outputId": "70ae7bb6-46d5-4fe2-a523-9ca379896338"
      },
      "execution_count": 9,
      "outputs": [
        {
          "output_type": "stream",
          "name": "stdout",
          "text": [
            "initializing optimizer and loss...\n"
          ]
        }
      ]
    },
    {
      "cell_type": "markdown",
      "source": [
        "# Train"
      ],
      "metadata": {
        "id": "Px3T54tmgip2"
      }
    },
    {
      "cell_type": "code",
      "source": [
        "print('training...')\n",
        "print_each = 10\n",
        "model.train()\n",
        "batch_iter = iter(data_loader)\n",
        "n_iteration = 1000\n",
        "for it in range(n_iteration):\n",
        "    \n",
        "    #get batch\n",
        "    batch, batch_iter = get_batch(data_loader, batch_iter)\n",
        "    \n",
        "    #infer\n",
        "    masked_input = batch['input']\n",
        "    masked_target = batch['target']\n",
        "    \n",
        "    masked_input = masked_input.cuda(non_blocking=True)\n",
        "    masked_target = masked_target.cuda(non_blocking=True)\n",
        "    output = model(masked_input)\n",
        "    \n",
        "    #compute the cross entropy loss \n",
        "    output_v = output.view(-1,output.shape[-1])\n",
        "    target_v = masked_target.view(-1,1).squeeze()\n",
        "    loss = loss_model(output_v, target_v)\n",
        "    \n",
        "    #compute gradients\n",
        "    loss.backward()\n",
        "    \n",
        "    #apply gradients\n",
        "    optimizer.step()\n",
        "    \n",
        "    #print step\n",
        "    if it % print_each == 0:\n",
        "        print('it:', it, \n",
        "              ' | loss', np.round(loss.item(),2),\n",
        "              ' | Δw:', round(model.embeddings.weight.grad.abs().sum().item(),3))\n",
        "    \n",
        "    #reset gradients\n",
        "    optimizer.zero_grad()"
      ],
      "metadata": {
        "colab": {
          "base_uri": "https://localhost:8080/"
        },
        "id": "RgwaTg1cglKe",
        "outputId": "942574c9-fe56-4baf-884f-a864d6f71493"
      },
      "execution_count": 10,
      "outputs": [
        {
          "output_type": "stream",
          "name": "stdout",
          "text": [
            "training...\n",
            "it: 0  | loss 10.15  | Δw: 1.265\n",
            "it: 10  | loss 9.32  | Δw: 0.431\n",
            "it: 20  | loss 9.03  | Δw: 0.249\n",
            "it: 30  | loss 8.84  | Δw: 0.19\n",
            "it: 40  | loss 8.57  | Δw: 0.157\n",
            "it: 50  | loss 8.41  | Δw: 0.139\n",
            "it: 60  | loss 8.26  | Δw: 0.134\n",
            "it: 70  | loss 7.97  | Δw: 0.126\n",
            "it: 80  | loss 7.87  | Δw: 0.133\n",
            "it: 90  | loss 7.65  | Δw: 0.111\n",
            "it: 100  | loss 7.43  | Δw: 0.113\n",
            "it: 110  | loss 7.2  | Δw: 0.117\n",
            "it: 120  | loss 7.01  | Δw: 0.116\n",
            "it: 130  | loss 6.89  | Δw: 0.103\n",
            "it: 140  | loss 6.77  | Δw: 0.102\n",
            "it: 150  | loss 6.59  | Δw: 0.104\n",
            "it: 160  | loss 6.52  | Δw: 0.096\n",
            "it: 170  | loss 6.32  | Δw: 0.096\n",
            "it: 180  | loss 6.2  | Δw: 0.105\n",
            "it: 190  | loss 6.16  | Δw: 0.105\n",
            "it: 200  | loss 5.96  | Δw: 0.111\n",
            "it: 210  | loss 5.92  | Δw: 0.107\n",
            "it: 220  | loss 5.85  | Δw: 0.109\n",
            "it: 230  | loss 5.78  | Δw: 0.111\n",
            "it: 240  | loss 5.74  | Δw: 0.131\n",
            "it: 250  | loss 5.62  | Δw: 0.138\n",
            "it: 260  | loss 5.57  | Δw: 0.129\n",
            "it: 270  | loss 5.47  | Δw: 0.15\n",
            "it: 280  | loss 5.45  | Δw: 0.148\n",
            "it: 290  | loss 5.5  | Δw: 0.161\n",
            "it: 300  | loss 5.41  | Δw: 0.182\n",
            "it: 310  | loss 5.41  | Δw: 0.197\n",
            "it: 320  | loss 5.45  | Δw: 0.213\n",
            "it: 330  | loss 5.29  | Δw: 0.24\n",
            "it: 340  | loss 5.34  | Δw: 0.254\n",
            "it: 350  | loss 5.3  | Δw: 0.265\n",
            "it: 360  | loss 5.3  | Δw: 0.316\n",
            "it: 370  | loss 5.32  | Δw: 0.303\n",
            "it: 380  | loss 5.29  | Δw: 0.322\n",
            "it: 390  | loss 5.26  | Δw: 0.341\n",
            "it: 400  | loss 5.2  | Δw: 0.368\n",
            "it: 410  | loss 5.26  | Δw: 0.404\n",
            "it: 420  | loss 5.25  | Δw: 0.442\n",
            "it: 430  | loss 5.19  | Δw: 0.469\n",
            "it: 440  | loss 5.24  | Δw: 0.489\n",
            "it: 450  | loss 5.14  | Δw: 0.497\n",
            "it: 460  | loss 5.19  | Δw: 0.539\n",
            "it: 470  | loss 5.21  | Δw: 0.546\n",
            "it: 480  | loss 5.17  | Δw: 0.562\n",
            "it: 490  | loss 5.17  | Δw: 0.543\n",
            "it: 500  | loss 5.11  | Δw: 0.676\n",
            "it: 510  | loss 5.26  | Δw: 0.634\n",
            "it: 520  | loss 5.16  | Δw: 0.688\n",
            "it: 530  | loss 5.17  | Δw: 0.652\n",
            "it: 540  | loss 5.17  | Δw: 0.629\n",
            "it: 550  | loss 5.09  | Δw: 0.71\n",
            "it: 560  | loss 5.15  | Δw: 0.721\n",
            "it: 570  | loss 5.07  | Δw: 0.771\n",
            "it: 580  | loss 5.04  | Δw: 0.846\n",
            "it: 590  | loss 5.04  | Δw: 0.864\n",
            "it: 600  | loss 5.04  | Δw: 0.882\n",
            "it: 610  | loss 5.13  | Δw: 0.819\n",
            "it: 620  | loss 5.07  | Δw: 0.891\n",
            "it: 630  | loss 5.03  | Δw: 0.87\n",
            "it: 640  | loss 5.12  | Δw: 0.932\n",
            "it: 650  | loss 5.1  | Δw: 0.87\n",
            "it: 660  | loss 5.05  | Δw: 0.942\n",
            "it: 670  | loss 5.06  | Δw: 0.988\n",
            "it: 680  | loss 5.05  | Δw: 1.041\n",
            "it: 690  | loss 4.99  | Δw: 1.117\n",
            "it: 700  | loss 5.04  | Δw: 1.024\n",
            "it: 710  | loss 5.05  | Δw: 1.199\n",
            "it: 720  | loss 5.02  | Δw: 1.102\n",
            "it: 730  | loss 5.01  | Δw: 1.055\n",
            "it: 740  | loss 4.99  | Δw: 1.114\n",
            "it: 750  | loss 5.02  | Δw: 1.217\n",
            "it: 760  | loss 5.0  | Δw: 1.228\n",
            "it: 770  | loss 4.95  | Δw: 1.202\n",
            "it: 780  | loss 4.97  | Δw: 1.224\n",
            "it: 790  | loss 5.0  | Δw: 1.361\n",
            "it: 800  | loss 4.98  | Δw: 1.297\n",
            "it: 810  | loss 5.0  | Δw: 1.377\n",
            "it: 820  | loss 4.99  | Δw: 1.377\n",
            "it: 830  | loss 4.88  | Δw: 1.414\n",
            "it: 840  | loss 4.89  | Δw: 1.547\n",
            "it: 850  | loss 4.89  | Δw: 1.461\n",
            "it: 860  | loss 4.9  | Δw: 1.514\n",
            "it: 870  | loss 4.88  | Δw: 1.427\n",
            "it: 880  | loss 4.91  | Δw: 1.589\n",
            "it: 890  | loss 4.84  | Δw: 1.628\n",
            "it: 900  | loss 4.85  | Δw: 1.559\n",
            "it: 910  | loss 4.85  | Δw: 1.737\n",
            "it: 920  | loss 4.88  | Δw: 1.635\n",
            "it: 930  | loss 4.82  | Δw: 1.795\n",
            "it: 940  | loss 4.83  | Δw: 1.745\n",
            "it: 950  | loss 4.92  | Δw: 1.78\n",
            "it: 960  | loss 4.8  | Δw: 2.001\n",
            "it: 970  | loss 4.88  | Δw: 1.913\n",
            "it: 980  | loss 4.83  | Δw: 1.964\n",
            "it: 990  | loss 4.77  | Δw: 1.888\n"
          ]
        }
      ]
    },
    {
      "cell_type": "markdown",
      "source": [
        "# Results analysis"
      ],
      "metadata": {
        "id": "Gs0bsuO8gov_"
      }
    },
    {
      "cell_type": "code",
      "source": [
        "print('saving embeddings...')\n",
        "N = 3000\n",
        "np.savetxt('/content/gdrive/MyDrive/EVA8/session11/values.tsv', np.round(model.embeddings.weight.detach().cpu().numpy()[0:N], 2), delimiter='\\t', fmt='%1.2f')\n",
        "s = [dataset.rvocab[i] for i in range(N)]\n",
        "open('/content/gdrive/MyDrive/EVA8/session11/names.tsv', 'w+').write('\\n'.join(s) )\n",
        "\n",
        "\n",
        "print('end')"
      ],
      "metadata": {
        "colab": {
          "base_uri": "https://localhost:8080/"
        },
        "id": "RZL-mL2ogq1s",
        "outputId": "3de954b1-25b0-4d2b-dbf5-03e8bfc2c489"
      },
      "execution_count": 11,
      "outputs": [
        {
          "output_type": "stream",
          "name": "stdout",
          "text": [
            "saving embeddings...\n",
            "end\n"
          ]
        }
      ]
    }
  ]
}