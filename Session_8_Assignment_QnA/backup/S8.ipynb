{
  "cells": [
    {
      "cell_type": "markdown",
      "metadata": {
        "id": "view-in-github",
        "colab_type": "text"
      },
      "source": [
        "<a href=\"https://colab.research.google.com/github/DimpleB0501/eva8/blob/main/Session_8_Assignment_QnA/backup/S8.ipynb\" target=\"_parent\"><img src=\"https://colab.research.google.com/assets/colab-badge.svg\" alt=\"Open In Colab\"/></a>"
      ]
    },
    {
      "cell_type": "code",
      "execution_count": 1,
      "metadata": {
        "id": "QVbdg0z4poCc"
      },
      "outputs": [],
      "source": [
        "%matplotlib inline"
      ]
    },
    {
      "cell_type": "markdown",
      "metadata": {
        "id": "fPogbueepoCh"
      },
      "source": [
        "\n",
        "Training a Classifier\n",
        "=====================\n",
        "\n",
        "This is it. You have seen how to define neural networks, compute loss and make\n",
        "updates to the weights of the network.\n",
        "\n",
        "Now you might be thinking,\n",
        "\n",
        "What about data?\n",
        "----------------\n",
        "\n",
        "Generally, when you have to deal with image, text, audio or video data,\n",
        "you can use standard python packages that load data into a numpy array.\n",
        "Then you can convert this array into a ``torch.*Tensor``.\n",
        "\n",
        "-  For images, packages such as Pillow, OpenCV are useful\n",
        "-  For audio, packages such as scipy and librosa\n",
        "-  For text, either raw Python or Cython based loading, or NLTK and\n",
        "   SpaCy are useful\n",
        "\n",
        "Specifically for vision, we have created a package called\n",
        "``torchvision``, that has data loaders for common datasets such as\n",
        "Imagenet, CIFAR10, MNIST, etc. and data transformers for images, viz.,\n",
        "``torchvision.datasets`` and ``torch.utils.data.DataLoader``.\n",
        "\n",
        "This provides a huge convenience and avoids writing boilerplate code.\n",
        "\n",
        "For this tutorial, we will use the CIFAR10 dataset.\n",
        "It has the classes: ‘airplane’, ‘automobile’, ‘bird’, ‘cat’, ‘deer’,\n",
        "‘dog’, ‘frog’, ‘horse’, ‘ship’, ‘truck’. The images in CIFAR-10 are of\n",
        "size 3x32x32, i.e. 3-channel color images of 32x32 pixels in size.\n",
        "\n",
        ".. figure:: /_static/img/cifar10.png\n",
        "   :alt: cifar10\n",
        "\n",
        "   cifar10\n",
        "\n",
        "\n",
        "Training an image classifier\n",
        "----------------------------\n",
        "\n",
        "We will do the following steps in order:\n",
        "\n",
        "1. Load and normalizing the CIFAR10 training and test datasets using\n",
        "   ``torchvision``\n",
        "2. Define a Convolution Neural Network\n",
        "3. Define a loss function\n",
        "4. Train the network on the training data\n",
        "5. Test the network on the test data\n",
        "\n",
        "1. Loading and normalizing CIFAR10\n",
        "\n",
        "\n",
        "Using ``torchvision``, it’s extremely easy to load CIFAR10.\n",
        "\n"
      ]
    },
    {
      "cell_type": "code",
      "execution_count": 2,
      "metadata": {
        "id": "-yVpodAMpoCi"
      },
      "outputs": [],
      "source": [
        "import torch\n",
        "import torch.nn as nn\n",
        "import torch.nn.functional as F\n",
        "import torchvision\n",
        "import torchvision.transforms as transforms\n",
        "from tqdm import tqdm"
      ]
    },
    {
      "cell_type": "markdown",
      "metadata": {
        "id": "UJmyQBDnDPYL"
      },
      "source": [
        "# GPU Check"
      ]
    },
    {
      "cell_type": "code",
      "execution_count": 3,
      "metadata": {
        "colab": {
          "base_uri": "https://localhost:8080/"
        },
        "id": "5VOqljhjDRhK",
        "outputId": "e5b77a0e-d5e8-4e76-aed5-eaedfce738c0"
      },
      "outputs": [
        {
          "output_type": "stream",
          "name": "stdout",
          "text": [
            "CUDA Available? True\n"
          ]
        }
      ],
      "source": [
        "SEED = 1\n",
        "\n",
        "# CUDA?\n",
        "cuda = torch.cuda.is_available()\n",
        "print(\"CUDA Available?\", cuda)\n",
        "\n",
        "# For reproducibility\n",
        "torch.manual_seed(SEED)\n",
        "\n",
        "if cuda:\n",
        "    torch.cuda.manual_seed(SEED)"
      ]
    },
    {
      "cell_type": "markdown",
      "metadata": {
        "id": "5kjt4e2TpoCk"
      },
      "source": [
        "The output of torchvision datasets are PILImage images of range [0, 1].\n",
        "We transform them to Tensors of normalized range [-1, 1].\n",
        "\n"
      ]
    },
    {
      "cell_type": "markdown",
      "metadata": {
        "id": "-pstuQsR4xy5"
      },
      "source": [
        "# Ablumentations library\n"
      ]
    },
    {
      "cell_type": "code",
      "execution_count": 4,
      "metadata": {
        "colab": {
          "base_uri": "https://localhost:8080/"
        },
        "id": "Q7jVHOWgDE1o",
        "outputId": "1c81ff20-d93f-4f38-ca09-b2e0f7d753de"
      },
      "outputs": [
        {
          "output_type": "stream",
          "name": "stdout",
          "text": [
            "Looking in indexes: https://pypi.org/simple, https://us-python.pkg.dev/colab-wheels/public/simple/\n",
            "Requirement already satisfied: torchscan in /usr/local/lib/python3.8/dist-packages (0.1.2)\n",
            "Requirement already satisfied: torch<2.0.0,>=1.5.0 in /usr/local/lib/python3.8/dist-packages (from torchscan) (1.13.1+cu116)\n",
            "Requirement already satisfied: typing-extensions in /usr/local/lib/python3.8/dist-packages (from torch<2.0.0,>=1.5.0->torchscan) (4.5.0)\n"
          ]
        }
      ],
      "source": [
        "# Import dependencies\n",
        "!!pip install --upgrade albumentations\n",
        "!pip install torchscan"
      ]
    },
    {
      "cell_type": "code",
      "execution_count": 5,
      "metadata": {
        "id": "MoImO7nV5187"
      },
      "outputs": [],
      "source": [
        "import albumentations as A\n",
        "from albumentations.pytorch import ToTensorV2\n",
        "import copy\n",
        "import random\n",
        "import matplotlib.pyplot as plt"
      ]
    },
    {
      "cell_type": "code",
      "execution_count": 6,
      "metadata": {
        "id": "BdIKIsJye-8P"
      },
      "outputs": [],
      "source": [
        "classes = ('plane', 'car', 'bird', 'cat',\n",
        "           'deer', 'dog', 'frog', 'horse', 'ship', 'truck')"
      ]
    },
    {
      "cell_type": "code",
      "execution_count": 7,
      "metadata": {
        "id": "d2pr9zJ8fHZL"
      },
      "outputs": [],
      "source": [
        "batchsize = 512"
      ]
    },
    {
      "cell_type": "code",
      "execution_count": 8,
      "metadata": {
        "id": "fZKCc8WlebaJ"
      },
      "outputs": [],
      "source": [
        "def data_param ():\n",
        "    cifar_trainset = torchvision.datasets.CIFAR10(root='./data', train=True, download=True)\n",
        "    data = cifar_trainset.data / 255 # data is numpy array\n",
        "    mean = data.mean(axis = (0,1,2))\n",
        "    std = data.std(axis = (0,1,2))\n",
        "    return mean, std"
      ]
    },
    {
      "cell_type": "markdown",
      "metadata": {
        "id": "B4CRpZED8kTS"
      },
      "source": [
        "### implement (RandomCrop 32, 32 (after padding of 4) >> FlipLR >> Followed by CutOut(8, 8))\n",
        "\n"
      ]
    },
    {
      "cell_type": "code",
      "execution_count": 9,
      "metadata": {
        "id": "4u29Oval57Oz"
      },
      "outputs": [],
      "source": [
        "def train_transform_func(mean, std):\n",
        "    train_transform = A.Compose(\n",
        "      [\n",
        "      #RandomCrop 32, 32 (after padding of 4) \n",
        "      #FlipLR -pytorch library similar present as horizontal flip\n",
        "      #CutOut(8x8)\n",
        "      # Pad 4\n",
        "      A.PadIfNeeded(min_height=32+4, min_width=32+4),\n",
        "      A.RandomCrop(height = 32, width = 32, always_apply=False, p=1.0),\n",
        "      A.HorizontalFlip(p = 0.1), \n",
        "      A.Cutout(num_holes=1, max_h_size=8, max_w_size=8,  fill_value=tuple(mean)),\n",
        "      A.Normalize(mean=mean, std=std),\n",
        "      ToTensorV2(),\n",
        "      ]\n",
        "    )\n",
        "    return lambda img:train_transform(image=np.array(img))[\"image\"]"
      ]
    },
    {
      "cell_type": "code",
      "execution_count": 10,
      "metadata": {
        "id": "H4WnZYUseghR"
      },
      "outputs": [],
      "source": [
        "def test_transform_func(mean, std):\n",
        "    test_transform = transforms.Compose([\n",
        "                                        transforms.ToTensor(),\n",
        "                                        transforms.Normalize(mean=mean, std=std)\n",
        "                                        ])\n",
        "    return test_transform"
      ]
    },
    {
      "cell_type": "code",
      "execution_count": 11,
      "metadata": {
        "colab": {
          "base_uri": "https://localhost:8080/"
        },
        "id": "zhHAbg0vevJK",
        "outputId": "d99c0fe2-2a6c-40e5-d932-d8d59391a8ab"
      },
      "outputs": [
        {
          "output_type": "stream",
          "name": "stdout",
          "text": [
            "Files already downloaded and verified\n"
          ]
        },
        {
          "output_type": "stream",
          "name": "stderr",
          "text": [
            "/usr/local/lib/python3.8/dist-packages/albumentations/augmentations/dropout/cutout.py:49: FutureWarning: Cutout has been deprecated. Please use CoarseDropout\n",
            "  warnings.warn(\n"
          ]
        },
        {
          "output_type": "stream",
          "name": "stdout",
          "text": [
            "Files already downloaded and verified\n",
            "Files already downloaded and verified\n"
          ]
        }
      ],
      "source": [
        "mean, std = data_param()\n",
        "trainset = torchvision.datasets.CIFAR10(root='./data', train=True,\n",
        "                                        download=True, transform=train_transform_func(mean, std))\n",
        "testset = torchvision.datasets.CIFAR10(root='./data', train=False,\n",
        "                                       download=True, transform=test_transform_func(mean, std))"
      ]
    },
    {
      "cell_type": "code",
      "execution_count": 12,
      "metadata": {
        "id": "l2D_r7L6fMmo"
      },
      "outputs": [],
      "source": [
        "def split_data_set(trainset, testset, cuda = torch.cuda.is_available(), batch_size=256):\n",
        "    # dataloader arguments - something you'll fetch these from cmdprmt\n",
        "    dataloader_args = dict(shuffle=True, batch_size=batch_size, num_workers=8, pin_memory=True) if cuda else dict(shuffle=True, batch_size=64)\n",
        "\n",
        "    # train dataloader\n",
        "    trainloader = torch.utils.data.DataLoader(trainset, **dataloader_args)\n",
        "\n",
        "    # test dataloader\n",
        "    testloader = torch.utils.data.DataLoader(testset, **dataloader_args)\n",
        "    return trainloader, testloader"
      ]
    },
    {
      "cell_type": "code",
      "execution_count": 13,
      "metadata": {
        "colab": {
          "base_uri": "https://localhost:8080/"
        },
        "id": "TpSAb2rOfUdU",
        "outputId": "d7f0e9a7-fd9e-4144-d827-d26f1dc04f00"
      },
      "outputs": [
        {
          "output_type": "stream",
          "name": "stderr",
          "text": [
            "/usr/local/lib/python3.8/dist-packages/torch/utils/data/dataloader.py:554: UserWarning: This DataLoader will create 8 worker processes in total. Our suggested max number of worker in current system is 2, which is smaller than what this DataLoader is going to create. Please be aware that excessive worker creation might get DataLoader running slow or even freeze, lower the worker number to avoid potential slowness/freeze if necessary.\n",
            "  warnings.warn(_create_warning_msg(\n"
          ]
        }
      ],
      "source": [
        "trainloader, testloader = split_data_set(trainset, testset)"
      ]
    },
    {
      "cell_type": "markdown",
      "metadata": {
        "id": "_cj433rtpoCn"
      },
      "source": [
        "Let us show some of the training images, for fun.\n",
        "\n"
      ]
    },
    {
      "cell_type": "code",
      "execution_count": 14,
      "metadata": {
        "colab": {
          "base_uri": "https://localhost:8080/",
          "height": 175
        },
        "id": "daA7bADhpoCo",
        "outputId": "1aa71383-bd80-4e62-a77a-1c3c6e3d16c7"
      },
      "outputs": [
        {
          "output_type": "stream",
          "name": "stderr",
          "text": [
            "WARNING:matplotlib.image:Clipping input data to the valid range for imshow with RGB data ([0..1] for floats or [0..255] for integers).\n"
          ]
        },
        {
          "output_type": "stream",
          "name": "stdout",
          "text": [
            " ship  bird   cat   dog\n"
          ]
        },
        {
          "output_type": "display_data",
          "data": {
            "text/plain": [
              "<Figure size 432x288 with 1 Axes>"
            ],
            "image/png": "[encoded data removed]"
          },
          "metadata": {
            "needs_background": "light"
          }
        }
      ],
      "source": [
        "import matplotlib.pyplot as plt\n",
        "import numpy as np\n",
        "\n",
        "# functions to show an image\n",
        "\n",
        "\n",
        "def imshow(img):\n",
        "    img = img / 2 + 0.5     # unnormalize\n",
        "    npimg = img.numpy()\n",
        "    plt.imshow(np.transpose(npimg, (1, 2, 0)))\n",
        "\n",
        "\n",
        "# get some random training images\n",
        "dataiter = iter(trainloader)\n",
        "images, labels = next(dataiter)\n",
        "\n",
        "# show images\n",
        "imshow(torchvision.utils.make_grid(images[:4]))\n",
        "# print labels\n",
        "print(' '.join('%5s' % classes[labels[j]] for j in range(4)))"
      ]
    },
    {
      "cell_type": "markdown",
      "metadata": {
        "id": "28OpHA_LpoCq"
      },
      "source": [
        ":2. Define a Convolution Neural Network\n",
        "Copy the neural network from the Neural Networks section before and modify it to\n",
        "take 3-channel images (instead of 1-channel images as it was defined).\n",
        "\n"
      ]
    },
    {
      "cell_type": "code",
      "execution_count": 15,
      "metadata": {
        "id": "0jjLwLLQpoCr"
      },
      "outputs": [],
      "source": [
        "import torch.nn as nn\n",
        "import torch.nn.functional as F\n",
        "\n",
        "\n",
        "class Net(nn.Module):\n",
        "    def __init__(self):\n",
        "      super(Net, self).__init__()\n",
        "      # PrepLayer - Conv 3x3 s1, p1) >> BN >> RELU [64k]\n",
        "      self.prep_layer = nn.Sequential(\n",
        "        nn.Conv2d(3, 64, kernel_size=3, stride=1, padding=1, bias=False),\n",
        "        nn.BatchNorm2d(64),\n",
        "        nn.ReLU()\n",
        "      ) # 32 | 32\n",
        "\n",
        "      # Layer1 - X = Conv 3x3 (s1, p1) >> MaxPool2D >> BN >> RELU [128k], R1 = ResBlock( (Conv-BN-ReLU-Conv-BN-ReLU))(X) [128k], Add(X, R1)\n",
        "      self.layer1_x  = self.layer_X (64, 128) # 32 | 32 | 16\n",
        "      self.layer1_res =  self.layer_resnet(128, 128) # 16 | 16\n",
        "\n",
        "      # Layer 2 - Layer 2 - Conv 3x3 [256k] MaxPooling2D BN ReLU\n",
        "      self.layer2 = nn.Sequential(\n",
        "        nn.Conv2d(128, 256, kernel_size=3, stride=1, padding = 1, bias=False),\n",
        "        nn.MaxPool2d(2, 2),\n",
        "        nn.BatchNorm2d(256),\n",
        "        nn.ReLU()\n",
        "      ) # 16 | 16 | 8\n",
        "\n",
        "      # Layer 3 - X = Conv 3x3 (s1, p1) >> MaxPool2D >> BN >> RELU [512k] R2 = ResBlock( (Conv-BN-ReLU-Conv-BN-ReLU))(X) [512k] Add(X, R2)\n",
        "      self.layer3_x = self.layer_X(256, 512) # 8 | 8 | 4\n",
        "      self.layer3_res = self.layer_resnet(512, 512) # 4 | 4\n",
        "\n",
        "      # MaxPooling with Kernel Size 4\n",
        "      self.pool = nn.MaxPool2d(4, 4) # 4 | 1\n",
        "\n",
        "      # FC Layer \n",
        "      self.fc = nn.Linear(512, 10,bias=False)\n",
        "      \n",
        "\n",
        "    def layer_X(self, in_channels, out_channels):\n",
        "      layer = nn.Sequential(\n",
        "        nn.Conv2d(in_channels, out_channels, kernel_size=3, stride=1, padding=1, bias=False),\n",
        "        nn.MaxPool2d(2, 2), \n",
        "        nn.BatchNorm2d(out_channels),\n",
        "        nn.ReLU()\n",
        "      )\n",
        "      return layer\n",
        "\n",
        "    def layer_resnet(self, in_channels, out_channels):\n",
        "      res_layer = nn.Sequential(\n",
        "        nn.Conv2d(in_channels, out_channels, kernel_size=3, stride=1, padding=1, bias=False),\n",
        "        nn.BatchNorm2d(out_channels),\n",
        "        nn.ReLU(), \n",
        "        nn.Conv2d(in_channels, out_channels, kernel_size=3, stride=1, padding=1, bias=False),\n",
        "        nn.BatchNorm2d(out_channels),\n",
        "        nn.ReLU()\n",
        "      )\n",
        "      return res_layer\n",
        "\n",
        "    def forward(self, x):\n",
        "      x = self.prep_layer(x)\n",
        "\n",
        "      x = self.layer1_x(x)\n",
        "      res1  = self.layer1_res(x)\n",
        "      x = x + res1\n",
        "      \n",
        "      x = self.layer2(x)\n",
        "      \n",
        "      x = self.layer3_x(x)\n",
        "      res2 = self.layer3_res(x)\n",
        "      x = x + res2\n",
        "      \n",
        "      x = self.pool(x)\n",
        "      #print (\"here1:\",x.shape)\n",
        "      \n",
        "      x = x.view(x.size(0), -1)\n",
        "      #print (\"here2:\", x.shape)\n",
        "      x = self.fc(x)\n",
        "      return F.softmax(x, dim=-1)#SoftMax"
      ]
    },
    {
      "cell_type": "code",
      "execution_count": 16,
      "metadata": {
        "colab": {
          "base_uri": "https://localhost:8080/"
        },
        "id": "eh0B1rcPEcbX",
        "outputId": "d98da0a4-7859-4b9b-af2c-f1a40ac47a09"
      },
      "outputs": [
        {
          "output_type": "stream",
          "name": "stdout",
          "text": [
            "cuda\n",
            "_______________________________________________________________________________\n",
            "Layer           Type          Output Shape         Param #      Receptive field\n",
            "===============================================================================\n",
            "net             Net           (-1, 10)             0            1              \n",
            "├─prep_layer    Sequential    (-1, 64, 32, 32)     1,985        3              \n",
            "├─layer1_x      Sequential    (-1, 128, 16, 16)    74,241       6              \n",
            "├─layer1_res    Sequential    (-1, 128, 16, 16)    295,938      14             \n",
            "├─layer2        Sequential    (-1, 256, 8, 8)      295,937      20             \n",
            "├─layer3_x      Sequential    (-1, 512, 4, 4)      1,181,697    32             \n",
            "├─layer3_res    Sequential    (-1, 512, 4, 4)      4,722,690    64             \n",
            "├─pool          MaxPool2d     (-1, 512, 1, 1)      0            88             \n",
            "├─fc            Linear        (-1, 10)             5,120        88             \n",
            "===============================================================================\n",
            "Trainable params: 6,573,120\n",
            "Non-trainable params: 0\n",
            "Total params: 6,573,120\n",
            "-------------------------------------------------------------------------------\n",
            "Model size (params + buffers): 25.09 Mb\n",
            "Framework & CUDA overhead: 1106.89 Mb\n",
            "Total RAM usage: 1131.98 Mb\n",
            "-------------------------------------------------------------------------------\n",
            "Floating Point Operations on forward: 760.07 MFLOPs\n",
            "Multiply-Accumulations on forward: 380.35 MMACs\n",
            "Direct memory accesses on forward: 387.33 MDMAs\n",
            "_______________________________________________________________________________\n"
          ]
        }
      ],
      "source": [
        "from torchscan import summary\n",
        "\n",
        "device = torch.device(\"cuda\" if cuda else \"cpu\")\n",
        "print(device)\n",
        "model = Net().to(device)\n",
        "summary(model, (3, 32, 32), receptive_field=True, max_depth=1)"
      ]
    },
    {
      "cell_type": "markdown",
      "metadata": {
        "id": "Wdw2NNCUpoCu"
      },
      "source": [
        "3. Define a Loss function and optimizer\n",
        "\n",
        "Let's use a Classification Cross-Entropy loss and SGD with momentum.\n",
        "\n"
      ]
    },
    {
      "cell_type": "code",
      "execution_count": 17,
      "metadata": {
        "id": "M4xBbDROpoCv"
      },
      "outputs": [],
      "source": [
        "import torch.optim as optim\n",
        "\n",
        "optimizer = optim.SGD(model.parameters(), lr=0.001, momentum=0.9)"
      ]
    },
    {
      "cell_type": "markdown",
      "metadata": {
        "id": "O-odOrhdpoC2"
      },
      "source": [
        "4. Train the network\n",
        "\n",
        "This is when things start to get interesting.\n",
        "We simply have to loop over our data iterator, and feed the inputs to the\n",
        "network and optimize.\n",
        "\n",
        "Uses One Cycle Policy such that:\n",
        "Total Epochs = 24\n",
        "Max at Epoch = 5\n",
        "LRMIN = FIND\n",
        "LRMAX = FIND\n",
        "NO Annihilation\n",
        "\n"
      ]
    },
    {
      "cell_type": "code",
      "source": [
        "def get_lr(optimizer):\n",
        "    for param_group in optimizer.param_groups:\n",
        "        return param_group['lr']"
      ],
      "metadata": {
        "id": "mcYBshd1jKL5"
      },
      "execution_count": 18,
      "outputs": []
    },
    {
      "cell_type": "code",
      "execution_count": 30,
      "metadata": {
        "id": "54gEuIS8dBoC"
      },
      "outputs": [],
      "source": [
        "#training loops\n",
        "def train(model, device, train_loader, train_acc, train_loss, optimizer, scheduler, l_rate, criterion):\n",
        "\n",
        "    model.train()\n",
        "    pbar = tqdm(train_loader)\n",
        "\n",
        "    correct = 0\n",
        "    processed = 0\n",
        "\n",
        "    for batch_idx, (data, target) in enumerate(pbar):\n",
        "\n",
        "        ## Get data samples\n",
        "        data, target = data.to(device), target.to(device)\n",
        "\n",
        "        ## Init\n",
        "        optimizer.zero_grad()\n",
        "\n",
        "        ## Predict\n",
        "        y_pred = model(data)\n",
        "\n",
        "        ## Calculate loss\n",
        "        loss = criterion(y_pred, target)\n",
        "\n",
        "        #train_loss.append(loss.data.cpu().numpy().item())\n",
        "        train_loss.append(loss.item())\n",
        "\n",
        "        ## Backpropagation\n",
        "        loss.backward()\n",
        "\n",
        "        optimizer.step()\n",
        "        scheduler.step()\n",
        "\n",
        "        # record and update learning rate\n",
        "        l_rate.append(get_lr(optimizer))\n",
        "\n",
        "\n",
        "        ## Update pbar-tqdm\n",
        "\n",
        "        pred = y_pred.argmax(dim=1, keepdim=True)  # get the index of the max log-probability\n",
        "        correct += pred.eq(target.view_as(pred)).sum().item()\n",
        "        processed += len(data)\n",
        "\n",
        "        pbar.set_description(desc= f'Loss={loss.item()} Batch_id={batch_idx} Accuracy={100*correct/processed:0.2f}% learning_rate={l_rate[-1]:0.8f}')\n",
        "        train_acc.append(100*correct/processed)"
      ]
    },
    {
      "cell_type": "code",
      "execution_count": 20,
      "metadata": {
        "id": "96_qVzh_dHDQ"
      },
      "outputs": [],
      "source": [
        "# test loop\n",
        "def test(model, device, test_loader, test_acc, test_losses, criterion):\n",
        "    model.eval()\n",
        "    test_loss = 0\n",
        "    correct = 0\n",
        "    with torch.no_grad():\n",
        "        for data, target in test_loader:\n",
        "            data, target = data.to(device), target.to(device)\n",
        "            output = model(data)\n",
        "            test_loss += criterion(output, target).item()  # sum up batch loss\n",
        "            pred = output.argmax(dim=1, keepdim=True)  # get the index of the max log-probability\n",
        "            correct += pred.eq(target.view_as(pred)).sum().item()\n",
        "\n",
        "    test_loss /= len(test_loader.dataset)\n",
        "    test_losses.append(test_loss)\n",
        "\n",
        "    print('\\nTest set: Average loss: {:.4f}, Accuracy: {}/{} ({:.2f}%)\\n'.format(\n",
        "        test_loss, correct, len(test_loader.dataset),\n",
        "        100. * correct / len(test_loader.dataset)))\n",
        "\n",
        "    test_acc.append(100. * correct / len(test_loader.dataset))"
      ]
    },
    {
      "cell_type": "code",
      "execution_count": 21,
      "metadata": {
        "id": "-OgM0BHSdQGr"
      },
      "outputs": [],
      "source": [
        "def start_training_process(model, device, trainloader, testloader, optimizer='Adam', learning_rate = 0.01, epochs = 20):\n",
        "\n",
        "    # Hyperparameters\n",
        "    train_acc, train_losses, test_acc, test_losses, l_rate = [], [], [], [], []\n",
        "    if optimizer == 'Adam':\n",
        "      optimizer = torch.optim.Adam(model.parameters(), lr=learning_rate)\n",
        "    elif optimizer == 'SGD':\n",
        "      optimizer = torch.optim.SGD(model.parameters(), lr=learning_rate, momentum=0.9)\n",
        "\n",
        "    criterion = nn.CrossEntropyLoss()\n",
        "    scheduler = torch.optim.lr_scheduler.OneCycleLR(optimizer, max_lr = learning_rate, epochs = epochs, steps_per_epoch = len(trainloader), pct_start = 0.2) # pct_start = 0.2 (~5/24) since max_lr is required at Epoch 5\n",
        "\n",
        "    for epoch in range(epochs):\n",
        "        print(\"EPOCH:\", epoch + 1)\n",
        "        train(model, device, trainloader, train_acc, train_losses, optimizer, scheduler, l_rate, criterion)\n",
        "        test(model, device, testloader, test_acc, test_losses, criterion)\n",
        "\n",
        "\n",
        "    return train_acc, train_losses, test_acc, test_losses, l_rate"
      ]
    },
    {
      "cell_type": "markdown",
      "source": [
        "# Uses One Cycle Policy such that:\n",
        "Total Epochs = 24\n",
        "Max at Epoch = 5\n",
        "LRMIN = FIND\n",
        "LRMAX = FIND\n",
        "NO Annihilation"
      ],
      "metadata": {
        "id": "HQmQG33L1FuC"
      }
    },
    {
      "cell_type": "code",
      "source": [
        "# LR finder https://github.com/davidtvs/pytorch-lr-finder\n",
        "!pip install torch-lr-finder"
      ],
      "metadata": {
        "colab": {
          "base_uri": "https://localhost:8080/"
        },
        "id": "Tx1_XH0nsOi5",
        "outputId": "72ab4a9f-26f3-47f7-b88d-663ee77b7f14"
      },
      "execution_count": 22,
      "outputs": [
        {
          "output_type": "stream",
          "name": "stdout",
          "text": [
            "Looking in indexes: https://pypi.org/simple, https://us-python.pkg.dev/colab-wheels/public/simple/\n",
            "Requirement already satisfied: torch-lr-finder in /usr/local/lib/python3.8/dist-packages (0.2.1)\n",
            "Requirement already satisfied: packaging in /usr/local/lib/python3.8/dist-packages (from torch-lr-finder) (23.0)\n",
            "Requirement already satisfied: numpy in /usr/local/lib/python3.8/dist-packages (from torch-lr-finder) (1.21.6)\n",
            "Requirement already satisfied: tqdm in /usr/local/lib/python3.8/dist-packages (from torch-lr-finder) (4.64.1)\n",
            "Requirement already satisfied: matplotlib in /usr/local/lib/python3.8/dist-packages (from torch-lr-finder) (3.2.2)\n",
            "Requirement already satisfied: torch>=0.4.1 in /usr/local/lib/python3.8/dist-packages (from torch-lr-finder) (1.13.1+cu116)\n",
            "Requirement already satisfied: typing-extensions in /usr/local/lib/python3.8/dist-packages (from torch>=0.4.1->torch-lr-finder) (4.5.0)\n",
            "Requirement already satisfied: kiwisolver>=1.0.1 in /usr/local/lib/python3.8/dist-packages (from matplotlib->torch-lr-finder) (1.4.4)\n",
            "Requirement already satisfied: pyparsing!=2.0.4,!=2.1.2,!=2.1.6,>=2.0.1 in /usr/local/lib/python3.8/dist-packages (from matplotlib->torch-lr-finder) (3.0.9)\n",
            "Requirement already satisfied: python-dateutil>=2.1 in /usr/local/lib/python3.8/dist-packages (from matplotlib->torch-lr-finder) (2.8.2)\n",
            "Requirement already satisfied: cycler>=0.10 in /usr/local/lib/python3.8/dist-packages (from matplotlib->torch-lr-finder) (0.11.0)\n",
            "Requirement already satisfied: six>=1.5 in /usr/local/lib/python3.8/dist-packages (from python-dateutil>=2.1->matplotlib->torch-lr-finder) (1.15.0)\n"
          ]
        }
      ]
    },
    {
      "cell_type": "code",
      "source": [
        "from torch_lr_finder import LRFinder\n",
        "\n",
        "criterion = nn.CrossEntropyLoss()\n",
        "optimizer = torch.optim.Adam(model.parameters(), lr=1e-7, weight_decay=1e-2)\n",
        "lr_finder = LRFinder(model, optimizer, criterion, device=\"cuda\")\n",
        "lr_finder.range_test(trainloader, end_lr=100, num_iter=100)\n",
        "lr_finder.plot() # to inspect the loss-learning rate graph\n",
        "lr_finder.reset() # to reset the model and optimizer to their initial state"
      ],
      "metadata": {
        "colab": {
          "base_uri": "https://localhost:8080/",
          "height": 426,
          "referenced_widgets": [
            "5a33d89cdd334deeb8723ebd40d13ef4",
            "e4d3d3d2745547afa448b6599eafa272",
            "1f9247560d814b24bb2ae634cf937e17",
            "90ddc0da92794a6ead43a424638d8dba",
            "97a963d31f514b3a88cb49eb68702bf5",
            "8a85ec7defb04755a6e6db264814e910",
            "3cec0639ab7446ff940b29aa942a747f",
            "616a91d7e0c242b799d98efecec1fcbe",
            "85bbb3b7f40b408c9ead3414571effe6",
            "293cc956485b479db7f7d09888c29cb9",
            "71f7c9058e834992885141716f0118b1"
          ]
        },
        "id": "Rh8kt2d-sU7x",
        "outputId": "fea92c18-29f3-412c-c96a-8e6de6d1fabd"
      },
      "execution_count": 23,
      "outputs": [
        {
          "output_type": "stream",
          "name": "stderr",
          "text": [
            "/usr/local/lib/python3.8/dist-packages/torch/utils/data/dataloader.py:554: UserWarning: This DataLoader will create 8 worker processes in total. Our suggested max number of worker in current system is 2, which is smaller than what this DataLoader is going to create. Please be aware that excessive worker creation might get DataLoader running slow or even freeze, lower the worker number to avoid potential slowness/freeze if necessary.\n",
            "  warnings.warn(_create_warning_msg(\n"
          ]
        },
        {
          "output_type": "display_data",
          "data": {
            "text/plain": [
              "  0%|          | 0/100 [00:00<?, ?it/s]"
            ],
            "application/vnd.jupyter.widget-view+json": {
              "version_major": 2,
              "version_minor": 0,
              "model_id": "5a33d89cdd334deeb8723ebd40d13ef4"
            }
          },
          "metadata": {}
        },
        {
          "output_type": "stream",
          "name": "stdout",
          "text": [
            "Learning rate search finished. See the graph with {finder_name}.plot()\n",
            "LR suggestion: steepest gradient\n",
            "Suggested LR: 5.34E-04\n"
          ]
        },
        {
          "output_type": "display_data",
          "data": {
            "text/plain": [
              "<Figure size 432x288 with 1 Axes>"
            ],
            "image/png": "[encoded data removed]"
          },
          "metadata": {
            "needs_background": "light"
          }
        }
      ]
    },
    {
      "cell_type": "code",
      "source": [
        "print (\"LR finder:\", dir(lr_finder))"
      ],
      "metadata": {
        "colab": {
          "base_uri": "https://localhost:8080/"
        },
        "id": "iU1ZnlAKtmJ-",
        "outputId": "025ad6b5-76ee-46f4-ee3d-97b2bf727e6f"
      },
      "execution_count": 24,
      "outputs": [
        {
          "output_type": "stream",
          "name": "stdout",
          "text": [
            "LR finder: ['__class__', '__delattr__', '__dict__', '__dir__', '__doc__', '__eq__', '__format__', '__ge__', '__getattribute__', '__gt__', '__hash__', '__init__', '__init_subclass__', '__le__', '__lt__', '__module__', '__ne__', '__new__', '__reduce__', '__reduce_ex__', '__repr__', '__setattr__', '__sizeof__', '__str__', '__subclasshook__', '__weakref__', '_check_for_scheduler', '_move_to_device', '_set_learning_rate', '_train_batch', '_validate', 'best_loss', 'cache_dir', 'criterion', 'device', 'history', 'memory_cache', 'model', 'model_device', 'optimizer', 'plot', 'range_test', 'reset', 'state_cacher']\n"
          ]
        }
      ]
    },
    {
      "cell_type": "code",
      "source": [
        "_, lr_suggested = lr_finder.plot()"
      ],
      "metadata": {
        "colab": {
          "base_uri": "https://localhost:8080/",
          "height": 320
        },
        "id": "kTDwDjhwucd9",
        "outputId": "aa310977-3947-4f73-ad72-1a85be639ffe"
      },
      "execution_count": 25,
      "outputs": [
        {
          "output_type": "stream",
          "name": "stdout",
          "text": [
            "LR suggestion: steepest gradient\n",
            "Suggested LR: 5.34E-04\n"
          ]
        },
        {
          "output_type": "display_data",
          "data": {
            "text/plain": [
              "<Figure size 432x288 with 1 Axes>"
            ],
            "image/png": "[encoded data removed]"
          },
          "metadata": {
            "needs_background": "light"
          }
        }
      ]
    },
    {
      "cell_type": "code",
      "source": [
        "print (lr_suggested)"
      ],
      "metadata": {
        "colab": {
          "base_uri": "https://localhost:8080/"
        },
        "id": "OVqltucEwbk2",
        "outputId": "20feeb5e-18b8-41e0-82f6-52dd47b6f305"
      },
      "execution_count": 26,
      "outputs": [
        {
          "output_type": "stream",
          "name": "stdout",
          "text": [
            "0.000533669923120631\n"
          ]
        }
      ]
    },
    {
      "cell_type": "code",
      "execution_count": 27,
      "metadata": {
        "id": "YgBA4v-Pdoql",
        "colab": {
          "base_uri": "https://localhost:8080/"
        },
        "outputId": "13e19c8e-1d8f-4b70-8785-62518ef95ad8"
      },
      "outputs": [
        {
          "output_type": "stream",
          "name": "stdout",
          "text": [
            "here 0.000533669923120631\n",
            "EPOCH: 1\n"
          ]
        },
        {
          "output_type": "stream",
          "name": "stderr",
          "text": [
            "Loss=2.0661163330078125 Batch_id=195 Accuracy=34.74 learning_rate=0.00007439: 100%|██████████| 196/196 [00:26<00:00,  7.39it/s]\n"
          ]
        },
        {
          "output_type": "stream",
          "name": "stdout",
          "text": [
            "\n",
            "Test set: Average loss: 0.0080, Accuracy: 4640/10000 (46.40%)\n",
            "\n",
            "EPOCH: 2\n"
          ]
        },
        {
          "output_type": "stream",
          "name": "stderr",
          "text": [
            "Loss=1.9296104907989502 Batch_id=195 Accuracy=49.40 learning_rate=0.00021155: 100%|██████████| 196/196 [00:26<00:00,  7.40it/s]\n"
          ]
        },
        {
          "output_type": "stream",
          "name": "stdout",
          "text": [
            "\n",
            "Test set: Average loss: 0.0078, Accuracy: 5219/10000 (52.19%)\n",
            "\n",
            "EPOCH: 3\n"
          ]
        },
        {
          "output_type": "stream",
          "name": "stderr",
          "text": [
            "Loss=1.7002112865447998 Batch_id=195 Accuracy=60.60 learning_rate=0.00037603: 100%|██████████| 196/196 [00:24<00:00,  7.99it/s]\n"
          ]
        },
        {
          "output_type": "stream",
          "name": "stdout",
          "text": [
            "\n",
            "Test set: Average loss: 0.0074, Accuracy: 6104/10000 (61.04%)\n",
            "\n",
            "EPOCH: 4\n"
          ]
        },
        {
          "output_type": "stream",
          "name": "stderr",
          "text": [
            "Loss=1.7724332809448242 Batch_id=195 Accuracy=67.67 learning_rate=0.00049971: 100%|██████████| 196/196 [00:24<00:00,  8.00it/s]\n"
          ]
        },
        {
          "output_type": "stream",
          "name": "stdout",
          "text": [
            "\n",
            "Test set: Average loss: 0.0073, Accuracy: 6188/10000 (61.88%)\n",
            "\n",
            "EPOCH: 5\n"
          ]
        },
        {
          "output_type": "stream",
          "name": "stderr",
          "text": [
            "Loss=1.6987206935882568 Batch_id=195 Accuracy=74.52 learning_rate=0.00053352: 100%|██████████| 196/196 [00:25<00:00,  7.82it/s]\n"
          ]
        },
        {
          "output_type": "stream",
          "name": "stdout",
          "text": [
            "\n",
            "Test set: Average loss: 0.0068, Accuracy: 7700/10000 (77.00%)\n",
            "\n",
            "EPOCH: 6\n"
          ]
        },
        {
          "output_type": "stream",
          "name": "stderr",
          "text": [
            "Loss=1.7802966833114624 Batch_id=195 Accuracy=79.54 learning_rate=0.00052850: 100%|██████████| 196/196 [00:24<00:00,  7.99it/s]\n"
          ]
        },
        {
          "output_type": "stream",
          "name": "stdout",
          "text": [
            "\n",
            "Test set: Average loss: 0.0067, Accuracy: 7954/10000 (79.54%)\n",
            "\n",
            "EPOCH: 7\n"
          ]
        },
        {
          "output_type": "stream",
          "name": "stderr",
          "text": [
            "Loss=1.6360795497894287 Batch_id=195 Accuracy=82.56 learning_rate=0.00051649: 100%|██████████| 196/196 [00:24<00:00,  7.99it/s]\n"
          ]
        },
        {
          "output_type": "stream",
          "name": "stdout",
          "text": [
            "\n",
            "Test set: Average loss: 0.0067, Accuracy: 7880/10000 (78.80%)\n",
            "\n",
            "EPOCH: 8\n"
          ]
        },
        {
          "output_type": "stream",
          "name": "stderr",
          "text": [
            "Loss=1.6047184467315674 Batch_id=195 Accuracy=84.43 learning_rate=0.00049781: 100%|██████████| 196/196 [00:24<00:00,  7.99it/s]\n"
          ]
        },
        {
          "output_type": "stream",
          "name": "stdout",
          "text": [
            "\n",
            "Test set: Average loss: 0.0067, Accuracy: 7954/10000 (79.54%)\n",
            "\n",
            "EPOCH: 9\n"
          ]
        },
        {
          "output_type": "stream",
          "name": "stderr",
          "text": [
            "Loss=1.595629334449768 Batch_id=195 Accuracy=86.30 learning_rate=0.00047296: 100%|██████████| 196/196 [00:24<00:00,  8.01it/s]\n"
          ]
        },
        {
          "output_type": "stream",
          "name": "stdout",
          "text": [
            "\n",
            "Test set: Average loss: 0.0065, Accuracy: 8354/10000 (83.54%)\n",
            "\n",
            "EPOCH: 10\n"
          ]
        },
        {
          "output_type": "stream",
          "name": "stderr",
          "text": [
            "Loss=1.6252975463867188 Batch_id=195 Accuracy=87.77 learning_rate=0.00044260: 100%|██████████| 196/196 [00:24<00:00,  8.02it/s]\n"
          ]
        },
        {
          "output_type": "stream",
          "name": "stdout",
          "text": [
            "\n",
            "Test set: Average loss: 0.0065, Accuracy: 8282/10000 (82.82%)\n",
            "\n",
            "EPOCH: 11\n"
          ]
        },
        {
          "output_type": "stream",
          "name": "stderr",
          "text": [
            "Loss=1.584740161895752 Batch_id=195 Accuracy=88.85 learning_rate=0.00040755: 100%|██████████| 196/196 [00:24<00:00,  7.99it/s]\n"
          ]
        },
        {
          "output_type": "stream",
          "name": "stdout",
          "text": [
            "\n",
            "Test set: Average loss: 0.0065, Accuracy: 8509/10000 (85.09%)\n",
            "\n",
            "EPOCH: 12\n"
          ]
        },
        {
          "output_type": "stream",
          "name": "stderr",
          "text": [
            "Loss=1.618199348449707 Batch_id=195 Accuracy=90.01 learning_rate=0.00036874: 100%|██████████| 196/196 [00:24<00:00,  7.94it/s]\n"
          ]
        },
        {
          "output_type": "stream",
          "name": "stdout",
          "text": [
            "\n",
            "Test set: Average loss: 0.0064, Accuracy: 8557/10000 (85.57%)\n",
            "\n",
            "EPOCH: 13\n"
          ]
        },
        {
          "output_type": "stream",
          "name": "stderr",
          "text": [
            "Loss=1.548991322517395 Batch_id=195 Accuracy=91.10 learning_rate=0.00032721: 100%|██████████| 196/196 [00:24<00:00,  7.95it/s]\n"
          ]
        },
        {
          "output_type": "stream",
          "name": "stdout",
          "text": [
            "\n",
            "Test set: Average loss: 0.0063, Accuracy: 8767/10000 (87.67%)\n",
            "\n",
            "EPOCH: 14\n"
          ]
        },
        {
          "output_type": "stream",
          "name": "stderr",
          "text": [
            "Loss=1.5598138570785522 Batch_id=195 Accuracy=92.28 learning_rate=0.00028407: 100%|██████████| 196/196 [00:25<00:00,  7.83it/s]\n"
          ]
        },
        {
          "output_type": "stream",
          "name": "stdout",
          "text": [
            "\n",
            "Test set: Average loss: 0.0063, Accuracy: 8813/10000 (88.13%)\n",
            "\n",
            "EPOCH: 15\n"
          ]
        },
        {
          "output_type": "stream",
          "name": "stderr",
          "text": [
            "Loss=1.547970175743103 Batch_id=195 Accuracy=93.05 learning_rate=0.00024046: 100%|██████████| 196/196 [00:24<00:00,  7.99it/s]\n"
          ]
        },
        {
          "output_type": "stream",
          "name": "stdout",
          "text": [
            "\n",
            "Test set: Average loss: 0.0064, Accuracy: 8762/10000 (87.62%)\n",
            "\n",
            "EPOCH: 16\n"
          ]
        },
        {
          "output_type": "stream",
          "name": "stderr",
          "text": [
            "Loss=1.5251567363739014 Batch_id=195 Accuracy=93.85 learning_rate=0.00019756: 100%|██████████| 196/196 [00:24<00:00,  7.97it/s]\n"
          ]
        },
        {
          "output_type": "stream",
          "name": "stdout",
          "text": [
            "\n",
            "Test set: Average loss: 0.0063, Accuracy: 8924/10000 (89.24%)\n",
            "\n",
            "EPOCH: 17\n"
          ]
        },
        {
          "output_type": "stream",
          "name": "stderr",
          "text": [
            "Loss=1.4910144805908203 Batch_id=195 Accuracy=94.75 learning_rate=0.00015651: 100%|██████████| 196/196 [00:24<00:00,  7.97it/s]\n"
          ]
        },
        {
          "output_type": "stream",
          "name": "stdout",
          "text": [
            "\n",
            "Test set: Average loss: 0.0063, Accuracy: 8959/10000 (89.59%)\n",
            "\n",
            "EPOCH: 18\n"
          ]
        },
        {
          "output_type": "stream",
          "name": "stderr",
          "text": [
            "Loss=1.5180962085723877 Batch_id=195 Accuracy=95.28 learning_rate=0.00011841: 100%|██████████| 196/196 [00:24<00:00,  7.95it/s]\n"
          ]
        },
        {
          "output_type": "stream",
          "name": "stdout",
          "text": [
            "\n",
            "Test set: Average loss: 0.0062, Accuracy: 9022/10000 (90.22%)\n",
            "\n",
            "EPOCH: 19\n"
          ]
        },
        {
          "output_type": "stream",
          "name": "stderr",
          "text": [
            "Loss=1.484527349472046 Batch_id=195 Accuracy=95.91 learning_rate=0.00008427: 100%|██████████| 196/196 [00:24<00:00,  7.98it/s]\n"
          ]
        },
        {
          "output_type": "stream",
          "name": "stdout",
          "text": [
            "\n",
            "Test set: Average loss: 0.0063, Accuracy: 9028/10000 (90.28%)\n",
            "\n",
            "EPOCH: 20\n"
          ]
        },
        {
          "output_type": "stream",
          "name": "stderr",
          "text": [
            "Loss=1.5284616947174072 Batch_id=195 Accuracy=96.29 learning_rate=0.00005501: 100%|██████████| 196/196 [00:24<00:00,  7.95it/s]\n"
          ]
        },
        {
          "output_type": "stream",
          "name": "stdout",
          "text": [
            "\n",
            "Test set: Average loss: 0.0062, Accuracy: 9063/10000 (90.63%)\n",
            "\n",
            "EPOCH: 21\n"
          ]
        },
        {
          "output_type": "stream",
          "name": "stderr",
          "text": [
            "Loss=1.4629077911376953 Batch_id=195 Accuracy=96.35 learning_rate=0.00003140: 100%|██████████| 196/196 [00:24<00:00,  7.96it/s]\n"
          ]
        },
        {
          "output_type": "stream",
          "name": "stdout",
          "text": [
            "\n",
            "Test set: Average loss: 0.0062, Accuracy: 9085/10000 (90.85%)\n",
            "\n",
            "EPOCH: 22\n"
          ]
        },
        {
          "output_type": "stream",
          "name": "stderr",
          "text": [
            "Loss=1.4794094562530518 Batch_id=195 Accuracy=96.57 learning_rate=0.00001409: 100%|██████████| 196/196 [00:24<00:00,  8.01it/s]\n"
          ]
        },
        {
          "output_type": "stream",
          "name": "stdout",
          "text": [
            "\n",
            "Test set: Average loss: 0.0062, Accuracy: 9097/10000 (90.97%)\n",
            "\n",
            "EPOCH: 23\n"
          ]
        },
        {
          "output_type": "stream",
          "name": "stderr",
          "text": [
            "Loss=1.4751837253570557 Batch_id=195 Accuracy=96.76 learning_rate=0.00000353: 100%|██████████| 196/196 [00:24<00:00,  8.01it/s]\n"
          ]
        },
        {
          "output_type": "stream",
          "name": "stdout",
          "text": [
            "\n",
            "Test set: Average loss: 0.0062, Accuracy: 9103/10000 (91.03%)\n",
            "\n",
            "EPOCH: 24\n"
          ]
        },
        {
          "output_type": "stream",
          "name": "stderr",
          "text": [
            "Loss=1.4806313514709473 Batch_id=195 Accuracy=96.78 learning_rate=0.00000000: 100%|██████████| 196/196 [00:24<00:00,  7.97it/s]\n"
          ]
        },
        {
          "output_type": "stream",
          "name": "stdout",
          "text": [
            "\n",
            "Test set: Average loss: 0.0062, Accuracy: 9100/10000 (91.00%)\n",
            "\n"
          ]
        }
      ],
      "source": [
        "num_epochs = 24 # change to 20\n",
        "learning_rate = float(lr_suggested) #0.025 # change to 0.01\n",
        "print (\"here\", learning_rate)\n",
        "train_acc, train_losses, test_acc, test_losses, l_rate = start_training_process(model, device, trainloader, testloader, optimizer = \"Adam\", learning_rate = learning_rate, epochs = num_epochs)"
      ]
    },
    {
      "cell_type": "markdown",
      "metadata": {
        "id": "a9lKedXiaMMt"
      },
      "source": [
        "# Plotting train and test accuracys"
      ]
    },
    {
      "cell_type": "code",
      "execution_count": 28,
      "metadata": {
        "id": "-tENudgKaPPM",
        "colab": {
          "base_uri": "https://localhost:8080/",
          "height": 625
        },
        "outputId": "0879610a-a9da-4742-a60b-fe85751f43c3"
      },
      "outputs": [
        {
          "output_type": "execute_result",
          "data": {
            "text/plain": [
              "Text(0.5, 1.0, 'Test Accuracy')"
            ]
          },
          "metadata": {},
          "execution_count": 28
        },
        {
          "output_type": "display_data",
          "data": {
            "text/plain": [
              "<Figure size 1080x720 with 4 Axes>"
            ],
            "image/png": "[encoded data removed]"
          },
          "metadata": {
            "needs_background": "light"
          }
        }
      ],
      "source": [
        "fig, axs = plt.subplots(2,2,figsize=(15,10))\n",
        "axs[0, 0].plot(train_losses)\n",
        "axs[0, 0].set_title(\"Training Loss\")\n",
        "axs[1, 0].plot(train_acc)\n",
        "axs[1, 0].set_title(\"Training Accuracy\")\n",
        "axs[0, 1].plot(test_losses)\n",
        "axs[0, 1].set_title(\"Test Loss\")\n",
        "axs[1, 1].plot(test_acc)\n",
        "axs[1, 1].set_title(\"Test Accuracy\")"
      ]
    },
    {
      "cell_type": "markdown",
      "source": [
        "# Learning rate plot"
      ],
      "metadata": {
        "id": "0pJsP3sllCX7"
      }
    },
    {
      "cell_type": "code",
      "source": [
        "plt.plot(l_rate)\n",
        "plt.title(\"learning_rate\")\n",
        "plt.xlabel(\"epoch number (displayed_value / 200)\")\n",
        "plt.ylabel(\"learning rate\")\n",
        "plt.show()"
      ],
      "metadata": {
        "colab": {
          "base_uri": "https://localhost:8080/",
          "height": 296
        },
        "id": "e1RMXJhrlEab",
        "outputId": "784893c8-006e-4175-f99b-6863e3d8401b"
      },
      "execution_count": 29,
      "outputs": [
        {
          "output_type": "display_data",
          "data": {
            "text/plain": [
              "<Figure size 432x288 with 1 Axes>"
            ],
            "image/png": "[encoded data removed]"
          },
          "metadata": {
            "needs_background": "light"
          }
        }
      ]
    }
  ],
  "metadata": {
    "accelerator": "GPU",
    "colab": {
      "provenance": [],
      "include_colab_link": true
    },
    "gpuClass": "standard",
    "kernelspec": {
      "display_name": "Python 3",
      "name": "python3"
    },
    "language_info": {
      "codemirror_mode": {
        "name": "ipython",
        "version": 3
      },
      "file_extension": ".py",
      "mimetype": "text/x-python",
      "name": "python",
      "nbconvert_exporter": "python",
      "pygments_lexer": "ipython3",
      "version": "3.6.6"
    },
    "widgets": {
      "application/vnd.jupyter.widget-state+json": {
        "5a33d89cdd334deeb8723ebd40d13ef4": {
          "model_module": "@jupyter-widgets/controls",
          "model_name": "HBoxModel",
          "model_module_version": "1.5.0",
          "state": {
            "_dom_classes": [],
            "_model_module": "@jupyter-widgets/controls",
            "_model_module_version": "1.5.0",
            "_model_name": "HBoxModel",
            "_view_count": null,
            "_view_module": "@jupyter-widgets/controls",
            "_view_module_version": "1.5.0",
            "_view_name": "HBoxView",
            "box_style": "",
            "children": [
              "IPY_MODEL_e4d3d3d2745547afa448b6599eafa272",
              "IPY_MODEL_1f9247560d814b24bb2ae634cf937e17",
              "IPY_MODEL_90ddc0da92794a6ead43a424638d8dba"
            ],
            "layout": "IPY_MODEL_97a963d31f514b3a88cb49eb68702bf5"
          }
        },
        "e4d3d3d2745547afa448b6599eafa272": {
          "model_module": "@jupyter-widgets/controls",
          "model_name": "HTMLModel",
          "model_module_version": "1.5.0",
          "state": {
            "_dom_classes": [],
            "_model_module": "@jupyter-widgets/controls",
            "_model_module_version": "1.5.0",
            "_model_name": "HTMLModel",
            "_view_count": null,
            "_view_module": "@jupyter-widgets/controls",
            "_view_module_version": "1.5.0",
            "_view_name": "HTMLView",
            "description": "",
            "description_tooltip": null,
            "layout": "IPY_MODEL_8a85ec7defb04755a6e6db264814e910",
            "placeholder": "​",
            "style": "IPY_MODEL_3cec0639ab7446ff940b29aa942a747f",
            "value": "100%"
          }
        },
        "1f9247560d814b24bb2ae634cf937e17": {
          "model_module": "@jupyter-widgets/controls",
          "model_name": "FloatProgressModel",
          "model_module_version": "1.5.0",
          "state": {
            "_dom_classes": [],
            "_model_module": "@jupyter-widgets/controls",
            "_model_module_version": "1.5.0",
            "_model_name": "FloatProgressModel",
            "_view_count": null,
            "_view_module": "@jupyter-widgets/controls",
            "_view_module_version": "1.5.0",
            "_view_name": "ProgressView",
            "bar_style": "success",
            "description": "",
            "description_tooltip": null,
            "layout": "IPY_MODEL_616a91d7e0c242b799d98efecec1fcbe",
            "max": 100,
            "min": 0,
            "orientation": "horizontal",
            "style": "IPY_MODEL_85bbb3b7f40b408c9ead3414571effe6",
            "value": 100
          }
        },
        "90ddc0da92794a6ead43a424638d8dba": {
          "model_module": "@jupyter-widgets/controls",
          "model_name": "HTMLModel",
          "model_module_version": "1.5.0",
          "state": {
            "_dom_classes": [],
            "_model_module": "@jupyter-widgets/controls",
            "_model_module_version": "1.5.0",
            "_model_name": "HTMLModel",
            "_view_count": null,
            "_view_module": "@jupyter-widgets/controls",
            "_view_module_version": "1.5.0",
            "_view_name": "HTMLView",
            "description": "",
            "description_tooltip": null,
            "layout": "IPY_MODEL_293cc956485b479db7f7d09888c29cb9",
            "placeholder": "​",
            "style": "IPY_MODEL_71f7c9058e834992885141716f0118b1",
            "value": " 100/100 [00:13&lt;00:00,  7.37it/s]"
          }
        },
        "97a963d31f514b3a88cb49eb68702bf5": {
          "model_module": "@jupyter-widgets/base",
          "model_name": "LayoutModel",
          "model_module_version": "1.2.0",
          "state": {
            "_model_module": "@jupyter-widgets/base",
            "_model_module_version": "1.2.0",
            "_model_name": "LayoutModel",
            "_view_count": null,
            "_view_module": "@jupyter-widgets/base",
            "_view_module_version": "1.2.0",
            "_view_name": "LayoutView",
            "align_content": null,
            "align_items": null,
            "align_self": null,
            "border": null,
            "bottom": null,
            "display": null,
            "flex": null,
            "flex_flow": null,
            "grid_area": null,
            "grid_auto_columns": null,
            "grid_auto_flow": null,
            "grid_auto_rows": null,
            "grid_column": null,
            "grid_gap": null,
            "grid_row": null,
            "grid_template_areas": null,
            "grid_template_columns": null,
            "grid_template_rows": null,
            "height": null,
            "justify_content": null,
            "justify_items": null,
            "left": null,
            "margin": null,
            "max_height": null,
            "max_width": null,
            "min_height": null,
            "min_width": null,
            "object_fit": null,
            "object_position": null,
            "order": null,
            "overflow": null,
            "overflow_x": null,
            "overflow_y": null,
            "padding": null,
            "right": null,
            "top": null,
            "visibility": null,
            "width": null
          }
        },
        "8a85ec7defb04755a6e6db264814e910": {
          "model_module": "@jupyter-widgets/base",
          "model_name": "LayoutModel",
          "model_module_version": "1.2.0",
          "state": {
            "_model_module": "@jupyter-widgets/base",
            "_model_module_version": "1.2.0",
            "_model_name": "LayoutModel",
            "_view_count": null,
            "_view_module": "@jupyter-widgets/base",
            "_view_module_version": "1.2.0",
            "_view_name": "LayoutView",
            "align_content": null,
            "align_items": null,
            "align_self": null,
            "border": null,
            "bottom": null,
            "display": null,
            "flex": null,
            "flex_flow": null,
            "grid_area": null,
            "grid_auto_columns": null,
            "grid_auto_flow": null,
            "grid_auto_rows": null,
            "grid_column": null,
            "grid_gap": null,
            "grid_row": null,
            "grid_template_areas": null,
            "grid_template_columns": null,
            "grid_template_rows": null,
            "height": null,
            "justify_content": null,
            "justify_items": null,
            "left": null,
            "margin": null,
            "max_height": null,
            "max_width": null,
            "min_height": null,
            "min_width": null,
            "object_fit": null,
            "object_position": null,
            "order": null,
            "overflow": null,
            "overflow_x": null,
            "overflow_y": null,
            "padding": null,
            "right": null,
            "top": null,
            "visibility": null,
            "width": null
          }
        },
        "3cec0639ab7446ff940b29aa942a747f": {
          "model_module": "@jupyter-widgets/controls",
          "model_name": "DescriptionStyleModel",
          "model_module_version": "1.5.0",
          "state": {
            "_model_module": "@jupyter-widgets/controls",
            "_model_module_version": "1.5.0",
            "_model_name": "DescriptionStyleModel",
            "_view_count": null,
            "_view_module": "@jupyter-widgets/base",
            "_view_module_version": "1.2.0",
            "_view_name": "StyleView",
            "description_width": ""
          }
        },
        "616a91d7e0c242b799d98efecec1fcbe": {
          "model_module": "@jupyter-widgets/base",
          "model_name": "LayoutModel",
          "model_module_version": "1.2.0",
          "state": {
            "_model_module": "@jupyter-widgets/base",
            "_model_module_version": "1.2.0",
            "_model_name": "LayoutModel",
            "_view_count": null,
            "_view_module": "@jupyter-widgets/base",
            "_view_module_version": "1.2.0",
            "_view_name": "LayoutView",
            "align_content": null,
            "align_items": null,
            "align_self": null,
            "border": null,
            "bottom": null,
            "display": null,
            "flex": null,
            "flex_flow": null,
            "grid_area": null,
            "grid_auto_columns": null,
            "grid_auto_flow": null,
            "grid_auto_rows": null,
            "grid_column": null,
            "grid_gap": null,
            "grid_row": null,
            "grid_template_areas": null,
            "grid_template_columns": null,
            "grid_template_rows": null,
            "height": null,
            "justify_content": null,
            "justify_items": null,
            "left": null,
            "margin": null,
            "max_height": null,
            "max_width": null,
            "min_height": null,
            "min_width": null,
            "object_fit": null,
            "object_position": null,
            "order": null,
            "overflow": null,
            "overflow_x": null,
            "overflow_y": null,
            "padding": null,
            "right": null,
            "top": null,
            "visibility": null,
            "width": null
          }
        },
        "85bbb3b7f40b408c9ead3414571effe6": {
          "model_module": "@jupyter-widgets/controls",
          "model_name": "ProgressStyleModel",
          "model_module_version": "1.5.0",
          "state": {
            "_model_module": "@jupyter-widgets/controls",
            "_model_module_version": "1.5.0",
            "_model_name": "ProgressStyleModel",
            "_view_count": null,
            "_view_module": "@jupyter-widgets/base",
            "_view_module_version": "1.2.0",
            "_view_name": "StyleView",
            "bar_color": null,
            "description_width": ""
          }
        },
        "293cc956485b479db7f7d09888c29cb9": {
          "model_module": "@jupyter-widgets/base",
          "model_name": "LayoutModel",
          "model_module_version": "1.2.0",
          "state": {
            "_model_module": "@jupyter-widgets/base",
            "_model_module_version": "1.2.0",
            "_model_name": "LayoutModel",
            "_view_count": null,
            "_view_module": "@jupyter-widgets/base",
            "_view_module_version": "1.2.0",
            "_view_name": "LayoutView",
            "align_content": null,
            "align_items": null,
            "align_self": null,
            "border": null,
            "bottom": null,
            "display": null,
            "flex": null,
            "flex_flow": null,
            "grid_area": null,
            "grid_auto_columns": null,
            "grid_auto_flow": null,
            "grid_auto_rows": null,
            "grid_column": null,
            "grid_gap": null,
            "grid_row": null,
            "grid_template_areas": null,
            "grid_template_columns": null,
            "grid_template_rows": null,
            "height": null,
            "justify_content": null,
            "justify_items": null,
            "left": null,
            "margin": null,
            "max_height": null,
            "max_width": null,
            "min_height": null,
            "min_width": null,
            "object_fit": null,
            "object_position": null,
            "order": null,
            "overflow": null,
            "overflow_x": null,
            "overflow_y": null,
            "padding": null,
            "right": null,
            "top": null,
            "visibility": null,
            "width": null
          }
        },
        "71f7c9058e834992885141716f0118b1": {
          "model_module": "@jupyter-widgets/controls",
          "model_name": "DescriptionStyleModel",
          "model_module_version": "1.5.0",
          "state": {
            "_model_module": "@jupyter-widgets/controls",
            "_model_module_version": "1.5.0",
            "_model_name": "DescriptionStyleModel",
            "_view_count": null,
            "_view_module": "@jupyter-widgets/base",
            "_view_module_version": "1.2.0",
            "_view_name": "StyleView",
            "description_width": ""
          }
        }
      }
    }
  },
  "nbformat": 4,
  "nbformat_minor": 0
}